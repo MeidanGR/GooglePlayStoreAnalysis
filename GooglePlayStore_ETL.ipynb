{
  "nbformat": 4,
  "nbformat_minor": 0,
  "metadata": {
    "colab": {
      "name": "GooglePlayStore_DataPreprocessing.ipynb",
      "provenance": [],
      "collapsed_sections": [],
      "toc_visible": true,
      "authorship_tag": "ABX9TyMjOrSE7h0FJKvN4cly/NM6",
      "include_colab_link": true
    },
    "kernelspec": {
      "name": "python3",
      "display_name": "Python 3"
    }
  },
  "cells": [
    {
      "cell_type": "markdown",
      "metadata": {
        "id": "view-in-github",
        "colab_type": "text"
      },
      "source": [
        "<a href=\"https://colab.research.google.com/github/MeidanGR/GooglePlayStore_Preprocessing_Python/blob/main/GooglePlayStore_DataPreprocessing.ipynb\" target=\"_parent\"><img src=\"https://colab.research.google.com/assets/colab-badge.svg\" alt=\"Open In Colab\"/></a>"
      ]
    },
    {
      "cell_type": "markdown",
      "metadata": {
        "id": "-Gad_hVUwqGW"
      },
      "source": [
        "# **Google Play Store Data Preprocessing**\r\n",
        "\r\n",
        "---\r\n",
        "\r\n",
        "\r\n",
        "This data preprocessing progress has been established for an [academic project](https://sites.google.com/view/biplaystore/home?authuser=0) of a BI course. The data will be analyzed within the project.\r\n",
        "\r\n",
        "Major thanks to **Gautham Prakash** for publishing & maintenance this dataset, which you can find at https://www.kaggle.com/gauthamp10/google-playstore-apps\r\n"
      ]
    },
    {
      "cell_type": "markdown",
      "metadata": {
        "id": "XEwg6IMf-ew7"
      },
      "source": [
        "# **GOOGLE AUTH & LIBRARIES**"
      ]
    },
    {
      "cell_type": "code",
      "metadata": {
        "colab": {
          "base_uri": "https://localhost:8080/"
        },
        "id": "T2AXr9cs90aQ",
        "outputId": "5a1f6928-d5e6-4c1b-9f9f-3373790ba3f6"
      },
      "source": [
        "from google.colab import drive\r\n",
        "drive.mount('/content/drive')"
      ],
      "execution_count": 1,
      "outputs": [
        {
          "output_type": "stream",
          "text": [
            "Mounted at /content/drive\n"
          ],
          "name": "stdout"
        }
      ]
    },
    {
      "cell_type": "code",
      "metadata": {
        "id": "K6AN0alb-Ecd"
      },
      "source": [
        "import pandas as pd\r\n",
        "import numpy as np"
      ],
      "execution_count": 2,
      "outputs": []
    },
    {
      "cell_type": "markdown",
      "metadata": {
        "id": "gFk0C6C48ZGe"
      },
      "source": [
        "# **CSV LOAD**\r\n"
      ]
    },
    {
      "cell_type": "code",
      "metadata": {
        "colab": {
          "base_uri": "https://localhost:8080/",
          "height": 794
        },
        "id": "__oMmDYK_rTh",
        "outputId": "6bbed4b0-02fd-4a16-d4d9-1b2629e0f66c"
      },
      "source": [
        "#Loading csv\r\n",
        "df = pd.read_csv('/content/drive/My Drive/Google-Playstore.csv')\r\n",
        "\r\n",
        "print(\"Dataframe original shape is\", np.shape(df), end='\\n\\n')\r\n",
        "print(df.info())\r\n",
        "df.sample(2)"
      ],
      "execution_count": 3,
      "outputs": [
        {
          "output_type": "stream",
          "text": [
            "Dataframe original shape is (603047, 23)\n",
            "\n",
            "<class 'pandas.core.frame.DataFrame'>\n",
            "RangeIndex: 603047 entries, 0 to 603046\n",
            "Data columns (total 23 columns):\n",
            " #   Column             Non-Null Count   Dtype  \n",
            "---  ------             --------------   -----  \n",
            " 0   App Name           603046 non-null  object \n",
            " 1   App Id             603047 non-null  object \n",
            " 2   Category           603047 non-null  object \n",
            " 3   Rating             599287 non-null  float64\n",
            " 4   Rating Count       599287 non-null  float64\n",
            " 5   Installs           602875 non-null  object \n",
            " 6   Minimum Installs   602875 non-null  float64\n",
            " 7   Maximum Installs   603047 non-null  int64  \n",
            " 8   Free               603047 non-null  bool   \n",
            " 9   Price              603047 non-null  float64\n",
            " 10  Currency           602866 non-null  object \n",
            " 11  Size               603047 non-null  object \n",
            " 12  Minimum Android    602556 non-null  object \n",
            " 13  Developer Id       603045 non-null  object \n",
            " 14  Developer Website  423783 non-null  object \n",
            " 15  Developer Email    603010 non-null  object \n",
            " 16  Released           570769 non-null  object \n",
            " 17  Last Updated       603047 non-null  object \n",
            " 18  Content Rating     603047 non-null  object \n",
            " 19  Privacy Policy     517662 non-null  object \n",
            " 20  Ad Supported       603047 non-null  bool   \n",
            " 21  In App Purchases   603047 non-null  bool   \n",
            " 22  Editors Choice     603047 non-null  bool   \n",
            "dtypes: bool(4), float64(4), int64(1), object(14)\n",
            "memory usage: 89.7+ MB\n",
            "None\n"
          ],
          "name": "stdout"
        },
        {
          "output_type": "execute_result",
          "data": {
            "text/html": [
              "<div>\n",
              "<style scoped>\n",
              "    .dataframe tbody tr th:only-of-type {\n",
              "        vertical-align: middle;\n",
              "    }\n",
              "\n",
              "    .dataframe tbody tr th {\n",
              "        vertical-align: top;\n",
              "    }\n",
              "\n",
              "    .dataframe thead th {\n",
              "        text-align: right;\n",
              "    }\n",
              "</style>\n",
              "<table border=\"1\" class=\"dataframe\">\n",
              "  <thead>\n",
              "    <tr style=\"text-align: right;\">\n",
              "      <th></th>\n",
              "      <th>App Name</th>\n",
              "      <th>App Id</th>\n",
              "      <th>Category</th>\n",
              "      <th>Rating</th>\n",
              "      <th>Rating Count</th>\n",
              "      <th>Installs</th>\n",
              "      <th>Minimum Installs</th>\n",
              "      <th>Maximum Installs</th>\n",
              "      <th>Free</th>\n",
              "      <th>Price</th>\n",
              "      <th>Currency</th>\n",
              "      <th>Size</th>\n",
              "      <th>Minimum Android</th>\n",
              "      <th>Developer Id</th>\n",
              "      <th>Developer Website</th>\n",
              "      <th>Developer Email</th>\n",
              "      <th>Released</th>\n",
              "      <th>Last Updated</th>\n",
              "      <th>Content Rating</th>\n",
              "      <th>Privacy Policy</th>\n",
              "      <th>Ad Supported</th>\n",
              "      <th>In App Purchases</th>\n",
              "      <th>Editors Choice</th>\n",
              "    </tr>\n",
              "  </thead>\n",
              "  <tbody>\n",
              "    <tr>\n",
              "      <th>60802</th>\n",
              "      <td>Attitude Shayari in Hindi</td>\n",
              "      <td>com.best.djattitudeshayari</td>\n",
              "      <td>Entertainment</td>\n",
              "      <td>4.4</td>\n",
              "      <td>84.0</td>\n",
              "      <td>10,000+</td>\n",
              "      <td>10000.0</td>\n",
              "      <td>41546</td>\n",
              "      <td>True</td>\n",
              "      <td>0.0</td>\n",
              "      <td>USD</td>\n",
              "      <td>12M</td>\n",
              "      <td>4.1 and up</td>\n",
              "      <td>Android Rock App</td>\n",
              "      <td>NaN</td>\n",
              "      <td>ambanidj90@gmail.com</td>\n",
              "      <td>Dec 2, 2016</td>\n",
              "      <td>27/02/2019 15:26</td>\n",
              "      <td>Everyone</td>\n",
              "      <td>http://todaydealscoupon.com/Apps/aatitudestatu...</td>\n",
              "      <td>True</td>\n",
              "      <td>False</td>\n",
              "      <td>False</td>\n",
              "    </tr>\n",
              "    <tr>\n",
              "      <th>568662</th>\n",
              "      <td>USA Hockey Mobile Coach</td>\n",
              "      <td>com.usahockey.android.usahockey</td>\n",
              "      <td>Sports</td>\n",
              "      <td>4.8</td>\n",
              "      <td>1031.0</td>\n",
              "      <td>50,000+</td>\n",
              "      <td>50000.0</td>\n",
              "      <td>79979</td>\n",
              "      <td>True</td>\n",
              "      <td>0.0</td>\n",
              "      <td>USD</td>\n",
              "      <td>9.5M</td>\n",
              "      <td>4.4 and up</td>\n",
              "      <td>USA Hockey, Inc.</td>\n",
              "      <td>http://www.usahockey.com</td>\n",
              "      <td>usahmobilecoachassistance@gmail.com</td>\n",
              "      <td>Oct 18, 2012</td>\n",
              "      <td>12/09/2018 21:19</td>\n",
              "      <td>Everyone</td>\n",
              "      <td>https://www.usahockey.com/termsofuse</td>\n",
              "      <td>False</td>\n",
              "      <td>True</td>\n",
              "      <td>False</td>\n",
              "    </tr>\n",
              "  </tbody>\n",
              "</table>\n",
              "</div>"
            ],
            "text/plain": [
              "                         App Name  ... Editors Choice\n",
              "60802   Attitude Shayari in Hindi  ...          False\n",
              "568662    USA Hockey Mobile Coach  ...          False\n",
              "\n",
              "[2 rows x 23 columns]"
            ]
          },
          "metadata": {
            "tags": []
          },
          "execution_count": 3
        }
      ]
    },
    {
      "cell_type": "markdown",
      "metadata": {
        "id": "k4jCiMRNCqTV"
      },
      "source": [
        "# **DATA FILTERING**\r\n",
        "## Agenda: \r\n",
        "Data reduction down to ~100K rows, and only relavent columns for a decent dataframe volume, shape, & a faster run in Google Data Studio.\r\n",
        "\r\n",
        "## Guidelines:\r\n",
        "- **Minimum Android** is the minimum android version which allowes operation for the app. The mose popular values were found: 4.1\\4.0.3\\6.0 and up & Varies with device.\r\n",
        "- **Size** must exceed 1MB.\r\n",
        "- **Currency** will be USD only.\r\n",
        "- **Last updated** during 2020.\r\n",
        "- Irrelevant columns filtering.\r\n"
      ]
    },
    {
      "cell_type": "code",
      "metadata": {
        "id": "9oZc6jq8-gDP"
      },
      "source": [
        "#Coloumn labels space fix\r\n",
        "df.columns = [x.replace(\" \", \"_\") for x in df.columns]\r\n",
        "\r\n",
        "#Rows SELECT\r\n",
        "df = df.query('(Minimum_Android == \"4.1 and up\" | Minimum_Android == \"4.0.3 and up\" | Minimum_Android == \"Varies with device\" | \\\r\n",
        "Minimum_Android == \"6.0 and up\") & not Size.str.endswith(\"k\") & Currency == \"USD\" & Last_Updated.str.contains(\"2020\")',engine='python')\r\n",
        "\r\n",
        "#Coloumns FILTER\r\n",
        "df = df.filter(items=['App_Name', 'Category', 'Rating', 'Rating_Count', 'Installs','Maximum_Installs', 'Price', 'Size','Released','Last_Updated','Ad_Supported', 'In_App_Purchases'])\r\n",
        "\r\n",
        "#Early null creation\r\n",
        "df['Size'] = df['Size'].replace(to_replace=\"Varies with device\", #turning \"Varies with device\" to null.\r\n",
        "                                   value = np.nan)\r\n",
        "#Saving a copy of dataframe\r\n",
        "dfcopy = df.copy(deep=True)\r\n"
      ],
      "execution_count": 4,
      "outputs": []
    },
    {
      "cell_type": "code",
      "metadata": {
        "colab": {
          "base_uri": "https://localhost:8080/",
          "height": 546
        },
        "id": "AOYdQNUXWTdg",
        "outputId": "8b39c52e-f0fe-4ad7-fb8b-f39e81f06a53"
      },
      "source": [
        "print(\"Dataframe reduced shape is\", np.shape(df))\r\n",
        "df.sample(10)"
      ],
      "execution_count": 5,
      "outputs": [
        {
          "output_type": "stream",
          "text": [
            "Dataframe reduced shape is (112092, 12)\n"
          ],
          "name": "stdout"
        },
        {
          "output_type": "execute_result",
          "data": {
            "text/html": [
              "<div>\n",
              "<style scoped>\n",
              "    .dataframe tbody tr th:only-of-type {\n",
              "        vertical-align: middle;\n",
              "    }\n",
              "\n",
              "    .dataframe tbody tr th {\n",
              "        vertical-align: top;\n",
              "    }\n",
              "\n",
              "    .dataframe thead th {\n",
              "        text-align: right;\n",
              "    }\n",
              "</style>\n",
              "<table border=\"1\" class=\"dataframe\">\n",
              "  <thead>\n",
              "    <tr style=\"text-align: right;\">\n",
              "      <th></th>\n",
              "      <th>App_Name</th>\n",
              "      <th>Category</th>\n",
              "      <th>Rating</th>\n",
              "      <th>Rating_Count</th>\n",
              "      <th>Installs</th>\n",
              "      <th>Maximum_Installs</th>\n",
              "      <th>Price</th>\n",
              "      <th>Size</th>\n",
              "      <th>Released</th>\n",
              "      <th>Last_Updated</th>\n",
              "      <th>Ad_Supported</th>\n",
              "      <th>In_App_Purchases</th>\n",
              "    </tr>\n",
              "  </thead>\n",
              "  <tbody>\n",
              "    <tr>\n",
              "      <th>489279</th>\n",
              "      <td>Shiny Rose Keyboard Theme</td>\n",
              "      <td>Personalization</td>\n",
              "      <td>4.4</td>\n",
              "      <td>7.0</td>\n",
              "      <td>1,000+</td>\n",
              "      <td>1065</td>\n",
              "      <td>0.00</td>\n",
              "      <td>67M</td>\n",
              "      <td>Nov 29, 2018</td>\n",
              "      <td>20/02/2020 12:33</td>\n",
              "      <td>False</td>\n",
              "      <td>False</td>\n",
              "    </tr>\n",
              "    <tr>\n",
              "      <th>293586</th>\n",
              "      <td>Jump Rope Workout Lite</td>\n",
              "      <td>Health &amp; Fitness</td>\n",
              "      <td>3.5</td>\n",
              "      <td>59.0</td>\n",
              "      <td>10,000+</td>\n",
              "      <td>30195</td>\n",
              "      <td>0.00</td>\n",
              "      <td>31M</td>\n",
              "      <td>Dec 29, 2015</td>\n",
              "      <td>25/04/2020 18:26</td>\n",
              "      <td>True</td>\n",
              "      <td>False</td>\n",
              "    </tr>\n",
              "    <tr>\n",
              "      <th>503027</th>\n",
              "      <td>Solitaire Tripeaks: Farm Adventure</td>\n",
              "      <td>Card</td>\n",
              "      <td>4.6</td>\n",
              "      <td>65386.0</td>\n",
              "      <td>1,000,000+</td>\n",
              "      <td>2763217</td>\n",
              "      <td>0.00</td>\n",
              "      <td>7.3M</td>\n",
              "      <td>Jul 29, 2019</td>\n",
              "      <td>02/07/2020 18:56</td>\n",
              "      <td>True</td>\n",
              "      <td>True</td>\n",
              "    </tr>\n",
              "    <tr>\n",
              "      <th>290352</th>\n",
              "      <td>jetAudio HD Music Player</td>\n",
              "      <td>Music &amp; Audio</td>\n",
              "      <td>4.4</td>\n",
              "      <td>162021.0</td>\n",
              "      <td>10,000,000+</td>\n",
              "      <td>14612557</td>\n",
              "      <td>0.00</td>\n",
              "      <td>31M</td>\n",
              "      <td>May 22, 2012</td>\n",
              "      <td>18/06/2020 1:33</td>\n",
              "      <td>True</td>\n",
              "      <td>True</td>\n",
              "    </tr>\n",
              "    <tr>\n",
              "      <th>465378</th>\n",
              "      <td>Reverse Video: Reverse video effect &amp; Rewind v...</td>\n",
              "      <td>Video Players &amp; Editors</td>\n",
              "      <td>3.7</td>\n",
              "      <td>1374.0</td>\n",
              "      <td>500,000+</td>\n",
              "      <td>613953</td>\n",
              "      <td>0.00</td>\n",
              "      <td>6.4M</td>\n",
              "      <td>Jul 18, 2019</td>\n",
              "      <td>04/02/2020 14:29</td>\n",
              "      <td>True</td>\n",
              "      <td>False</td>\n",
              "    </tr>\n",
              "    <tr>\n",
              "      <th>263682</th>\n",
              "      <td>Hunting Calls HD</td>\n",
              "      <td>Sports</td>\n",
              "      <td>4.0</td>\n",
              "      <td>65.0</td>\n",
              "      <td>10,000+</td>\n",
              "      <td>22080</td>\n",
              "      <td>0.00</td>\n",
              "      <td>18M</td>\n",
              "      <td>Mar 25, 2015</td>\n",
              "      <td>03/04/2020 23:32</td>\n",
              "      <td>True</td>\n",
              "      <td>False</td>\n",
              "    </tr>\n",
              "    <tr>\n",
              "      <th>190420</th>\n",
              "      <td>English - Azerbaijani</td>\n",
              "      <td>Education</td>\n",
              "      <td>4.1</td>\n",
              "      <td>620.0</td>\n",
              "      <td>100,000+</td>\n",
              "      <td>104995</td>\n",
              "      <td>0.00</td>\n",
              "      <td>23M</td>\n",
              "      <td>Sep 24, 2012</td>\n",
              "      <td>20/02/2020 8:18</td>\n",
              "      <td>True</td>\n",
              "      <td>True</td>\n",
              "    </tr>\n",
              "    <tr>\n",
              "      <th>576895</th>\n",
              "      <td>VIRUS GAME</td>\n",
              "      <td>Casual</td>\n",
              "      <td>4.9</td>\n",
              "      <td>74.0</td>\n",
              "      <td>500+</td>\n",
              "      <td>551</td>\n",
              "      <td>0.00</td>\n",
              "      <td>53M</td>\n",
              "      <td>Jun 5, 2020</td>\n",
              "      <td>18/06/2020 11:21</td>\n",
              "      <td>True</td>\n",
              "      <td>False</td>\n",
              "    </tr>\n",
              "    <tr>\n",
              "      <th>523362</th>\n",
              "      <td>Swift Dark Substratum Theme</td>\n",
              "      <td>Personalization</td>\n",
              "      <td>3.8</td>\n",
              "      <td>2384.0</td>\n",
              "      <td>50,000+</td>\n",
              "      <td>60642</td>\n",
              "      <td>1.99</td>\n",
              "      <td>NaN</td>\n",
              "      <td>Oct 23, 2016</td>\n",
              "      <td>20/07/2020 17:59</td>\n",
              "      <td>False</td>\n",
              "      <td>False</td>\n",
              "    </tr>\n",
              "    <tr>\n",
              "      <th>457389</th>\n",
              "      <td>Ratan ki Pehchan</td>\n",
              "      <td>Entertainment</td>\n",
              "      <td>0.0</td>\n",
              "      <td>0.0</td>\n",
              "      <td>1,000+</td>\n",
              "      <td>2106</td>\n",
              "      <td>0.00</td>\n",
              "      <td>6.2M</td>\n",
              "      <td>Jul 10, 2018</td>\n",
              "      <td>09/01/2020 20:10</td>\n",
              "      <td>True</td>\n",
              "      <td>False</td>\n",
              "    </tr>\n",
              "  </tbody>\n",
              "</table>\n",
              "</div>"
            ],
            "text/plain": [
              "                                                 App_Name  ... In_App_Purchases\n",
              "489279                          Shiny Rose Keyboard Theme  ...            False\n",
              "293586                             Jump Rope Workout Lite  ...            False\n",
              "503027                 Solitaire Tripeaks: Farm Adventure  ...             True\n",
              "290352                           jetAudio HD Music Player  ...             True\n",
              "465378  Reverse Video: Reverse video effect & Rewind v...  ...            False\n",
              "263682                                   Hunting Calls HD  ...            False\n",
              "190420                              English - Azerbaijani  ...             True\n",
              "576895                                         VIRUS GAME  ...            False\n",
              "523362                        Swift Dark Substratum Theme  ...            False\n",
              "457389                                   Ratan ki Pehchan  ...            False\n",
              "\n",
              "[10 rows x 12 columns]"
            ]
          },
          "metadata": {
            "tags": []
          },
          "execution_count": 5
        }
      ]
    },
    {
      "cell_type": "markdown",
      "metadata": {
        "id": "4KbzaVM8FcLk"
      },
      "source": [
        "# **CHECKPOINT DATA INFO**"
      ]
    },
    {
      "cell_type": "code",
      "metadata": {
        "colab": {
          "base_uri": "https://localhost:8080/"
        },
        "id": "CZi23I8UxwDS",
        "outputId": "7a04c0b8-85bf-4b39-af2f-60383c549fde"
      },
      "source": [
        "print(\"Dataframe NULL count:\")\r\n",
        "print(df.isnull().sum(axis = 0), end=\"\\n\\n\")\r\n",
        "\r\n",
        "df.info()"
      ],
      "execution_count": 6,
      "outputs": [
        {
          "output_type": "stream",
          "text": [
            "Dataframe NULL count:\n",
            "App_Name                1\n",
            "Category                0\n",
            "Rating               1880\n",
            "Rating_Count         1880\n",
            "Installs                0\n",
            "Maximum_Installs        0\n",
            "Price                   0\n",
            "Size                10823\n",
            "Released             6338\n",
            "Last_Updated            0\n",
            "Ad_Supported            0\n",
            "In_App_Purchases        0\n",
            "dtype: int64\n",
            "\n",
            "<class 'pandas.core.frame.DataFrame'>\n",
            "Int64Index: 112092 entries, 20 to 603046\n",
            "Data columns (total 12 columns):\n",
            " #   Column            Non-Null Count   Dtype  \n",
            "---  ------            --------------   -----  \n",
            " 0   App_Name          112091 non-null  object \n",
            " 1   Category          112092 non-null  object \n",
            " 2   Rating            110212 non-null  float64\n",
            " 3   Rating_Count      110212 non-null  float64\n",
            " 4   Installs          112092 non-null  object \n",
            " 5   Maximum_Installs  112092 non-null  int64  \n",
            " 6   Price             112092 non-null  float64\n",
            " 7   Size              101269 non-null  object \n",
            " 8   Released          105754 non-null  object \n",
            " 9   Last_Updated      112092 non-null  object \n",
            " 10  Ad_Supported      112092 non-null  bool   \n",
            " 11  In_App_Purchases  112092 non-null  bool   \n",
            "dtypes: bool(2), float64(3), int64(1), object(6)\n",
            "memory usage: 9.6+ MB\n"
          ],
          "name": "stdout"
        }
      ]
    },
    {
      "cell_type": "code",
      "metadata": {
        "id": "41jvzDvQFZcn"
      },
      "source": [
        ""
      ],
      "execution_count": null,
      "outputs": []
    },
    {
      "cell_type": "markdown",
      "metadata": {
        "id": "bjUUEiC6qUR1"
      },
      "source": [
        "# **DATA CLEANING & OPTIMIZATION**\r\n",
        "- A null value that was found in **App_Name** is not acceptable for further analysis, also 4 apps named: \"#NAME?\" should be cleaned.\r\n",
        "- The null values in **Rating, Rating_Count, Size, and Released** columns will be replaced with mean values.\r\n",
        "- Column dtypes will be corrected if necessary.\r\n",
        "- Column values type will be corrected if necessary.\r\n",
        "- Adding \"Ad_bool\" column, which is identical to Ad_Suppored but with 0 and 1 values, for aggregation actions such as Sum. "
      ]
    },
    {
      "cell_type": "code",
      "metadata": {
        "id": "tfA_6YJxtrJm"
      },
      "source": [
        "#NULL Extraction\r\n",
        "df = df.query('not App_Name.isnull() & not App_Name==\"#NAME?\"',engine='python')\r\n",
        "\r\n",
        "#VITAL column fixes before null replacements:\r\n",
        "#Trimming 'M' from all values in order to set as int.\r\n",
        "df['Size'] = df['Size'].str.replace('M',\"\") \r\n",
        "df['Size'] = df['Size'].astype({'Size': 'float32'})\r\n",
        "#Transform of \"Released\" coloumn to Datetime for the use of pandas.DatetimeIndex.mean\r\n",
        "df['Released'] = pd.to_datetime(df['Released']) \r\n",
        "\r\n",
        "# Function replaces np.nan values in all of the data frame with relevant statistics \\ dal7collab\r\n",
        "def rep_missings(data_frame):\r\n",
        "    d = data_frame.copy(deep = True)\r\n",
        "    for c in data_frame:\r\n",
        "        if data_frame[c].isnull().values.any() :\r\n",
        "          m = data_frame[c].dropna().mean()\r\n",
        "          d[c].fillna(m, inplace = True)\r\n",
        "    return d;\r\n",
        "\r\n",
        "# Activating the function\r\n",
        "df = rep_missings(df)"
      ],
      "execution_count": 7,
      "outputs": []
    },
    {
      "cell_type": "code",
      "metadata": {
        "id": "HEmyDEgPqjIh",
        "colab": {
          "base_uri": "https://localhost:8080/",
          "height": 546
        },
        "outputId": "3d3799a6-b099-4ce4-e48d-949e835e3a71"
      },
      "source": [
        "#Adding Ad_bool column, as described above.\r\n",
        "df['Ad_Supported'] = df['Ad_Supported'].astype({'Ad_Supported': 'string'})\r\n",
        "df['Ad_bool']= df['Ad_Supported']\r\n",
        "df['Ad_bool']= df['Ad_bool'].str.replace(\"True\", \"1\")\r\n",
        "df['Ad_bool']= df['Ad_bool'].str.replace(\"False\", \"0\")\r\n",
        "\r\n",
        "#Coloumn types correction\r\n",
        "df['App_Name'] = df['App_Name'].astype({'App_Name': 'string'})\r\n",
        "df['Category'] = df['Category'].astype({'Category': 'string'})\r\n",
        "df['Rating'] = df['Rating'].astype({'Rating': 'float32'})\r\n",
        "df['Rating_Count'] = df['Rating_Count'].astype({'Rating_Count': 'int64'})\r\n",
        "df['Installs'] = df['Installs'].astype({'Installs': 'string'})\r\n",
        "df['Price'] = df['Price'].astype({'Price': 'float32'})\r\n",
        "df['Released'] = pd.to_datetime(df['Released']).dt.strftime('%Y-%m-%d') #Fetching only yyyy-mm-dd from the full datetime.\r\n",
        "df['Last_Updated'] = pd.to_datetime(df['Last_Updated']).dt.strftime('%Y-%m-%d') #Fetching only yyyy-mm-dd from the full datetime.\r\n",
        "df['Size'] = df['Size'].astype({'Size': 'float32'})\r\n",
        "df['Ad_bool'] = df['Ad_bool'].astype({'Ad_bool': 'int8'})\r\n",
        "\r\n",
        "\r\n",
        "print(\"Dataframe final shape is\", np.shape(df))\r\n",
        "df.sample(10)"
      ],
      "execution_count": 8,
      "outputs": [
        {
          "output_type": "stream",
          "text": [
            "Dataframe final shape is (112087, 13)\n"
          ],
          "name": "stdout"
        },
        {
          "output_type": "execute_result",
          "data": {
            "text/html": [
              "<div>\n",
              "<style scoped>\n",
              "    .dataframe tbody tr th:only-of-type {\n",
              "        vertical-align: middle;\n",
              "    }\n",
              "\n",
              "    .dataframe tbody tr th {\n",
              "        vertical-align: top;\n",
              "    }\n",
              "\n",
              "    .dataframe thead th {\n",
              "        text-align: right;\n",
              "    }\n",
              "</style>\n",
              "<table border=\"1\" class=\"dataframe\">\n",
              "  <thead>\n",
              "    <tr style=\"text-align: right;\">\n",
              "      <th></th>\n",
              "      <th>App_Name</th>\n",
              "      <th>Category</th>\n",
              "      <th>Rating</th>\n",
              "      <th>Rating_Count</th>\n",
              "      <th>Installs</th>\n",
              "      <th>Maximum_Installs</th>\n",
              "      <th>Price</th>\n",
              "      <th>Size</th>\n",
              "      <th>Released</th>\n",
              "      <th>Last_Updated</th>\n",
              "      <th>Ad_Supported</th>\n",
              "      <th>In_App_Purchases</th>\n",
              "      <th>Ad_bool</th>\n",
              "    </tr>\n",
              "  </thead>\n",
              "  <tbody>\n",
              "    <tr>\n",
              "      <th>206106</th>\n",
              "      <td>Female Fitness - Lose Weight Home Workout</td>\n",
              "      <td>Health &amp; Fitness</td>\n",
              "      <td>3.269268</td>\n",
              "      <td>25109</td>\n",
              "      <td>1+</td>\n",
              "      <td>1</td>\n",
              "      <td>0.0</td>\n",
              "      <td>18.566137</td>\n",
              "      <td>2017-10-13</td>\n",
              "      <td>2020-06-18</td>\n",
              "      <td>True</td>\n",
              "      <td>False</td>\n",
              "      <td>1</td>\n",
              "    </tr>\n",
              "    <tr>\n",
              "      <th>502833</th>\n",
              "      <td>Solitaire Atlantis</td>\n",
              "      <td>Card</td>\n",
              "      <td>4.200000</td>\n",
              "      <td>23206</td>\n",
              "      <td>1,000,000+</td>\n",
              "      <td>1708835</td>\n",
              "      <td>0.0</td>\n",
              "      <td>7.300000</td>\n",
              "      <td>2014-07-24</td>\n",
              "      <td>2020-07-01</td>\n",
              "      <td>False</td>\n",
              "      <td>True</td>\n",
              "      <td>0</td>\n",
              "    </tr>\n",
              "    <tr>\n",
              "      <th>511622</th>\n",
              "      <td>Star 107.9</td>\n",
              "      <td>Music &amp; Audio</td>\n",
              "      <td>4.800000</td>\n",
              "      <td>15</td>\n",
              "      <td>1,000+</td>\n",
              "      <td>3012</td>\n",
              "      <td>0.0</td>\n",
              "      <td>7.600000</td>\n",
              "      <td>2015-01-09</td>\n",
              "      <td>2020-06-19</td>\n",
              "      <td>True</td>\n",
              "      <td>False</td>\n",
              "      <td>1</td>\n",
              "    </tr>\n",
              "    <tr>\n",
              "      <th>34146</th>\n",
              "      <td>日曆 2020 - 農曆</td>\n",
              "      <td>Productivity</td>\n",
              "      <td>0.000000</td>\n",
              "      <td>0</td>\n",
              "      <td>500+</td>\n",
              "      <td>519</td>\n",
              "      <td>0.0</td>\n",
              "      <td>11.000000</td>\n",
              "      <td>2020-01-13</td>\n",
              "      <td>2020-01-14</td>\n",
              "      <td>True</td>\n",
              "      <td>False</td>\n",
              "      <td>1</td>\n",
              "    </tr>\n",
              "    <tr>\n",
              "      <th>136536</th>\n",
              "      <td>CSE FERCO</td>\n",
              "      <td>Productivity</td>\n",
              "      <td>0.000000</td>\n",
              "      <td>0</td>\n",
              "      <td>100+</td>\n",
              "      <td>399</td>\n",
              "      <td>0.0</td>\n",
              "      <td>2.300000</td>\n",
              "      <td>2018-10-22</td>\n",
              "      <td>2020-07-20</td>\n",
              "      <td>False</td>\n",
              "      <td>False</td>\n",
              "      <td>0</td>\n",
              "    </tr>\n",
              "    <tr>\n",
              "      <th>86437</th>\n",
              "      <td>Block Puzzle Buddies</td>\n",
              "      <td>Puzzle</td>\n",
              "      <td>4.200000</td>\n",
              "      <td>181</td>\n",
              "      <td>10,000+</td>\n",
              "      <td>42779</td>\n",
              "      <td>0.0</td>\n",
              "      <td>15.000000</td>\n",
              "      <td>2019-05-09</td>\n",
              "      <td>2020-02-07</td>\n",
              "      <td>True</td>\n",
              "      <td>False</td>\n",
              "      <td>1</td>\n",
              "    </tr>\n",
              "    <tr>\n",
              "      <th>340958</th>\n",
              "      <td>Marla Calculator</td>\n",
              "      <td>Tools</td>\n",
              "      <td>4.400000</td>\n",
              "      <td>179</td>\n",
              "      <td>50,000+</td>\n",
              "      <td>75755</td>\n",
              "      <td>0.0</td>\n",
              "      <td>4.400000</td>\n",
              "      <td>2017-11-11</td>\n",
              "      <td>2020-03-15</td>\n",
              "      <td>True</td>\n",
              "      <td>False</td>\n",
              "      <td>1</td>\n",
              "    </tr>\n",
              "    <tr>\n",
              "      <th>132331</th>\n",
              "      <td>Counter ++</td>\n",
              "      <td>Tools</td>\n",
              "      <td>4.200000</td>\n",
              "      <td>8</td>\n",
              "      <td>500+</td>\n",
              "      <td>543</td>\n",
              "      <td>0.0</td>\n",
              "      <td>18.566137</td>\n",
              "      <td>2014-04-20</td>\n",
              "      <td>2020-06-01</td>\n",
              "      <td>True</td>\n",
              "      <td>False</td>\n",
              "      <td>1</td>\n",
              "    </tr>\n",
              "    <tr>\n",
              "      <th>548333</th>\n",
              "      <td>TRACcess eKEY®</td>\n",
              "      <td>Productivity</td>\n",
              "      <td>3.600000</td>\n",
              "      <td>97</td>\n",
              "      <td>10,000+</td>\n",
              "      <td>44802</td>\n",
              "      <td>0.0</td>\n",
              "      <td>18.566137</td>\n",
              "      <td>2011-10-04</td>\n",
              "      <td>2020-02-26</td>\n",
              "      <td>False</td>\n",
              "      <td>False</td>\n",
              "      <td>0</td>\n",
              "    </tr>\n",
              "    <tr>\n",
              "      <th>208357</th>\n",
              "      <td>Find The Difference 37</td>\n",
              "      <td>Puzzle</td>\n",
              "      <td>4.700000</td>\n",
              "      <td>5128</td>\n",
              "      <td>100,000+</td>\n",
              "      <td>347004</td>\n",
              "      <td>0.0</td>\n",
              "      <td>26.000000</td>\n",
              "      <td>2017-03-02</td>\n",
              "      <td>2020-07-22</td>\n",
              "      <td>True</td>\n",
              "      <td>True</td>\n",
              "      <td>1</td>\n",
              "    </tr>\n",
              "  </tbody>\n",
              "</table>\n",
              "</div>"
            ],
            "text/plain": [
              "                                         App_Name  ... Ad_bool\n",
              "206106  Female Fitness - Lose Weight Home Workout  ...       1\n",
              "502833                         Solitaire Atlantis  ...       0\n",
              "511622                                 Star 107.9  ...       1\n",
              "34146                                日曆 2020 - 農曆  ...       1\n",
              "136536                                  CSE FERCO  ...       0\n",
              "86437                        Block Puzzle Buddies  ...       1\n",
              "340958                           Marla Calculator  ...       1\n",
              "132331                                 Counter ++  ...       1\n",
              "548333                             TRACcess eKEY®  ...       0\n",
              "208357                     Find The Difference 37  ...       1\n",
              "\n",
              "[10 rows x 13 columns]"
            ]
          },
          "metadata": {
            "tags": []
          },
          "execution_count": 8
        }
      ]
    },
    {
      "cell_type": "markdown",
      "metadata": {
        "id": "mn9l1_U0zIbc"
      },
      "source": [
        "# **POSTPROCESSING DATA INFO**"
      ]
    },
    {
      "cell_type": "code",
      "metadata": {
        "colab": {
          "base_uri": "https://localhost:8080/"
        },
        "id": "2eHJdY7AzLgn",
        "outputId": "add881f0-e7c1-4491-fb52-71a9bd381adb"
      },
      "source": [
        "#Genereal information after preprocessing\r\n",
        "print(df.info(),end = '\\n\\n')"
      ],
      "execution_count": 11,
      "outputs": [
        {
          "output_type": "stream",
          "text": [
            "<class 'pandas.core.frame.DataFrame'>\n",
            "Int64Index: 112087 entries, 20 to 602972\n",
            "Data columns (total 13 columns):\n",
            " #   Column            Non-Null Count   Dtype  \n",
            "---  ------            --------------   -----  \n",
            " 0   App_Name          112087 non-null  string \n",
            " 1   Category          112087 non-null  string \n",
            " 2   Rating            112087 non-null  float32\n",
            " 3   Rating_Count      112087 non-null  int64  \n",
            " 4   Installs          112087 non-null  string \n",
            " 5   Maximum_Installs  112087 non-null  int64  \n",
            " 6   Price             112087 non-null  float32\n",
            " 7   Size              112087 non-null  float32\n",
            " 8   Released          112087 non-null  object \n",
            " 9   Last_Updated      112087 non-null  object \n",
            " 10  Ad_Supported      112087 non-null  string \n",
            " 11  In_App_Purchases  112087 non-null  bool   \n",
            " 12  Ad_bool           112087 non-null  int8   \n",
            "dtypes: bool(1), float32(3), int64(2), int8(1), object(2), string(4)\n",
            "memory usage: 9.2+ MB\n",
            "None\n",
            "\n"
          ],
          "name": "stdout"
        }
      ]
    },
    {
      "cell_type": "markdown",
      "metadata": {
        "id": "Bsi_FjLDJaqf"
      },
      "source": [
        "# **EXPORT TO GOOGLE DRIVE**\r\n"
      ]
    },
    {
      "cell_type": "code",
      "metadata": {
        "id": "yYaUhkTKJsZ6"
      },
      "source": [
        "#Exporting a csv into google drive\r\n",
        "#df.to_csv('/content/drive/My Drive/GooglePlay-Store_Optimized_v16.csv')"
      ],
      "execution_count": 9,
      "outputs": []
    },
    {
      "cell_type": "markdown",
      "metadata": {
        "id": "plqueKPT0yyk"
      },
      "source": [
        "# **STATISTICS**"
      ]
    },
    {
      "cell_type": "code",
      "metadata": {
        "colab": {
          "base_uri": "https://localhost:8080/"
        },
        "id": "Yts92tunyYGV",
        "outputId": "b668708f-eaf6-4edd-bffe-f42ff9a4f0dd"
      },
      "source": [
        "#Retrieve coloumn general info \r\n",
        "name = 'Rating'\r\n",
        "print(df[name].describe())\r\n",
        "print(\"Coloumn's real dtype is:\", df[name].dtypes)"
      ],
      "execution_count": null,
      "outputs": [
        {
          "output_type": "stream",
          "text": [
            "count    112087.000000\n",
            "mean          3.269279\n",
            "std           1.787079\n",
            "min           0.000000\n",
            "25%           3.000000\n",
            "50%           4.100000\n",
            "75%           4.500000\n",
            "max           5.000000\n",
            "Name: Rating, dtype: float64\n",
            "Coloumn's real dtype is: float32\n"
          ],
          "name": "stdout"
        }
      ]
    },
    {
      "cell_type": "code",
      "metadata": {
        "colab": {
          "base_uri": "https://localhost:8080/"
        },
        "id": "yLABguyZg58V",
        "outputId": "684d97e7-8156-4a35-98c6-e029290931f0"
      },
      "source": [
        "#Corrections for BI Robot operations\r\n",
        "df['App_Name'] = df['App_Name'].astype({'App_Name': 'object'})\r\n",
        "df['Category'] = df['Category'].astype({'Category': 'object'})\r\n",
        "\r\n",
        "df.iloc[0]['Minimum_Installs'].mean()"
      ],
      "execution_count": null,
      "outputs": [
        {
          "output_type": "execute_result",
          "data": {
            "text/plain": [
              "500.0"
            ]
          },
          "metadata": {
            "tags": []
          },
          "execution_count": 12
        }
      ]
    },
    {
      "cell_type": "code",
      "metadata": {
        "id": "L39Wo0NRXDlw"
      },
      "source": [
        "# BI Insights Robot\r\n",
        "def bi_robot(dataframe, dimensions, measure):\r\n",
        "    t = {}\r\n",
        "    for d in dimensions:\r\n",
        "        if (np.issubdtype(dataframe[d].dtype, np.number)):\r\n",
        "            t[d] = df[d].describe()[7]    #Max value of a numeric variable\r\n",
        "        \r\n",
        "        else :\r\n",
        "            t[d] = df[d].describe()[2]    #The most frequent value of any other variable\r\n",
        "\r\n",
        "    for v in t:\r\n",
        "        key       = v\r\n",
        "        value     = [t[v]]\r\n",
        "        dataframe = dataframe.loc[dataframe[key].isin(value)] \r\n",
        "        stat      = dataframe[measure].mean()\r\n",
        "\r\n",
        "    print('BI Robot output:')\r\n",
        "    print(t, end = '')  \r\n",
        "    print(' Mean '+ measure +': ' + \"{:.2f}\".format(stat))\r\n",
        "    print('---------------------') \r\n",
        "\r\n",
        "    #return t"
      ],
      "execution_count": null,
      "outputs": []
    },
    {
      "cell_type": "code",
      "metadata": {
        "colab": {
          "base_uri": "https://localhost:8080/"
        },
        "id": "haonws10P8Yh",
        "outputId": "20868e64-cfa3-4aa4-b96b-7c417c2d9a96"
      },
      "source": [
        "df_ins         = df.copy(deep = True)\r\n",
        "filters    = ['Category']\r\n",
        "measure    = 'Rating'\r\n",
        "df_ins = bi_robot(df, filters, measure)\r\n",
        "df_ins"
      ],
      "execution_count": null,
      "outputs": [
        {
          "output_type": "stream",
          "text": [
            "BI Robot output:\n",
            "{'Category': 'Education'} Mean Rating: 3.16\n",
            "---------------------\n"
          ],
          "name": "stdout"
        }
      ]
    }
  ]
}
