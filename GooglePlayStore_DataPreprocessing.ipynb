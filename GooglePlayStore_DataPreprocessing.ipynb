{
  "nbformat": 4,
  "nbformat_minor": 0,
  "metadata": {
    "colab": {
      "name": "GooglePlayStore_DataPreprocessing.ipynb",
      "provenance": [],
      "collapsed_sections": [],
      "authorship_tag": "ABX9TyNbDnlpQr/IJQkIaDnecz9r",
      "include_colab_link": true
    },
    "kernelspec": {
      "name": "python3",
      "display_name": "Python 3"
    }
  },
  "cells": [
    {
      "cell_type": "markdown",
      "metadata": {
        "id": "view-in-github",
        "colab_type": "text"
      },
      "source": [
        "<a href=\"https://colab.research.google.com/github/MeidanGR/GooglePlayStore_Preprocessing_Python/blob/main/GooglePlayStore_DataPreprocessing.ipynb\" target=\"_parent\"><img src=\"https://colab.research.google.com/assets/colab-badge.svg\" alt=\"Open In Colab\"/></a>"
      ]
    },
    {
      "cell_type": "markdown",
      "metadata": {
        "id": "-Gad_hVUwqGW"
      },
      "source": [
        "# **Google Play Store Data Preprocessing**\r\n",
        "This data preprocessing progress has been established for an academic project of a BI course. The data will be analyzed within the project.\r\n",
        "\r\n",
        "Major thanks to **Gautham Prakash** for publishing & maintenance this dataset, which you can find at https://www.kaggle.com/gauthamp10/google-playstore-apps\r\n"
      ]
    },
    {
      "cell_type": "markdown",
      "metadata": {
        "id": "XEwg6IMf-ew7"
      },
      "source": [
        "# **Google auth & libraries**"
      ]
    },
    {
      "cell_type": "code",
      "metadata": {
        "colab": {
          "base_uri": "https://localhost:8080/"
        },
        "id": "T2AXr9cs90aQ",
        "outputId": "ab326534-391d-49d1-9120-f3491e2b97b5"
      },
      "source": [
        "from google.colab import drive\r\n",
        "drive.mount('/content/drive')"
      ],
      "execution_count": 1,
      "outputs": [
        {
          "output_type": "stream",
          "text": [
            "Mounted at /content/drive\n"
          ],
          "name": "stdout"
        }
      ]
    },
    {
      "cell_type": "code",
      "metadata": {
        "id": "K6AN0alb-Ecd"
      },
      "source": [
        "import pandas as pd\r\n",
        "import numpy as np"
      ],
      "execution_count": 3,
      "outputs": []
    },
    {
      "cell_type": "markdown",
      "metadata": {
        "id": "gFk0C6C48ZGe"
      },
      "source": [
        "# **CSV LOAD**\r\n"
      ]
    },
    {
      "cell_type": "code",
      "metadata": {
        "colab": {
          "base_uri": "https://localhost:8080/",
          "height": 777
        },
        "id": "__oMmDYK_rTh",
        "outputId": "f5075d72-39bb-48f9-8200-496151b5f0e0"
      },
      "source": [
        "#Loading csv\r\n",
        "df = pd.read_csv('/content/drive/My Drive/Google-Playstore.csv')\r\n",
        "\r\n",
        "print(\"Dataframe original shape is\", np.shape(df), end='\\n\\n')\r\n",
        "print(df.info())\r\n",
        "df.sample(2)"
      ],
      "execution_count": 4,
      "outputs": [
        {
          "output_type": "stream",
          "text": [
            "Dataframe original shape is (603047, 23)\n",
            "\n",
            "<class 'pandas.core.frame.DataFrame'>\n",
            "RangeIndex: 603047 entries, 0 to 603046\n",
            "Data columns (total 23 columns):\n",
            " #   Column             Non-Null Count   Dtype  \n",
            "---  ------             --------------   -----  \n",
            " 0   App Name           603046 non-null  object \n",
            " 1   App Id             603047 non-null  object \n",
            " 2   Category           603047 non-null  object \n",
            " 3   Rating             599287 non-null  float64\n",
            " 4   Rating Count       599287 non-null  float64\n",
            " 5   Installs           602875 non-null  object \n",
            " 6   Minimum Installs   602875 non-null  float64\n",
            " 7   Maximum Installs   603047 non-null  int64  \n",
            " 8   Free               603047 non-null  bool   \n",
            " 9   Price              603047 non-null  float64\n",
            " 10  Currency           602866 non-null  object \n",
            " 11  Size               603047 non-null  object \n",
            " 12  Minimum Android    602556 non-null  object \n",
            " 13  Developer Id       603045 non-null  object \n",
            " 14  Developer Website  423783 non-null  object \n",
            " 15  Developer Email    603010 non-null  object \n",
            " 16  Released           570769 non-null  object \n",
            " 17  Last Updated       603047 non-null  object \n",
            " 18  Content Rating     603047 non-null  object \n",
            " 19  Privacy Policy     517662 non-null  object \n",
            " 20  Ad Supported       603047 non-null  bool   \n",
            " 21  In App Purchases   603047 non-null  bool   \n",
            " 22  Editors Choice     603047 non-null  bool   \n",
            "dtypes: bool(4), float64(4), int64(1), object(14)\n",
            "memory usage: 89.7+ MB\n",
            "None\n"
          ],
          "name": "stdout"
        },
        {
          "output_type": "execute_result",
          "data": {
            "text/html": [
              "<div>\n",
              "<style scoped>\n",
              "    .dataframe tbody tr th:only-of-type {\n",
              "        vertical-align: middle;\n",
              "    }\n",
              "\n",
              "    .dataframe tbody tr th {\n",
              "        vertical-align: top;\n",
              "    }\n",
              "\n",
              "    .dataframe thead th {\n",
              "        text-align: right;\n",
              "    }\n",
              "</style>\n",
              "<table border=\"1\" class=\"dataframe\">\n",
              "  <thead>\n",
              "    <tr style=\"text-align: right;\">\n",
              "      <th></th>\n",
              "      <th>App Name</th>\n",
              "      <th>App Id</th>\n",
              "      <th>Category</th>\n",
              "      <th>Rating</th>\n",
              "      <th>Rating Count</th>\n",
              "      <th>Installs</th>\n",
              "      <th>Minimum Installs</th>\n",
              "      <th>Maximum Installs</th>\n",
              "      <th>Free</th>\n",
              "      <th>Price</th>\n",
              "      <th>Currency</th>\n",
              "      <th>Size</th>\n",
              "      <th>Minimum Android</th>\n",
              "      <th>Developer Id</th>\n",
              "      <th>Developer Website</th>\n",
              "      <th>Developer Email</th>\n",
              "      <th>Released</th>\n",
              "      <th>Last Updated</th>\n",
              "      <th>Content Rating</th>\n",
              "      <th>Privacy Policy</th>\n",
              "      <th>Ad Supported</th>\n",
              "      <th>In App Purchases</th>\n",
              "      <th>Editors Choice</th>\n",
              "    </tr>\n",
              "  </thead>\n",
              "  <tbody>\n",
              "    <tr>\n",
              "      <th>534777</th>\n",
              "      <td>Texas Magazines - USA</td>\n",
              "      <td>com.doogle.texasmagazines</td>\n",
              "      <td>News &amp; Magazines</td>\n",
              "      <td>0.0</td>\n",
              "      <td>0.0</td>\n",
              "      <td>50+</td>\n",
              "      <td>50.0</td>\n",
              "      <td>66</td>\n",
              "      <td>True</td>\n",
              "      <td>0.0</td>\n",
              "      <td>USD</td>\n",
              "      <td>8.2M</td>\n",
              "      <td>4.1 and up</td>\n",
              "      <td>Doogle Apps</td>\n",
              "      <td>NaN</td>\n",
              "      <td>doogle.apps@gmail.com</td>\n",
              "      <td>Dec 14, 2018</td>\n",
              "      <td>15/12/2018 10:42</td>\n",
              "      <td>Everyone</td>\n",
              "      <td>http://irjems.com/texas-magazines-privacy-policy/</td>\n",
              "      <td>True</td>\n",
              "      <td>False</td>\n",
              "      <td>False</td>\n",
              "    </tr>\n",
              "    <tr>\n",
              "      <th>56905</th>\n",
              "      <td>ArmenianMusic</td>\n",
              "      <td>am.armenianmusic.armenianmusic</td>\n",
              "      <td>Music &amp; Audio</td>\n",
              "      <td>4.8</td>\n",
              "      <td>461.0</td>\n",
              "      <td>10,000+</td>\n",
              "      <td>10000.0</td>\n",
              "      <td>23958</td>\n",
              "      <td>True</td>\n",
              "      <td>0.0</td>\n",
              "      <td>USD</td>\n",
              "      <td>42M</td>\n",
              "      <td>4.2 and up</td>\n",
              "      <td>Helix Consulting LLC</td>\n",
              "      <td>http://www.armenianmusic.am</td>\n",
              "      <td>info@helix.am</td>\n",
              "      <td>Jun 27, 2017</td>\n",
              "      <td>20/03/2019 12:33</td>\n",
              "      <td>Everyone</td>\n",
              "      <td>http://www.armenianmusic.am/privacy_policy.html</td>\n",
              "      <td>False</td>\n",
              "      <td>False</td>\n",
              "      <td>False</td>\n",
              "    </tr>\n",
              "  </tbody>\n",
              "</table>\n",
              "</div>"
            ],
            "text/plain": [
              "                     App Name  ... Editors Choice\n",
              "534777  Texas Magazines - USA  ...          False\n",
              "56905           ArmenianMusic  ...          False\n",
              "\n",
              "[2 rows x 23 columns]"
            ]
          },
          "metadata": {
            "tags": []
          },
          "execution_count": 4
        }
      ]
    },
    {
      "cell_type": "markdown",
      "metadata": {
        "id": "k4jCiMRNCqTV"
      },
      "source": [
        "# **DATA FILTERING**\r\n",
        "## Agenda: \r\n",
        "Data reduction down to ~100K rows, for a decent dataframe volume, shape, & a faster run in Google Data Studio.\r\n",
        "\r\n",
        "## Guidelines:\r\n",
        "- **Minimum Android** is the minimum android version which allowes operation for the app. The mose popular values were found: 4.1\\4.0.3\\6.0 and up & Varies with device.\r\n",
        "- **Size** must exceed 1MB.\r\n",
        "- **Currency** will be USD only.\r\n",
        "- **Last updated** during 2020.\r\n"
      ]
    },
    {
      "cell_type": "code",
      "metadata": {
        "id": "9oZc6jq8-gDP"
      },
      "source": [
        "#Coloumn labels space fix\r\n",
        "df.columns = [x.replace(\" \", \"_\") for x in df.columns]\r\n",
        "\r\n",
        "#Rows SELECT\r\n",
        "df = df.query('(Minimum_Android == \"4.1 and up\" | Minimum_Android == \"4.0.3 and up\" | Minimum_Android == \"Varies with device\" | \\\r\n",
        "Minimum_Android == \"6.0 and up\") & not Size.str.endswith(\"k\") & Currency == \"USD\" & Last_Updated.str.contains(\"2020\")',engine='python')\r\n",
        "\r\n",
        "#Coloumns FILTER\r\n",
        "df = df.filter(items=['App_Name', 'Category', 'Rating', 'Rating_Count', 'Installs', 'Minimum_Installs','Maximum_Installs', 'Price', 'Size','Released','Last_Updated','Ad_Supported', 'In_App_Purchases'])\r\n",
        "\r\n",
        "#Early null creation\r\n",
        "df['Size'] = df['Size'].replace(to_replace=\"Varies with device\", #turning \"Varies with device\" to null.\r\n",
        "                                   value = np.nan)\r\n",
        "#Saving a copy of dataframe\r\n",
        "dfcopy = df.copy(deep=True)\r\n"
      ],
      "execution_count": 5,
      "outputs": []
    },
    {
      "cell_type": "code",
      "metadata": {
        "colab": {
          "base_uri": "https://localhost:8080/",
          "height": 376
        },
        "id": "AOYdQNUXWTdg",
        "outputId": "4dfb6caf-1d7e-483b-d750-546cf944a217"
      },
      "source": [
        "print(\"Dataframe reduced shape is\", np.shape(df))\r\n",
        "df.sample(10)"
      ],
      "execution_count": 6,
      "outputs": [
        {
          "output_type": "stream",
          "text": [
            "Dataframe reduced shape is (112092, 13)\n"
          ],
          "name": "stdout"
        },
        {
          "output_type": "execute_result",
          "data": {
            "text/html": [
              "<div>\n",
              "<style scoped>\n",
              "    .dataframe tbody tr th:only-of-type {\n",
              "        vertical-align: middle;\n",
              "    }\n",
              "\n",
              "    .dataframe tbody tr th {\n",
              "        vertical-align: top;\n",
              "    }\n",
              "\n",
              "    .dataframe thead th {\n",
              "        text-align: right;\n",
              "    }\n",
              "</style>\n",
              "<table border=\"1\" class=\"dataframe\">\n",
              "  <thead>\n",
              "    <tr style=\"text-align: right;\">\n",
              "      <th></th>\n",
              "      <th>App_Name</th>\n",
              "      <th>Category</th>\n",
              "      <th>Rating</th>\n",
              "      <th>Rating_Count</th>\n",
              "      <th>Installs</th>\n",
              "      <th>Minimum_Installs</th>\n",
              "      <th>Maximum_Installs</th>\n",
              "      <th>Price</th>\n",
              "      <th>Size</th>\n",
              "      <th>Released</th>\n",
              "      <th>Last_Updated</th>\n",
              "      <th>Ad_Supported</th>\n",
              "      <th>In_App_Purchases</th>\n",
              "    </tr>\n",
              "  </thead>\n",
              "  <tbody>\n",
              "    <tr>\n",
              "      <th>270885</th>\n",
              "      <td>IBPS Bank Quiz</td>\n",
              "      <td>Education</td>\n",
              "      <td>4.4</td>\n",
              "      <td>670.0</td>\n",
              "      <td>50,000+</td>\n",
              "      <td>50000.0</td>\n",
              "      <td>65611</td>\n",
              "      <td>0.00</td>\n",
              "      <td>3.7M</td>\n",
              "      <td>Oct 23, 2014</td>\n",
              "      <td>30/06/2020 10:52</td>\n",
              "      <td>True</td>\n",
              "      <td>True</td>\n",
              "    </tr>\n",
              "    <tr>\n",
              "      <th>573782</th>\n",
              "      <td>Viaje De Palabra</td>\n",
              "      <td>Word</td>\n",
              "      <td>4.6</td>\n",
              "      <td>14867.0</td>\n",
              "      <td>1,000,000+</td>\n",
              "      <td>1000000.0</td>\n",
              "      <td>2723086</td>\n",
              "      <td>0.00</td>\n",
              "      <td>9.5M</td>\n",
              "      <td>May 28, 2018</td>\n",
              "      <td>22/05/2020 11:34</td>\n",
              "      <td>True</td>\n",
              "      <td>True</td>\n",
              "    </tr>\n",
              "    <tr>\n",
              "      <th>470554</th>\n",
              "      <td>Rotation Control Pro</td>\n",
              "      <td>Personalization</td>\n",
              "      <td>4.5</td>\n",
              "      <td>3247.0</td>\n",
              "      <td>100,000+</td>\n",
              "      <td>100000.0</td>\n",
              "      <td>152247</td>\n",
              "      <td>2.99</td>\n",
              "      <td>6.6M</td>\n",
              "      <td>Oct 26, 2016</td>\n",
              "      <td>20/04/2020 11:29</td>\n",
              "      <td>False</td>\n",
              "      <td>False</td>\n",
              "    </tr>\n",
              "    <tr>\n",
              "      <th>37469</th>\n",
              "      <td>African Street Style Ideas</td>\n",
              "      <td>Lifestyle</td>\n",
              "      <td>0.0</td>\n",
              "      <td>0.0</td>\n",
              "      <td>100+</td>\n",
              "      <td>100.0</td>\n",
              "      <td>365</td>\n",
              "      <td>0.00</td>\n",
              "      <td>11M</td>\n",
              "      <td>Dec 6, 2017</td>\n",
              "      <td>26/06/2020 22:41</td>\n",
              "      <td>True</td>\n",
              "      <td>False</td>\n",
              "    </tr>\n",
              "    <tr>\n",
              "      <th>12833</th>\n",
              "      <td>নামাজের চিরস্থায়ী সময়সূচী</td>\n",
              "      <td>Books &amp; Reference</td>\n",
              "      <td>4.8</td>\n",
              "      <td>263.0</td>\n",
              "      <td>10,000+</td>\n",
              "      <td>10000.0</td>\n",
              "      <td>35790</td>\n",
              "      <td>0.00</td>\n",
              "      <td>1.9M</td>\n",
              "      <td>Mar 26, 2018</td>\n",
              "      <td>25/04/2020 18:18</td>\n",
              "      <td>True</td>\n",
              "      <td>False</td>\n",
              "    </tr>\n",
              "    <tr>\n",
              "      <th>293733</th>\n",
              "      <td>Jungle Adventures 2</td>\n",
              "      <td>Adventure</td>\n",
              "      <td>4.2</td>\n",
              "      <td>101134.0</td>\n",
              "      <td>10,000,000+</td>\n",
              "      <td>10000000.0</td>\n",
              "      <td>22298272</td>\n",
              "      <td>0.00</td>\n",
              "      <td>32M</td>\n",
              "      <td>Oct 15, 2016</td>\n",
              "      <td>09/07/2020 20:46</td>\n",
              "      <td>True</td>\n",
              "      <td>True</td>\n",
              "    </tr>\n",
              "    <tr>\n",
              "      <th>60975</th>\n",
              "      <td>Au Feu 2 Bois</td>\n",
              "      <td>Food &amp; Drink</td>\n",
              "      <td>0.0</td>\n",
              "      <td>0.0</td>\n",
              "      <td>5+</td>\n",
              "      <td>5.0</td>\n",
              "      <td>9</td>\n",
              "      <td>0.00</td>\n",
              "      <td>134M</td>\n",
              "      <td>Apr 7, 2020</td>\n",
              "      <td>07/04/2020 22:18</td>\n",
              "      <td>False</td>\n",
              "      <td>False</td>\n",
              "    </tr>\n",
              "    <tr>\n",
              "      <th>335237</th>\n",
              "      <td>Magic: ManaStrike</td>\n",
              "      <td>Strategy</td>\n",
              "      <td>3.8</td>\n",
              "      <td>27376.0</td>\n",
              "      <td>1,000,000+</td>\n",
              "      <td>1000000.0</td>\n",
              "      <td>1364982</td>\n",
              "      <td>0.00</td>\n",
              "      <td>4.2M</td>\n",
              "      <td>Jan 28, 2020</td>\n",
              "      <td>16/07/2020 8:32</td>\n",
              "      <td>False</td>\n",
              "      <td>True</td>\n",
              "    </tr>\n",
              "    <tr>\n",
              "      <th>49721</th>\n",
              "      <td>Animal Ringtones and Sounds</td>\n",
              "      <td>Personalization</td>\n",
              "      <td>4.3</td>\n",
              "      <td>735.0</td>\n",
              "      <td>100,000+</td>\n",
              "      <td>100000.0</td>\n",
              "      <td>153222</td>\n",
              "      <td>0.00</td>\n",
              "      <td>NaN</td>\n",
              "      <td>Oct 25, 2011</td>\n",
              "      <td>04/07/2020 18:49</td>\n",
              "      <td>True</td>\n",
              "      <td>False</td>\n",
              "    </tr>\n",
              "    <tr>\n",
              "      <th>309094</th>\n",
              "      <td>Kunj Bihari Aarti</td>\n",
              "      <td>Social</td>\n",
              "      <td>4.6</td>\n",
              "      <td>126.0</td>\n",
              "      <td>10,000+</td>\n",
              "      <td>10000.0</td>\n",
              "      <td>45626</td>\n",
              "      <td>0.00</td>\n",
              "      <td>36M</td>\n",
              "      <td>Oct 1, 2016</td>\n",
              "      <td>19/05/2020 23:08</td>\n",
              "      <td>True</td>\n",
              "      <td>False</td>\n",
              "    </tr>\n",
              "  </tbody>\n",
              "</table>\n",
              "</div>"
            ],
            "text/plain": [
              "                           App_Name  ... In_App_Purchases\n",
              "270885               IBPS Bank Quiz  ...             True\n",
              "573782             Viaje De Palabra  ...             True\n",
              "470554         Rotation Control Pro  ...            False\n",
              "37469    African Street Style Ideas  ...            False\n",
              "12833     নামাজের চিরস্থায়ী সময়সূচী  ...            False\n",
              "293733          Jungle Adventures 2  ...             True\n",
              "60975                 Au Feu 2 Bois  ...            False\n",
              "335237            Magic: ManaStrike  ...             True\n",
              "49721   Animal Ringtones and Sounds  ...            False\n",
              "309094            Kunj Bihari Aarti  ...            False\n",
              "\n",
              "[10 rows x 13 columns]"
            ]
          },
          "metadata": {
            "tags": []
          },
          "execution_count": 6
        }
      ]
    },
    {
      "cell_type": "markdown",
      "metadata": {
        "id": "4KbzaVM8FcLk"
      },
      "source": [
        "# **CHECKPOINT DATA INFO**"
      ]
    },
    {
      "cell_type": "code",
      "metadata": {
        "colab": {
          "base_uri": "https://localhost:8080/"
        },
        "id": "CZi23I8UxwDS",
        "outputId": "4a8f35d8-fbe4-4dad-c9c1-15b6bf08a4ad"
      },
      "source": [
        "print(\"Dataframe NULL count:\")\r\n",
        "print(df.isnull().sum(axis = 0), end=\"\\n\\n\")\r\n",
        "\r\n",
        "df.info()"
      ],
      "execution_count": 7,
      "outputs": [
        {
          "output_type": "stream",
          "text": [
            "Dataframe NULL count:\n",
            "App_Name                1\n",
            "Category                0\n",
            "Rating               1880\n",
            "Rating_Count         1880\n",
            "Installs                0\n",
            "Minimum_Installs        0\n",
            "Maximum_Installs        0\n",
            "Price                   0\n",
            "Size                10823\n",
            "Released             6338\n",
            "Last_Updated            0\n",
            "Ad_Supported            0\n",
            "In_App_Purchases        0\n",
            "dtype: int64\n",
            "\n",
            "<class 'pandas.core.frame.DataFrame'>\n",
            "Int64Index: 112092 entries, 20 to 603046\n",
            "Data columns (total 13 columns):\n",
            " #   Column            Non-Null Count   Dtype  \n",
            "---  ------            --------------   -----  \n",
            " 0   App_Name          112091 non-null  object \n",
            " 1   Category          112092 non-null  object \n",
            " 2   Rating            110212 non-null  float64\n",
            " 3   Rating_Count      110212 non-null  float64\n",
            " 4   Installs          112092 non-null  object \n",
            " 5   Minimum_Installs  112092 non-null  float64\n",
            " 6   Maximum_Installs  112092 non-null  int64  \n",
            " 7   Price             112092 non-null  float64\n",
            " 8   Size              101269 non-null  object \n",
            " 9   Released          105754 non-null  object \n",
            " 10  Last_Updated      112092 non-null  object \n",
            " 11  Ad_Supported      112092 non-null  bool   \n",
            " 12  In_App_Purchases  112092 non-null  bool   \n",
            "dtypes: bool(2), float64(4), int64(1), object(6)\n",
            "memory usage: 10.5+ MB\n"
          ],
          "name": "stdout"
        }
      ]
    },
    {
      "cell_type": "code",
      "metadata": {
        "id": "41jvzDvQFZcn"
      },
      "source": [
        ""
      ],
      "execution_count": 7,
      "outputs": []
    },
    {
      "cell_type": "markdown",
      "metadata": {
        "id": "bjUUEiC6qUR1"
      },
      "source": [
        "# **DATA CLEANING & OPTIMIZATION**\r\n",
        "- A null value that was found in **App_Name** is not acceptable for further analysis, also 4 apps named: \"#NAME?\" should be cleaned.\r\n",
        "- The null values in **Rating, Rating_Count, Size, and Released** columns will be replaced with mean values.\r\n",
        "- Column dtypes will be corrected if necessary.\r\n",
        "- Column values type will be corrected if necessary.\r\n",
        "- Adding \"Ad_bool\" column, which is identical to Ad_Suppored but with 0 and 1 values, for aggregation actions such as Sum. "
      ]
    },
    {
      "cell_type": "code",
      "metadata": {
        "id": "tfA_6YJxtrJm"
      },
      "source": [
        "#NULL Extraction\r\n",
        "df = df.query('not App_Name.isnull() & not App_Name==\"#NAME?\"',engine='python')\r\n",
        "\r\n",
        "#VITAL column fixes before null replacements:\r\n",
        "#Trimming 'M' from all values in order to set as int.\r\n",
        "df['Size'] = df['Size'].str.replace('M',\"\") \r\n",
        "df['Size'] = df['Size'].astype({'Size': 'float32'})\r\n",
        "#Transform of \"Released\" coloumn to Datetime for the use of pandas.DatetimeIndex.mean\r\n",
        "df['Released'] = pd.to_datetime(df['Released']) \r\n",
        "\r\n",
        "# Function replaces np.nan values in all of the data frame with relevant statistics \\ dal7collab\r\n",
        "def rep_missings(data_frame):\r\n",
        "    d = data_frame.copy(deep = True)\r\n",
        "    for c in data_frame:\r\n",
        "        if data_frame[c].isnull().values.any() :\r\n",
        "          m = data_frame[c].dropna().mean()\r\n",
        "          d[c].fillna(m, inplace = True)\r\n",
        "    return d;\r\n",
        "\r\n",
        "# Activating the function\r\n",
        "df = rep_missings(df)"
      ],
      "execution_count": 8,
      "outputs": []
    },
    {
      "cell_type": "code",
      "metadata": {
        "id": "HEmyDEgPqjIh",
        "colab": {
          "base_uri": "https://localhost:8080/",
          "height": 376
        },
        "outputId": "6dd70484-104f-4fd8-c69b-a9d33f081bc3"
      },
      "source": [
        "#Adding Ad_bool column, as described above.\r\n",
        "df['Ad_Supported'] = df['Ad_Supported'].astype({'Ad_Supported': 'string'})\r\n",
        "df['Ad_bool']= df['Ad_Supported']\r\n",
        "df['Ad_bool']= df['Ad_bool'].str.replace(\"True\", \"1\")\r\n",
        "df['Ad_bool']= df['Ad_bool'].str.replace(\"False\", \"0\")\r\n",
        "\r\n",
        "#Coloumn types correction\r\n",
        "df['App_Name'] = df['App_Name'].astype({'App_Name': 'string'})\r\n",
        "df['Category'] = df['Category'].astype({'Category': 'string'})\r\n",
        "df['Rating'] = df['Rating'].astype({'Rating': 'float32'})\r\n",
        "df['Rating_Count'] = df['Rating_Count'].astype({'Rating_Count': 'int64'})\r\n",
        "df['Installs'] = df['Installs'].astype({'Installs': 'string'})\r\n",
        "df['Minimum_Installs'] = df['Minimum_Installs'].astype({'Minimum_Installs': 'int64'})\r\n",
        "df['Price'] = df['Price'].astype({'Price': 'float32'})\r\n",
        "df['Released'] = pd.to_datetime(df['Released']).dt.strftime('%Y-%m-%d') #Fetching only yyyy-mm-dd from the full datetime.\r\n",
        "df['Last_Updated'] = pd.to_datetime(df['Last_Updated']).dt.strftime('%Y-%m-%d') #Fetching only yyyy-mm-dd from the full datetime.\r\n",
        "df['Size'] = df['Size'].astype({'Size': 'float32'})\r\n",
        "df['Ad_bool'] = df['Ad_bool'].astype({'Ad_bool': 'int8'})\r\n",
        "\r\n",
        "\r\n",
        "print(\"Dataframe final shape is\", np.shape(df))\r\n",
        "df.sample(10)"
      ],
      "execution_count": 9,
      "outputs": [
        {
          "output_type": "stream",
          "text": [
            "Dataframe final shape is (112087, 14)\n"
          ],
          "name": "stdout"
        },
        {
          "output_type": "execute_result",
          "data": {
            "text/html": [
              "<div>\n",
              "<style scoped>\n",
              "    .dataframe tbody tr th:only-of-type {\n",
              "        vertical-align: middle;\n",
              "    }\n",
              "\n",
              "    .dataframe tbody tr th {\n",
              "        vertical-align: top;\n",
              "    }\n",
              "\n",
              "    .dataframe thead th {\n",
              "        text-align: right;\n",
              "    }\n",
              "</style>\n",
              "<table border=\"1\" class=\"dataframe\">\n",
              "  <thead>\n",
              "    <tr style=\"text-align: right;\">\n",
              "      <th></th>\n",
              "      <th>App_Name</th>\n",
              "      <th>Category</th>\n",
              "      <th>Rating</th>\n",
              "      <th>Rating_Count</th>\n",
              "      <th>Installs</th>\n",
              "      <th>Minimum_Installs</th>\n",
              "      <th>Maximum_Installs</th>\n",
              "      <th>Price</th>\n",
              "      <th>Size</th>\n",
              "      <th>Released</th>\n",
              "      <th>Last_Updated</th>\n",
              "      <th>Ad_Supported</th>\n",
              "      <th>In_App_Purchases</th>\n",
              "      <th>Ad_bool</th>\n",
              "    </tr>\n",
              "  </thead>\n",
              "  <tbody>\n",
              "    <tr>\n",
              "      <th>598728</th>\n",
              "      <td>Yoga for All</td>\n",
              "      <td>Health &amp; Fitness</td>\n",
              "      <td>4.3</td>\n",
              "      <td>6</td>\n",
              "      <td>1,000+</td>\n",
              "      <td>1000</td>\n",
              "      <td>1414</td>\n",
              "      <td>0.0</td>\n",
              "      <td>18.566137</td>\n",
              "      <td>2015-07-02</td>\n",
              "      <td>2020-10-05</td>\n",
              "      <td>True</td>\n",
              "      <td>False</td>\n",
              "      <td>1</td>\n",
              "    </tr>\n",
              "    <tr>\n",
              "      <th>258159</th>\n",
              "      <td>Holy Bible Reina Valera 1960</td>\n",
              "      <td>Lifestyle</td>\n",
              "      <td>4.8</td>\n",
              "      <td>212752</td>\n",
              "      <td>5,000,000+</td>\n",
              "      <td>5000000</td>\n",
              "      <td>8070663</td>\n",
              "      <td>0.0</td>\n",
              "      <td>3.600000</td>\n",
              "      <td>2015-01-20</td>\n",
              "      <td>2020-06-18</td>\n",
              "      <td>True</td>\n",
              "      <td>False</td>\n",
              "      <td>1</td>\n",
              "    </tr>\n",
              "    <tr>\n",
              "      <th>314312</th>\n",
              "      <td>Latest Nail Polish Designs</td>\n",
              "      <td>Lifestyle</td>\n",
              "      <td>0.0</td>\n",
              "      <td>0</td>\n",
              "      <td>10+</td>\n",
              "      <td>10</td>\n",
              "      <td>41</td>\n",
              "      <td>0.0</td>\n",
              "      <td>38.000000</td>\n",
              "      <td>2019-10-24</td>\n",
              "      <td>2020-06-01</td>\n",
              "      <td>True</td>\n",
              "      <td>False</td>\n",
              "      <td>1</td>\n",
              "    </tr>\n",
              "    <tr>\n",
              "      <th>391319</th>\n",
              "      <td>أحمد النفيس - سورة مريم وسورة الواقعة بدون نت</td>\n",
              "      <td>Music &amp; Audio</td>\n",
              "      <td>0.0</td>\n",
              "      <td>0</td>\n",
              "      <td>50+</td>\n",
              "      <td>50</td>\n",
              "      <td>62</td>\n",
              "      <td>0.0</td>\n",
              "      <td>48.000000</td>\n",
              "      <td>2020-06-06</td>\n",
              "      <td>2020-06-06</td>\n",
              "      <td>True</td>\n",
              "      <td>False</td>\n",
              "      <td>1</td>\n",
              "    </tr>\n",
              "    <tr>\n",
              "      <th>324766</th>\n",
              "      <td>Lippo Malls Attendance System</td>\n",
              "      <td>Productivity</td>\n",
              "      <td>4.5</td>\n",
              "      <td>8</td>\n",
              "      <td>500+</td>\n",
              "      <td>500</td>\n",
              "      <td>824</td>\n",
              "      <td>0.0</td>\n",
              "      <td>4.100000</td>\n",
              "      <td>2017-10-13</td>\n",
              "      <td>2020-01-24</td>\n",
              "      <td>False</td>\n",
              "      <td>False</td>\n",
              "      <td>0</td>\n",
              "    </tr>\n",
              "    <tr>\n",
              "      <th>591463</th>\n",
              "      <td>Wolf Spike Blood King</td>\n",
              "      <td>Personalization</td>\n",
              "      <td>4.7</td>\n",
              "      <td>96585</td>\n",
              "      <td>5,000,000+</td>\n",
              "      <td>5000000</td>\n",
              "      <td>8394100</td>\n",
              "      <td>0.0</td>\n",
              "      <td>99.000000</td>\n",
              "      <td>2016-12-22</td>\n",
              "      <td>2020-02-19</td>\n",
              "      <td>True</td>\n",
              "      <td>False</td>\n",
              "      <td>1</td>\n",
              "    </tr>\n",
              "    <tr>\n",
              "      <th>104186</th>\n",
              "      <td>Cantos De Pássaros Silvestres</td>\n",
              "      <td>Music &amp; Audio</td>\n",
              "      <td>0.0</td>\n",
              "      <td>0</td>\n",
              "      <td>1,000+</td>\n",
              "      <td>1000</td>\n",
              "      <td>1782</td>\n",
              "      <td>0.0</td>\n",
              "      <td>16.000000</td>\n",
              "      <td>2017-08-28</td>\n",
              "      <td>2020-11-01</td>\n",
              "      <td>True</td>\n",
              "      <td>False</td>\n",
              "      <td>1</td>\n",
              "    </tr>\n",
              "    <tr>\n",
              "      <th>524463</th>\n",
              "      <td>Syriac Keyboard : Syriac Typing App</td>\n",
              "      <td>Personalization</td>\n",
              "      <td>0.0</td>\n",
              "      <td>0</td>\n",
              "      <td>100+</td>\n",
              "      <td>100</td>\n",
              "      <td>365</td>\n",
              "      <td>0.0</td>\n",
              "      <td>73.000000</td>\n",
              "      <td>2018-10-02</td>\n",
              "      <td>2020-05-30</td>\n",
              "      <td>True</td>\n",
              "      <td>False</td>\n",
              "      <td>1</td>\n",
              "    </tr>\n",
              "    <tr>\n",
              "      <th>55663</th>\n",
              "      <td>aRAMS II</td>\n",
              "      <td>Video Players &amp; Editors</td>\n",
              "      <td>3.9</td>\n",
              "      <td>34</td>\n",
              "      <td>10,000+</td>\n",
              "      <td>10000</td>\n",
              "      <td>11609</td>\n",
              "      <td>0.0</td>\n",
              "      <td>12.000000</td>\n",
              "      <td>2016-02-19</td>\n",
              "      <td>2020-06-18</td>\n",
              "      <td>False</td>\n",
              "      <td>False</td>\n",
              "      <td>0</td>\n",
              "    </tr>\n",
              "    <tr>\n",
              "      <th>390438</th>\n",
              "      <td>أروع أدعية الشيخ محمد متولى الشعراوى بدون نت</td>\n",
              "      <td>Education</td>\n",
              "      <td>4.7</td>\n",
              "      <td>7</td>\n",
              "      <td>1,000+</td>\n",
              "      <td>1000</td>\n",
              "      <td>1441</td>\n",
              "      <td>0.0</td>\n",
              "      <td>47.000000</td>\n",
              "      <td>2019-12-11</td>\n",
              "      <td>2020-01-18</td>\n",
              "      <td>True</td>\n",
              "      <td>False</td>\n",
              "      <td>1</td>\n",
              "    </tr>\n",
              "  </tbody>\n",
              "</table>\n",
              "</div>"
            ],
            "text/plain": [
              "                                             App_Name  ... Ad_bool\n",
              "598728                                   Yoga for All  ...       1\n",
              "258159                   Holy Bible Reina Valera 1960  ...       1\n",
              "314312                     Latest Nail Polish Designs  ...       1\n",
              "391319  أحمد النفيس - سورة مريم وسورة الواقعة بدون نت  ...       1\n",
              "324766                  Lippo Malls Attendance System  ...       0\n",
              "591463                          Wolf Spike Blood King  ...       1\n",
              "104186                  Cantos De Pássaros Silvestres  ...       1\n",
              "524463            Syriac Keyboard : Syriac Typing App  ...       1\n",
              "55663                                        aRAMS II  ...       0\n",
              "390438   أروع أدعية الشيخ محمد متولى الشعراوى بدون نت  ...       1\n",
              "\n",
              "[10 rows x 14 columns]"
            ]
          },
          "metadata": {
            "tags": []
          },
          "execution_count": 9
        }
      ]
    },
    {
      "cell_type": "markdown",
      "metadata": {
        "id": "mn9l1_U0zIbc"
      },
      "source": [
        "# **POSTPROCESSING DATA INFO**"
      ]
    },
    {
      "cell_type": "code",
      "metadata": {
        "colab": {
          "base_uri": "https://localhost:8080/"
        },
        "id": "2eHJdY7AzLgn",
        "outputId": "d1042f53-f4d0-4f12-e44f-663f7bd7ee98"
      },
      "source": [
        "#Genereal information after preprocessing\r\n",
        "print(df.info(),end = '\\n\\n')"
      ],
      "execution_count": 10,
      "outputs": [
        {
          "output_type": "stream",
          "text": [
            "<class 'pandas.core.frame.DataFrame'>\n",
            "Int64Index: 112087 entries, 20 to 602972\n",
            "Data columns (total 14 columns):\n",
            " #   Column            Non-Null Count   Dtype  \n",
            "---  ------            --------------   -----  \n",
            " 0   App_Name          112087 non-null  string \n",
            " 1   Category          112087 non-null  string \n",
            " 2   Rating            112087 non-null  float32\n",
            " 3   Rating_Count      112087 non-null  int64  \n",
            " 4   Installs          112087 non-null  string \n",
            " 5   Minimum_Installs  112087 non-null  int64  \n",
            " 6   Maximum_Installs  112087 non-null  int64  \n",
            " 7   Price             112087 non-null  float32\n",
            " 8   Size              112087 non-null  float32\n",
            " 9   Released          112087 non-null  object \n",
            " 10  Last_Updated      112087 non-null  object \n",
            " 11  Ad_Supported      112087 non-null  string \n",
            " 12  In_App_Purchases  112087 non-null  bool   \n",
            " 13  Ad_bool           112087 non-null  int8   \n",
            "dtypes: bool(1), float32(3), int64(3), int8(1), object(2), string(4)\n",
            "memory usage: 10.0+ MB\n",
            "None\n",
            "\n"
          ],
          "name": "stdout"
        }
      ]
    },
    {
      "cell_type": "markdown",
      "metadata": {
        "id": "Bsi_FjLDJaqf"
      },
      "source": [
        "# **EXPORT TO GOOGLE DRIVE**\r\n"
      ]
    },
    {
      "cell_type": "code",
      "metadata": {
        "id": "yYaUhkTKJsZ6"
      },
      "source": [
        "#Exporting a csv into google drive\r\n",
        "#df.to_csv('/content/drive/My Drive/GooglePlay-Store_Optimized_v15.csv')"
      ],
      "execution_count": 11,
      "outputs": []
    },
    {
      "cell_type": "markdown",
      "metadata": {
        "id": "plqueKPT0yyk"
      },
      "source": [
        "# **STATISTICS**"
      ]
    },
    {
      "cell_type": "code",
      "metadata": {
        "colab": {
          "base_uri": "https://localhost:8080/"
        },
        "id": "Yts92tunyYGV",
        "outputId": "b5ce8e88-7ccd-4e53-ffbb-84d01895089b"
      },
      "source": [
        "#Retrieve coloumn general info \r\n",
        "name = 'Ad_bool'\r\n",
        "print(df[name].describe())\r\n",
        "print(\"Coloumn's real dtype is:\", df[name].dtypes)"
      ],
      "execution_count": 17,
      "outputs": [
        {
          "output_type": "stream",
          "text": [
            "count    112087.000000\n",
            "mean          0.619626\n",
            "std           0.485481\n",
            "min           0.000000\n",
            "25%           0.000000\n",
            "50%           1.000000\n",
            "75%           1.000000\n",
            "max           1.000000\n",
            "Name: Ad_bool, dtype: float64\n",
            "Coloumn's real dtype is: int8\n"
          ],
          "name": "stdout"
        }
      ]
    },
    {
      "cell_type": "code",
      "metadata": {
        "colab": {
          "base_uri": "https://localhost:8080/"
        },
        "id": "yLABguyZg58V",
        "outputId": "88308d3a-4078-4c81-cf94-d93debbf7e72"
      },
      "source": [
        "#Corrections for BI Robot operations\r\n",
        "df['App_Name'] = df['App_Name'].astype({'App_Name': 'object'})\r\n",
        "df['Category'] = df['Category'].astype({'Category': 'object'})\r\n",
        "\r\n",
        "df.iloc[0]['Minimum_Installs'].mean()"
      ],
      "execution_count": 13,
      "outputs": [
        {
          "output_type": "execute_result",
          "data": {
            "text/plain": [
              "500.0"
            ]
          },
          "metadata": {
            "tags": []
          },
          "execution_count": 13
        }
      ]
    },
    {
      "cell_type": "code",
      "metadata": {
        "id": "L39Wo0NRXDlw"
      },
      "source": [
        "# BI Insights Robot\r\n",
        "def bi_robot(dataframe, dimensions, measure):\r\n",
        "    t = {}\r\n",
        "    for d in dimensions:\r\n",
        "        if (np.issubdtype(dataframe[d].dtype, np.number)):\r\n",
        "            t[d] = df[d].describe()[7]    #Max value of a numeric variable\r\n",
        "        \r\n",
        "        else :\r\n",
        "            t[d] = df[d].describe()[2]    #The most frequent value of any other variable\r\n",
        "\r\n",
        "    for v in t:\r\n",
        "        key       = v\r\n",
        "        value     = [t[v]]\r\n",
        "        dataframe = dataframe.loc[dataframe[key].isin(value)] \r\n",
        "        stat      = dataframe[measure].mean()\r\n",
        "\r\n",
        "    print('BI Robot output:')\r\n",
        "    print(t, end = '')  \r\n",
        "    print(' Mean '+ measure +': ' + \"{:.2f}\".format(stat))\r\n",
        "    print('---------------------') \r\n",
        "\r\n",
        "    #return t"
      ],
      "execution_count": 14,
      "outputs": []
    },
    {
      "cell_type": "code",
      "metadata": {
        "colab": {
          "base_uri": "https://localhost:8080/"
        },
        "id": "haonws10P8Yh",
        "outputId": "e6b582db-543d-45ed-84f1-83f3b5f8738f"
      },
      "source": [
        "df_ins         = df.copy(deep = True)\r\n",
        "filters    = ['Category']\r\n",
        "measure    = 'Rating'\r\n",
        "df_ins = bi_robot(df, filters, measure)\r\n",
        "df_ins"
      ],
      "execution_count": 15,
      "outputs": [
        {
          "output_type": "stream",
          "text": [
            "BI Robot output:\n",
            "{'Category': 'Education'} Mean Rating: 3.16\n",
            "---------------------\n"
          ],
          "name": "stdout"
        }
      ]
    },
    {
      "cell_type": "code",
      "metadata": {
        "id": "qA4xGh6WCtqp"
      },
      "source": [
        ""
      ],
      "execution_count": 15,
      "outputs": []
    }
  ]
}