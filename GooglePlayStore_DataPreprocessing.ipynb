{
  "nbformat": 4,
  "nbformat_minor": 0,
  "metadata": {
    "colab": {
      "name": "GooglePlayStore_DataPreprocessing.ipynb",
      "provenance": [],
      "collapsed_sections": [],
      "authorship_tag": "ABX9TyO0ziFxiigI1wiqe7cRpK1D",
      "include_colab_link": true
    },
    "kernelspec": {
      "name": "python3",
      "display_name": "Python 3"
    }
  },
  "cells": [
    {
      "cell_type": "markdown",
      "metadata": {
        "id": "view-in-github",
        "colab_type": "text"
      },
      "source": [
        "<a href=\"https://colab.research.google.com/github/MeidanGR/GooglePlayStore_Preprocessing_Python/blob/main/GooglePlayStore_DataPreprocessing.ipynb\" target=\"_parent\"><img src=\"https://colab.research.google.com/assets/colab-badge.svg\" alt=\"Open In Colab\"/></a>"
      ]
    },
    {
      "cell_type": "markdown",
      "metadata": {
        "id": "-Gad_hVUwqGW"
      },
      "source": [
        "# **Google Play Store Data Preprocessing**\r\n",
        "This data preprocessing progress has been established for an academic project of a BI course. The data will be analyzed within the project.\r\n",
        "\r\n",
        "Major thanks to **Gautham Prakash** for publishing & maintenance this dataset, which you can find at https://www.kaggle.com/gauthamp10/google-playstore-apps\r\n"
      ]
    },
    {
      "cell_type": "markdown",
      "metadata": {
        "id": "XEwg6IMf-ew7"
      },
      "source": [
        "# **Google auth & libraries**"
      ]
    },
    {
      "cell_type": "code",
      "metadata": {
        "colab": {
          "base_uri": "https://localhost:8080/"
        },
        "id": "T2AXr9cs90aQ",
        "outputId": "615478cd-7d30-4878-a727-4bf0019707ca"
      },
      "source": [
        "from google.colab import drive\r\n",
        "drive.mount('/content/drive')"
      ],
      "execution_count": 1,
      "outputs": [
        {
          "output_type": "stream",
          "text": [
            "Mounted at /content/drive\n"
          ],
          "name": "stdout"
        }
      ]
    },
    {
      "cell_type": "code",
      "metadata": {
        "id": "K6AN0alb-Ecd"
      },
      "source": [
        "import pandas as pd\r\n",
        "import numpy as np"
      ],
      "execution_count": 153,
      "outputs": []
    },
    {
      "cell_type": "markdown",
      "metadata": {
        "id": "gFk0C6C48ZGe"
      },
      "source": [
        "# **CSV LOAD**\r\n"
      ]
    },
    {
      "cell_type": "code",
      "metadata": {
        "colab": {
          "base_uri": "https://localhost:8080/",
          "height": 743
        },
        "id": "__oMmDYK_rTh",
        "outputId": "b02d7da1-2b79-4db9-d90e-dc9a3145b890"
      },
      "source": [
        "#Loading csv\r\n",
        "df = pd.read_csv('/content/drive/My Drive/Google-Playstore.csv')\r\n",
        "\r\n",
        "print(\"Dataframe original shape is\", np.shape(df), end='\\n\\n')\r\n",
        "print(df.info())\r\n",
        "df.sample(2)"
      ],
      "execution_count": 154,
      "outputs": [
        {
          "output_type": "stream",
          "text": [
            "Dataframe original shape is (603047, 23)\n",
            "\n",
            "<class 'pandas.core.frame.DataFrame'>\n",
            "RangeIndex: 603047 entries, 0 to 603046\n",
            "Data columns (total 23 columns):\n",
            " #   Column             Non-Null Count   Dtype  \n",
            "---  ------             --------------   -----  \n",
            " 0   App Name           603046 non-null  object \n",
            " 1   App Id             603047 non-null  object \n",
            " 2   Category           603047 non-null  object \n",
            " 3   Rating             599287 non-null  float64\n",
            " 4   Rating Count       599287 non-null  float64\n",
            " 5   Installs           602875 non-null  object \n",
            " 6   Minimum Installs   602875 non-null  float64\n",
            " 7   Maximum Installs   603047 non-null  int64  \n",
            " 8   Free               603047 non-null  bool   \n",
            " 9   Price              603047 non-null  float64\n",
            " 10  Currency           602866 non-null  object \n",
            " 11  Size               603047 non-null  object \n",
            " 12  Minimum Android    602556 non-null  object \n",
            " 13  Developer Id       603045 non-null  object \n",
            " 14  Developer Website  423783 non-null  object \n",
            " 15  Developer Email    603010 non-null  object \n",
            " 16  Released           570769 non-null  object \n",
            " 17  Last Updated       603047 non-null  object \n",
            " 18  Content Rating     603047 non-null  object \n",
            " 19  Privacy Policy     517662 non-null  object \n",
            " 20  Ad Supported       603047 non-null  bool   \n",
            " 21  In App Purchases   603047 non-null  bool   \n",
            " 22  Editors Choice     603047 non-null  bool   \n",
            "dtypes: bool(4), float64(4), int64(1), object(14)\n",
            "memory usage: 89.7+ MB\n",
            "None\n"
          ],
          "name": "stdout"
        },
        {
          "output_type": "execute_result",
          "data": {
            "text/html": [
              "<div>\n",
              "<style scoped>\n",
              "    .dataframe tbody tr th:only-of-type {\n",
              "        vertical-align: middle;\n",
              "    }\n",
              "\n",
              "    .dataframe tbody tr th {\n",
              "        vertical-align: top;\n",
              "    }\n",
              "\n",
              "    .dataframe thead th {\n",
              "        text-align: right;\n",
              "    }\n",
              "</style>\n",
              "<table border=\"1\" class=\"dataframe\">\n",
              "  <thead>\n",
              "    <tr style=\"text-align: right;\">\n",
              "      <th></th>\n",
              "      <th>App Name</th>\n",
              "      <th>App Id</th>\n",
              "      <th>Category</th>\n",
              "      <th>Rating</th>\n",
              "      <th>Rating Count</th>\n",
              "      <th>Installs</th>\n",
              "      <th>Minimum Installs</th>\n",
              "      <th>Maximum Installs</th>\n",
              "      <th>Free</th>\n",
              "      <th>Price</th>\n",
              "      <th>Currency</th>\n",
              "      <th>Size</th>\n",
              "      <th>Minimum Android</th>\n",
              "      <th>Developer Id</th>\n",
              "      <th>Developer Website</th>\n",
              "      <th>Developer Email</th>\n",
              "      <th>Released</th>\n",
              "      <th>Last Updated</th>\n",
              "      <th>Content Rating</th>\n",
              "      <th>Privacy Policy</th>\n",
              "      <th>Ad Supported</th>\n",
              "      <th>In App Purchases</th>\n",
              "      <th>Editors Choice</th>\n",
              "    </tr>\n",
              "  </thead>\n",
              "  <tbody>\n",
              "    <tr>\n",
              "      <th>583986</th>\n",
              "      <td>Wave.io</td>\n",
              "      <td>studio.onepixel.wave</td>\n",
              "      <td>Arcade</td>\n",
              "      <td>4.9</td>\n",
              "      <td>12.0</td>\n",
              "      <td>1,000+</td>\n",
              "      <td>1000.0</td>\n",
              "      <td>1691</td>\n",
              "      <td>True</td>\n",
              "      <td>0.0</td>\n",
              "      <td>USD</td>\n",
              "      <td>9.9M</td>\n",
              "      <td>4.0.3 and up</td>\n",
              "      <td>OnePixel Studio</td>\n",
              "      <td>https://onepixel.studio/</td>\n",
              "      <td>support@onepixel.studio</td>\n",
              "      <td>Nov 27, 2018</td>\n",
              "      <td>14/12/2019 19:50</td>\n",
              "      <td>Everyone</td>\n",
              "      <td>http://onepixel.studio/privacypolicy/wave_io.html</td>\n",
              "      <td>True</td>\n",
              "      <td>False</td>\n",
              "      <td>False</td>\n",
              "    </tr>\n",
              "    <tr>\n",
              "      <th>363003</th>\n",
              "      <td>MPDX</td>\n",
              "      <td>org.mpdx</td>\n",
              "      <td>Communication</td>\n",
              "      <td>3.5</td>\n",
              "      <td>63.0</td>\n",
              "      <td>5,000+</td>\n",
              "      <td>5000.0</td>\n",
              "      <td>5045</td>\n",
              "      <td>True</td>\n",
              "      <td>0.0</td>\n",
              "      <td>USD</td>\n",
              "      <td>15M</td>\n",
              "      <td>5.0 and up</td>\n",
              "      <td>Cru</td>\n",
              "      <td>http://www.mpdx.org</td>\n",
              "      <td>support@mpdx.org</td>\n",
              "      <td>Sep 22, 2012</td>\n",
              "      <td>29/04/2020 23:28</td>\n",
              "      <td>Everyone</td>\n",
              "      <td>https://www.cru.org/about/privacy.html</td>\n",
              "      <td>False</td>\n",
              "      <td>False</td>\n",
              "      <td>False</td>\n",
              "    </tr>\n",
              "  </tbody>\n",
              "</table>\n",
              "</div>"
            ],
            "text/plain": [
              "       App Name                App Id  ... In App Purchases  Editors Choice\n",
              "583986  Wave.io  studio.onepixel.wave  ...            False           False\n",
              "363003     MPDX              org.mpdx  ...            False           False\n",
              "\n",
              "[2 rows x 23 columns]"
            ]
          },
          "metadata": {
            "tags": []
          },
          "execution_count": 154
        }
      ]
    },
    {
      "cell_type": "markdown",
      "metadata": {
        "id": "k4jCiMRNCqTV"
      },
      "source": [
        "# **DATA FILTERING**\r\n",
        "## Agenda: \r\n",
        "Data reduction down to ~100K rows, for a decent dataframe volume, shape, & a faster run in Google Data Studio.\r\n",
        "\r\n",
        "## Guidelines:\r\n",
        "- **Minimum Android** is the minimum android version which allowes operation for the app. The mose popular values were found: 4.1\\4.0.3\\6.0 and up & Varies with device.\r\n",
        "- **Size** must exceed 1MB.\r\n",
        "- **Currency** will be USD only.\r\n",
        "- **Last updated** during 2020.\r\n"
      ]
    },
    {
      "cell_type": "code",
      "metadata": {
        "id": "9oZc6jq8-gDP"
      },
      "source": [
        "#Coloumn labels space fix\r\n",
        "df.columns = [x.replace(\" \", \"_\") for x in df.columns]\r\n",
        "\r\n",
        "#Rows SELECT\r\n",
        "df = df.query('(Minimum_Android == \"4.1 and up\" | Minimum_Android == \"4.0.3 and up\" | Minimum_Android == \"Varies with device\" | \\\r\n",
        "Minimum_Android == \"6.0 and up\") & not Size.str.endswith(\"k\") & Currency == \"USD\" & Last_Updated.str.contains(\"2020\")',engine='python')\r\n",
        "\r\n",
        "#Coloumns FILTER\r\n",
        "df = df.filter(items=['App_Name', 'Category', 'Rating', 'Rating_Count', 'Installs', 'Minimum_Installs','Maximum_Installs', 'Price', 'Size','Released','Last_Updated','Ad_Supported', 'In_App_Purchases'])\r\n",
        "\r\n",
        "#Early null creation\r\n",
        "df['Size'] = df['Size'].replace(to_replace=\"Varies with device\", #turning \"Varies with device\" to null.\r\n",
        "                                   value = np.nan)\r\n",
        "#Saving a copy of dataframe\r\n",
        "dfcopy = df.copy(deep=True)\r\n"
      ],
      "execution_count": 155,
      "outputs": []
    },
    {
      "cell_type": "code",
      "metadata": {
        "colab": {
          "base_uri": "https://localhost:8080/",
          "height": 376
        },
        "id": "AOYdQNUXWTdg",
        "outputId": "6dfe6b18-23e2-4b81-992c-eca9191e5bf6"
      },
      "source": [
        "print(\"Dataframe reduced shape is\", np.shape(df))\r\n",
        "df.sample(10)"
      ],
      "execution_count": 156,
      "outputs": [
        {
          "output_type": "stream",
          "text": [
            "Dataframe reduced shape is (112092, 13)\n"
          ],
          "name": "stdout"
        },
        {
          "output_type": "execute_result",
          "data": {
            "text/html": [
              "<div>\n",
              "<style scoped>\n",
              "    .dataframe tbody tr th:only-of-type {\n",
              "        vertical-align: middle;\n",
              "    }\n",
              "\n",
              "    .dataframe tbody tr th {\n",
              "        vertical-align: top;\n",
              "    }\n",
              "\n",
              "    .dataframe thead th {\n",
              "        text-align: right;\n",
              "    }\n",
              "</style>\n",
              "<table border=\"1\" class=\"dataframe\">\n",
              "  <thead>\n",
              "    <tr style=\"text-align: right;\">\n",
              "      <th></th>\n",
              "      <th>App_Name</th>\n",
              "      <th>Category</th>\n",
              "      <th>Rating</th>\n",
              "      <th>Rating_Count</th>\n",
              "      <th>Installs</th>\n",
              "      <th>Minimum_Installs</th>\n",
              "      <th>Maximum_Installs</th>\n",
              "      <th>Price</th>\n",
              "      <th>Size</th>\n",
              "      <th>Released</th>\n",
              "      <th>Last_Updated</th>\n",
              "      <th>Ad_Supported</th>\n",
              "      <th>In_App_Purchases</th>\n",
              "    </tr>\n",
              "  </thead>\n",
              "  <tbody>\n",
              "    <tr>\n",
              "      <th>169078</th>\n",
              "      <td>Drum Set Rhythms</td>\n",
              "      <td>Music &amp; Audio</td>\n",
              "      <td>4.6</td>\n",
              "      <td>29.0</td>\n",
              "      <td>5,000+</td>\n",
              "      <td>5000.0</td>\n",
              "      <td>5924</td>\n",
              "      <td>0.00</td>\n",
              "      <td>NaN</td>\n",
              "      <td>Feb 1, 2020</td>\n",
              "      <td>06/02/2020 15:00</td>\n",
              "      <td>True</td>\n",
              "      <td>False</td>\n",
              "    </tr>\n",
              "    <tr>\n",
              "      <th>413089</th>\n",
              "      <td>Pakistan Radio Stations Online - Pakistan FM AM</td>\n",
              "      <td>Music &amp; Audio</td>\n",
              "      <td>4.4</td>\n",
              "      <td>112.0</td>\n",
              "      <td>10,000+</td>\n",
              "      <td>10000.0</td>\n",
              "      <td>38095</td>\n",
              "      <td>0.00</td>\n",
              "      <td>5.4M</td>\n",
              "      <td>Mar 18, 2018</td>\n",
              "      <td>12/03/2020 13:22</td>\n",
              "      <td>True</td>\n",
              "      <td>False</td>\n",
              "    </tr>\n",
              "    <tr>\n",
              "      <th>226955</th>\n",
              "      <td>Garden Dual Photo Frames</td>\n",
              "      <td>Photography</td>\n",
              "      <td>4.0</td>\n",
              "      <td>2933.0</td>\n",
              "      <td>1,000,000+</td>\n",
              "      <td>1000000.0</td>\n",
              "      <td>3211418</td>\n",
              "      <td>0.00</td>\n",
              "      <td>3.0M</td>\n",
              "      <td>May 23, 2017</td>\n",
              "      <td>05/07/2020 17:32</td>\n",
              "      <td>True</td>\n",
              "      <td>False</td>\n",
              "    </tr>\n",
              "    <tr>\n",
              "      <th>563287</th>\n",
              "      <td>UGC NET PAPER 2 COMMERCE SOLVED PREVIOUS PAPERS</td>\n",
              "      <td>Education</td>\n",
              "      <td>0.0</td>\n",
              "      <td>0.0</td>\n",
              "      <td>1,000+</td>\n",
              "      <td>1000.0</td>\n",
              "      <td>1130</td>\n",
              "      <td>0.00</td>\n",
              "      <td>9.0M</td>\n",
              "      <td>Jan 20, 2020</td>\n",
              "      <td>21/01/2020 7:15</td>\n",
              "      <td>True</td>\n",
              "      <td>False</td>\n",
              "    </tr>\n",
              "    <tr>\n",
              "      <th>137210</th>\n",
              "      <td>Cube Icon Pack 💢Paid💢</td>\n",
              "      <td>Personalization</td>\n",
              "      <td>4.7</td>\n",
              "      <td>10.0</td>\n",
              "      <td>100+</td>\n",
              "      <td>100.0</td>\n",
              "      <td>168</td>\n",
              "      <td>1.99</td>\n",
              "      <td>2.3M</td>\n",
              "      <td>Mar 6, 2018</td>\n",
              "      <td>18/05/2020 13:07</td>\n",
              "      <td>False</td>\n",
              "      <td>False</td>\n",
              "    </tr>\n",
              "    <tr>\n",
              "      <th>372212</th>\n",
              "      <td>MySFL</td>\n",
              "      <td>Sports</td>\n",
              "      <td>3.9</td>\n",
              "      <td>97.0</td>\n",
              "      <td>10,000+</td>\n",
              "      <td>10000.0</td>\n",
              "      <td>12152</td>\n",
              "      <td>0.00</td>\n",
              "      <td>40M</td>\n",
              "      <td>Jan 11, 2013</td>\n",
              "      <td>13/02/2020 19:56</td>\n",
              "      <td>False</td>\n",
              "      <td>False</td>\n",
              "    </tr>\n",
              "    <tr>\n",
              "      <th>312403</th>\n",
              "      <td>Lagu Rohani Batak OFFLINE</td>\n",
              "      <td>Music &amp; Audio</td>\n",
              "      <td>0.0</td>\n",
              "      <td>0.0</td>\n",
              "      <td>500+</td>\n",
              "      <td>500.0</td>\n",
              "      <td>512</td>\n",
              "      <td>0.00</td>\n",
              "      <td>37M</td>\n",
              "      <td>May 25, 2020</td>\n",
              "      <td>25/05/2020 13:59</td>\n",
              "      <td>True</td>\n",
              "      <td>False</td>\n",
              "    </tr>\n",
              "    <tr>\n",
              "      <th>163457</th>\n",
              "      <td>Математика - школьный курс. Подготовка ЕГЭ и ОГЭ.</td>\n",
              "      <td>Education</td>\n",
              "      <td>4.5</td>\n",
              "      <td>17115.0</td>\n",
              "      <td>500,000+</td>\n",
              "      <td>500000.0</td>\n",
              "      <td>925973</td>\n",
              "      <td>0.00</td>\n",
              "      <td>2.9M</td>\n",
              "      <td>Apr 18, 2015</td>\n",
              "      <td>31/01/2020 21:05</td>\n",
              "      <td>False</td>\n",
              "      <td>False</td>\n",
              "    </tr>\n",
              "    <tr>\n",
              "      <th>328538</th>\n",
              "      <td>Loop - Caribbean Local News</td>\n",
              "      <td>News &amp; Magazines</td>\n",
              "      <td>4.2</td>\n",
              "      <td>5312.0</td>\n",
              "      <td>1,000,000+</td>\n",
              "      <td>1000000.0</td>\n",
              "      <td>1713409</td>\n",
              "      <td>0.00</td>\n",
              "      <td>4.1M</td>\n",
              "      <td>Apr 15, 2014</td>\n",
              "      <td>21/07/2020 6:53</td>\n",
              "      <td>True</td>\n",
              "      <td>False</td>\n",
              "    </tr>\n",
              "    <tr>\n",
              "      <th>454043</th>\n",
              "      <td>Radios Cristianas del Salvador emisoras cristi...</td>\n",
              "      <td>Music &amp; Audio</td>\n",
              "      <td>4.5</td>\n",
              "      <td>69.0</td>\n",
              "      <td>10,000+</td>\n",
              "      <td>10000.0</td>\n",
              "      <td>13182</td>\n",
              "      <td>0.00</td>\n",
              "      <td>6.1M</td>\n",
              "      <td>Apr 24, 2017</td>\n",
              "      <td>14/02/2020 7:08</td>\n",
              "      <td>True</td>\n",
              "      <td>False</td>\n",
              "    </tr>\n",
              "  </tbody>\n",
              "</table>\n",
              "</div>"
            ],
            "text/plain": [
              "                                                 App_Name  ... In_App_Purchases\n",
              "169078                                   Drum Set Rhythms  ...            False\n",
              "413089    Pakistan Radio Stations Online - Pakistan FM AM  ...            False\n",
              "226955                           Garden Dual Photo Frames  ...            False\n",
              "563287    UGC NET PAPER 2 COMMERCE SOLVED PREVIOUS PAPERS  ...            False\n",
              "137210                              Cube Icon Pack 💢Paid💢  ...            False\n",
              "372212                                              MySFL  ...            False\n",
              "312403                          Lagu Rohani Batak OFFLINE  ...            False\n",
              "163457  Математика - школьный курс. Подготовка ЕГЭ и ОГЭ.  ...            False\n",
              "328538                        Loop - Caribbean Local News  ...            False\n",
              "454043  Radios Cristianas del Salvador emisoras cristi...  ...            False\n",
              "\n",
              "[10 rows x 13 columns]"
            ]
          },
          "metadata": {
            "tags": []
          },
          "execution_count": 156
        }
      ]
    },
    {
      "cell_type": "markdown",
      "metadata": {
        "id": "4KbzaVM8FcLk"
      },
      "source": [
        "# **CHECKPOINT DATA INFO**"
      ]
    },
    {
      "cell_type": "code",
      "metadata": {
        "colab": {
          "base_uri": "https://localhost:8080/"
        },
        "id": "CZi23I8UxwDS",
        "outputId": "1fb38020-ee9b-4122-8817-0f21817e9a02"
      },
      "source": [
        "print(\"Dataframe NULL count:\")\r\n",
        "print(df.isnull().sum(axis = 0), end=\"\\n\\n\")\r\n",
        "\r\n",
        "df.info()"
      ],
      "execution_count": 157,
      "outputs": [
        {
          "output_type": "stream",
          "text": [
            "Dataframe NULL count:\n",
            "App_Name                1\n",
            "Category                0\n",
            "Rating               1880\n",
            "Rating_Count         1880\n",
            "Installs                0\n",
            "Minimum_Installs        0\n",
            "Maximum_Installs        0\n",
            "Price                   0\n",
            "Size                10823\n",
            "Released             6338\n",
            "Last_Updated            0\n",
            "Ad_Supported            0\n",
            "In_App_Purchases        0\n",
            "dtype: int64\n",
            "\n",
            "<class 'pandas.core.frame.DataFrame'>\n",
            "Int64Index: 112092 entries, 20 to 603046\n",
            "Data columns (total 13 columns):\n",
            " #   Column            Non-Null Count   Dtype  \n",
            "---  ------            --------------   -----  \n",
            " 0   App_Name          112091 non-null  object \n",
            " 1   Category          112092 non-null  object \n",
            " 2   Rating            110212 non-null  float64\n",
            " 3   Rating_Count      110212 non-null  float64\n",
            " 4   Installs          112092 non-null  object \n",
            " 5   Minimum_Installs  112092 non-null  float64\n",
            " 6   Maximum_Installs  112092 non-null  int64  \n",
            " 7   Price             112092 non-null  float64\n",
            " 8   Size              101269 non-null  object \n",
            " 9   Released          105754 non-null  object \n",
            " 10  Last_Updated      112092 non-null  object \n",
            " 11  Ad_Supported      112092 non-null  bool   \n",
            " 12  In_App_Purchases  112092 non-null  bool   \n",
            "dtypes: bool(2), float64(4), int64(1), object(6)\n",
            "memory usage: 10.5+ MB\n"
          ],
          "name": "stdout"
        }
      ]
    },
    {
      "cell_type": "code",
      "metadata": {
        "id": "41jvzDvQFZcn"
      },
      "source": [
        ""
      ],
      "execution_count": 157,
      "outputs": []
    },
    {
      "cell_type": "markdown",
      "metadata": {
        "id": "bjUUEiC6qUR1"
      },
      "source": [
        "# **DATA CLEANING & OPTIMIZATION**\r\n",
        "- A null value that was found in **App_Name** is not acceptable for further analysis, also 4 apps named: \"#NAME?\" should be cleaned.\r\n",
        "- The null values in **Rating, Rating_Count, Size, and Released** columns will be replaced with mean values.\r\n",
        "- Column dtypes will be corrected if necessary.\r\n",
        "- Column values type will be corrected if necessary.\r\n",
        "- Adding \"Ad_bool\" column, which is identical to Ad_Suppored but with 0 and 1 values, for aggregation actions such as Sum. "
      ]
    },
    {
      "cell_type": "code",
      "metadata": {
        "id": "tfA_6YJxtrJm"
      },
      "source": [
        "#NULL Extraction\r\n",
        "df = df.query('not App_Name.isnull() & not App_Name==\"#NAME?\"',engine='python')\r\n",
        "\r\n",
        "#VITAL column fixes before null replacements:\r\n",
        "#Trimming 'M' from all values in order to set as int.\r\n",
        "df['Size'] = df['Size'].str.replace('M',\"\") \r\n",
        "df['Size'] = df['Size'].astype({'Size': 'float32'})\r\n",
        "#Transform of \"Released\" coloumn to Datetime for the use of pandas.DatetimeIndex.mean\r\n",
        "df['Released'] = pd.to_datetime(df['Released']) \r\n",
        "\r\n",
        "# Function replaces np.nan values in all of the data frame with relevant statistics \\ dal7collab\r\n",
        "def rep_missings(data_frame):\r\n",
        "    d = data_frame.copy(deep = True)\r\n",
        "    for c in data_frame:\r\n",
        "        if data_frame[c].isnull().values.any() :\r\n",
        "          m = data_frame[c].dropna().mean()\r\n",
        "          d[c].fillna(m, inplace = True)\r\n",
        "    return d;\r\n",
        "\r\n",
        "# Activating the function\r\n",
        "df = rep_missings(df)"
      ],
      "execution_count": 158,
      "outputs": []
    },
    {
      "cell_type": "code",
      "metadata": {
        "id": "HEmyDEgPqjIh",
        "colab": {
          "base_uri": "https://localhost:8080/",
          "height": 376
        },
        "outputId": "64b15cd3-d244-43db-c7a4-c317256f20ac"
      },
      "source": [
        "#Adding Ad_bool column, as described above.\r\n",
        "df['Ad_Supported'] = df['Ad_Supported'].astype({'Ad_Supported': 'string'})\r\n",
        "df['Ad_bool']= df['Ad_Supported']\r\n",
        "df['Ad_bool']= df['Ad_bool'].str.replace(\"True\", \"1\")\r\n",
        "df['Ad_bool']= df['Ad_bool'].str.replace(\"False\", \"0\")\r\n",
        "\r\n",
        "#Coloumn types correction\r\n",
        "df['App_Name'] = df['App_Name'].astype({'App_Name': 'string'})\r\n",
        "df['Category'] = df['Category'].astype({'Category': 'string'})\r\n",
        "df['Rating'] = df['Rating'].astype({'Rating': 'float32'})\r\n",
        "df['Rating_Count'] = df['Rating_Count'].astype({'Rating_Count': 'int64'})\r\n",
        "df['Installs'] = df['Installs'].astype({'Installs': 'string'})\r\n",
        "df['Minimum_Installs'] = df['Minimum_Installs'].astype({'Minimum_Installs': 'int64'})\r\n",
        "df['Price'] = df['Price'].astype({'Price': 'float32'})\r\n",
        "df['Released'] = pd.to_datetime(df['Released']).dt.strftime('%Y-%m-%d') #Fetching only yyyy-mm-dd from the full datetime.\r\n",
        "df['Last_Updated'] = pd.to_datetime(df['Last_Updated']).dt.strftime('%Y-%m-%d') #Fetching only yyyy-mm-dd from the full datetime.\r\n",
        "df['Size'] = df['Size'].astype({'Size': 'float32'})\r\n",
        "df['Ad_bool'] = df['Ad_bool'].astype({'Ad_bool': 'int8'})\r\n",
        "\r\n",
        "\r\n",
        "print(\"Dataframe final shape is\", np.shape(df))\r\n",
        "df.sample(10)"
      ],
      "execution_count": 159,
      "outputs": [
        {
          "output_type": "stream",
          "text": [
            "Dataframe final shape is (112087, 14)\n"
          ],
          "name": "stdout"
        },
        {
          "output_type": "execute_result",
          "data": {
            "text/html": [
              "<div>\n",
              "<style scoped>\n",
              "    .dataframe tbody tr th:only-of-type {\n",
              "        vertical-align: middle;\n",
              "    }\n",
              "\n",
              "    .dataframe tbody tr th {\n",
              "        vertical-align: top;\n",
              "    }\n",
              "\n",
              "    .dataframe thead th {\n",
              "        text-align: right;\n",
              "    }\n",
              "</style>\n",
              "<table border=\"1\" class=\"dataframe\">\n",
              "  <thead>\n",
              "    <tr style=\"text-align: right;\">\n",
              "      <th></th>\n",
              "      <th>App_Name</th>\n",
              "      <th>Category</th>\n",
              "      <th>Rating</th>\n",
              "      <th>Rating_Count</th>\n",
              "      <th>Installs</th>\n",
              "      <th>Minimum_Installs</th>\n",
              "      <th>Maximum_Installs</th>\n",
              "      <th>Price</th>\n",
              "      <th>Size</th>\n",
              "      <th>Released</th>\n",
              "      <th>Last_Updated</th>\n",
              "      <th>Ad_Supported</th>\n",
              "      <th>In_App_Purchases</th>\n",
              "      <th>Ad_bool</th>\n",
              "    </tr>\n",
              "  </thead>\n",
              "  <tbody>\n",
              "    <tr>\n",
              "      <th>532180</th>\n",
              "      <td>Telangana Board Result 2020, TS Board Inter &amp; SSC</td>\n",
              "      <td>Education</td>\n",
              "      <td>3.8</td>\n",
              "      <td>348</td>\n",
              "      <td>100,000+</td>\n",
              "      <td>100000</td>\n",
              "      <td>136037</td>\n",
              "      <td>0.0</td>\n",
              "      <td>8.100000</td>\n",
              "      <td>2018-02-15</td>\n",
              "      <td>2020-12-06</td>\n",
              "      <td>True</td>\n",
              "      <td>False</td>\n",
              "      <td>1</td>\n",
              "    </tr>\n",
              "    <tr>\n",
              "      <th>247943</th>\n",
              "      <td>Happy Janamashtami Wishes 2020</td>\n",
              "      <td>Lifestyle</td>\n",
              "      <td>0.0</td>\n",
              "      <td>0</td>\n",
              "      <td>10+</td>\n",
              "      <td>10</td>\n",
              "      <td>20</td>\n",
              "      <td>0.0</td>\n",
              "      <td>3.400000</td>\n",
              "      <td>2015-08-30</td>\n",
              "      <td>2020-07-13</td>\n",
              "      <td>True</td>\n",
              "      <td>False</td>\n",
              "      <td>1</td>\n",
              "    </tr>\n",
              "    <tr>\n",
              "      <th>353704</th>\n",
              "      <td>Miner World : Grow Miner</td>\n",
              "      <td>Adventure</td>\n",
              "      <td>3.9</td>\n",
              "      <td>1062</td>\n",
              "      <td>100,000+</td>\n",
              "      <td>100000</td>\n",
              "      <td>252848</td>\n",
              "      <td>0.0</td>\n",
              "      <td>4.600000</td>\n",
              "      <td>2018-11-08</td>\n",
              "      <td>2020-06-27</td>\n",
              "      <td>True</td>\n",
              "      <td>False</td>\n",
              "      <td>1</td>\n",
              "    </tr>\n",
              "    <tr>\n",
              "      <th>394030</th>\n",
              "      <td>اسماء بنات و أولاد (أنمي و مانغا) 2020 - بدون نت</td>\n",
              "      <td>Lifestyle</td>\n",
              "      <td>4.3</td>\n",
              "      <td>687</td>\n",
              "      <td>50,000+</td>\n",
              "      <td>50000</td>\n",
              "      <td>62595</td>\n",
              "      <td>0.0</td>\n",
              "      <td>49.000000</td>\n",
              "      <td>2017-07-23</td>\n",
              "      <td>2020-03-24</td>\n",
              "      <td>True</td>\n",
              "      <td>False</td>\n",
              "      <td>1</td>\n",
              "    </tr>\n",
              "    <tr>\n",
              "      <th>507078</th>\n",
              "      <td>Speed Rush Las Vegas Free Slot</td>\n",
              "      <td>Casino</td>\n",
              "      <td>4.4</td>\n",
              "      <td>190</td>\n",
              "      <td>10,000+</td>\n",
              "      <td>10000</td>\n",
              "      <td>21550</td>\n",
              "      <td>0.0</td>\n",
              "      <td>7.400000</td>\n",
              "      <td>2015-06-12</td>\n",
              "      <td>2020-01-14</td>\n",
              "      <td>True</td>\n",
              "      <td>True</td>\n",
              "      <td>1</td>\n",
              "    </tr>\n",
              "    <tr>\n",
              "      <th>487993</th>\n",
              "      <td>Share Up - File Transfer &amp; Sharing</td>\n",
              "      <td>Communication</td>\n",
              "      <td>5.0</td>\n",
              "      <td>6</td>\n",
              "      <td>100+</td>\n",
              "      <td>100</td>\n",
              "      <td>219</td>\n",
              "      <td>0.0</td>\n",
              "      <td>65.000000</td>\n",
              "      <td>2020-07-11</td>\n",
              "      <td>2020-07-14</td>\n",
              "      <td>True</td>\n",
              "      <td>False</td>\n",
              "      <td>1</td>\n",
              "    </tr>\n",
              "    <tr>\n",
              "      <th>253558</th>\n",
              "      <td>Hi MATE 원격제어(현대건설기계)</td>\n",
              "      <td>Entertainment</td>\n",
              "      <td>0.0</td>\n",
              "      <td>0</td>\n",
              "      <td>100+</td>\n",
              "      <td>100</td>\n",
              "      <td>293</td>\n",
              "      <td>0.0</td>\n",
              "      <td>3.500000</td>\n",
              "      <td>2017-10-13</td>\n",
              "      <td>2020-07-15</td>\n",
              "      <td>False</td>\n",
              "      <td>False</td>\n",
              "      <td>0</td>\n",
              "    </tr>\n",
              "    <tr>\n",
              "      <th>250853</th>\n",
              "      <td>Health Tips Telugu (Arogya Chitkalu)</td>\n",
              "      <td>Health &amp; Fitness</td>\n",
              "      <td>4.1</td>\n",
              "      <td>10</td>\n",
              "      <td>10,000+</td>\n",
              "      <td>10000</td>\n",
              "      <td>13024</td>\n",
              "      <td>0.0</td>\n",
              "      <td>3.500000</td>\n",
              "      <td>2018-08-13</td>\n",
              "      <td>2020-04-24</td>\n",
              "      <td>True</td>\n",
              "      <td>False</td>\n",
              "      <td>1</td>\n",
              "    </tr>\n",
              "    <tr>\n",
              "      <th>353508</th>\n",
              "      <td>Mindbody: Home Workout &amp; Fitness App</td>\n",
              "      <td>Health &amp; Fitness</td>\n",
              "      <td>4.6</td>\n",
              "      <td>13230</td>\n",
              "      <td>1,000,000+</td>\n",
              "      <td>1000000</td>\n",
              "      <td>3918915</td>\n",
              "      <td>0.0</td>\n",
              "      <td>18.566137</td>\n",
              "      <td>2013-10-04</td>\n",
              "      <td>2020-05-21</td>\n",
              "      <td>False</td>\n",
              "      <td>False</td>\n",
              "      <td>0</td>\n",
              "    </tr>\n",
              "    <tr>\n",
              "      <th>105695</th>\n",
              "      <td>Card Game 29</td>\n",
              "      <td>Card</td>\n",
              "      <td>4.2</td>\n",
              "      <td>33619</td>\n",
              "      <td>5,000,000+</td>\n",
              "      <td>5000000</td>\n",
              "      <td>8882980</td>\n",
              "      <td>0.0</td>\n",
              "      <td>17.000000</td>\n",
              "      <td>2014-09-02</td>\n",
              "      <td>2020-07-20</td>\n",
              "      <td>True</td>\n",
              "      <td>False</td>\n",
              "      <td>1</td>\n",
              "    </tr>\n",
              "  </tbody>\n",
              "</table>\n",
              "</div>"
            ],
            "text/plain": [
              "                                                 App_Name  ... Ad_bool\n",
              "532180  Telangana Board Result 2020, TS Board Inter & SSC  ...       1\n",
              "247943                     Happy Janamashtami Wishes 2020  ...       1\n",
              "353704                           Miner World : Grow Miner  ...       1\n",
              "394030   اسماء بنات و أولاد (أنمي و مانغا) 2020 - بدون نت  ...       1\n",
              "507078                     Speed Rush Las Vegas Free Slot  ...       1\n",
              "487993                 Share Up - File Transfer & Sharing  ...       1\n",
              "253558                               Hi MATE 원격제어(현대건설기계)  ...       0\n",
              "250853               Health Tips Telugu (Arogya Chitkalu)  ...       1\n",
              "353508               Mindbody: Home Workout & Fitness App  ...       0\n",
              "105695                                       Card Game 29  ...       1\n",
              "\n",
              "[10 rows x 14 columns]"
            ]
          },
          "metadata": {
            "tags": []
          },
          "execution_count": 159
        }
      ]
    },
    {
      "cell_type": "markdown",
      "metadata": {
        "id": "mn9l1_U0zIbc"
      },
      "source": [
        "# **POSTPROCESSING DATA INFO**"
      ]
    },
    {
      "cell_type": "code",
      "metadata": {
        "colab": {
          "base_uri": "https://localhost:8080/"
        },
        "id": "2eHJdY7AzLgn",
        "outputId": "586b7a15-c1b7-477c-b0ce-85d7bb5280c5"
      },
      "source": [
        "#Genereal information after preprocessing\r\n",
        "print(df.info(),end = '\\n\\n')"
      ],
      "execution_count": 160,
      "outputs": [
        {
          "output_type": "stream",
          "text": [
            "<class 'pandas.core.frame.DataFrame'>\n",
            "Int64Index: 112087 entries, 20 to 602972\n",
            "Data columns (total 14 columns):\n",
            " #   Column            Non-Null Count   Dtype  \n",
            "---  ------            --------------   -----  \n",
            " 0   App_Name          112087 non-null  string \n",
            " 1   Category          112087 non-null  string \n",
            " 2   Rating            112087 non-null  float32\n",
            " 3   Rating_Count      112087 non-null  int64  \n",
            " 4   Installs          112087 non-null  string \n",
            " 5   Minimum_Installs  112087 non-null  int64  \n",
            " 6   Maximum_Installs  112087 non-null  int64  \n",
            " 7   Price             112087 non-null  float32\n",
            " 8   Size              112087 non-null  float32\n",
            " 9   Released          112087 non-null  object \n",
            " 10  Last_Updated      112087 non-null  object \n",
            " 11  Ad_Supported      112087 non-null  string \n",
            " 12  In_App_Purchases  112087 non-null  bool   \n",
            " 13  Ad_bool           112087 non-null  int8   \n",
            "dtypes: bool(1), float32(3), int64(3), int8(1), object(2), string(4)\n",
            "memory usage: 10.0+ MB\n",
            "None\n",
            "\n"
          ],
          "name": "stdout"
        }
      ]
    },
    {
      "cell_type": "markdown",
      "metadata": {
        "id": "Bsi_FjLDJaqf"
      },
      "source": [
        "# **EXPORT TO GOOGLE DRIVE**\r\n"
      ]
    },
    {
      "cell_type": "code",
      "metadata": {
        "id": "yYaUhkTKJsZ6"
      },
      "source": [
        "#Exporting a csv into google drive\r\n",
        "#df.to_csv('/content/drive/My Drive/GooglePlay-Store_Optimized_v15.csv')"
      ],
      "execution_count": 161,
      "outputs": []
    },
    {
      "cell_type": "markdown",
      "metadata": {
        "id": "plqueKPT0yyk"
      },
      "source": [
        "# **STATISTICS**"
      ]
    },
    {
      "cell_type": "code",
      "metadata": {
        "colab": {
          "base_uri": "https://localhost:8080/"
        },
        "id": "Yts92tunyYGV",
        "outputId": "c4d72a50-4fb1-4734-95b7-b3870c71e9e6"
      },
      "source": [
        "#Retrieve coloumn general info \r\n",
        "name = 'App_Name'\r\n",
        "print(df[name].describe())\r\n",
        "print(\"Coloumn's real dtype is:\", df[name].dtypes)"
      ],
      "execution_count": 162,
      "outputs": [
        {
          "output_type": "stream",
          "text": [
            "count                                                112087\n",
            "unique                                               112087\n",
            "top       ТЬМА ПОГЛОТИЛА ВАС - мрачный пиксельный платфо...\n",
            "freq                                                      1\n",
            "Name: App_Name, dtype: object\n",
            "Coloumn's real dtype is: string\n"
          ],
          "name": "stdout"
        }
      ]
    },
    {
      "cell_type": "code",
      "metadata": {
        "id": "yLABguyZg58V"
      },
      "source": [
        "#Corrections for BI Robot operations\r\n",
        "df['App_Name'] = df['App_Name'].astype({'App_Name': 'object'})\r\n",
        "df['Category'] = df['Category'].astype({'Category': 'object'})"
      ],
      "execution_count": 163,
      "outputs": []
    },
    {
      "cell_type": "code",
      "metadata": {
        "id": "L39Wo0NRXDlw"
      },
      "source": [
        "# BI Insights Robot\r\n",
        "def bi_robot(dataframe, dimensions, measure):\r\n",
        "    t = {}\r\n",
        "    for d in dimensions:\r\n",
        "        if (np.issubdtype(dataframe[d].dtype, np.number)):\r\n",
        "            t[d] = df[d].describe()[7]    #Max value of a numeric variable\r\n",
        "        \r\n",
        "        else :\r\n",
        "            t[d] = df[d].describe()[2]    #The most frequent value of any other variable\r\n",
        "\r\n",
        "    for v in t:\r\n",
        "        key       = v\r\n",
        "        value     = [t[v]]\r\n",
        "        dataframe = dataframe.loc[dataframe[key].isin(value)] \r\n",
        "        stat      = dataframe[measure].mean()\r\n",
        "\r\n",
        "    print('---------------------')\r\n",
        "    print(t, end = '')  \r\n",
        "    print(' Mean '+ measure +': ' + \"{:.2f}\".format(stat))\r\n",
        "    print('---------------------') \r\n",
        "\r\n",
        "    return t"
      ],
      "execution_count": 166,
      "outputs": []
    },
    {
      "cell_type": "code",
      "metadata": {
        "colab": {
          "base_uri": "https://localhost:8080/"
        },
        "id": "haonws10P8Yh",
        "outputId": "a4654d40-7488-4923-f640-78d8d2ea322f"
      },
      "source": [
        "df_ins         = df.copy(deep = True)\r\n",
        "filters    = ['Category']\r\n",
        "measure    = 'Rating'\r\n",
        "df_ins = bi_robot(df, filters, measure)\r\n",
        "df_ins"
      ],
      "execution_count": 167,
      "outputs": [
        {
          "output_type": "stream",
          "text": [
            "---------------------\n",
            "{'Category': 'Education'} Mean Rating: 3.16\n",
            "---------------------\n"
          ],
          "name": "stdout"
        },
        {
          "output_type": "execute_result",
          "data": {
            "text/plain": [
              "{'Category': 'Education'}"
            ]
          },
          "metadata": {
            "tags": []
          },
          "execution_count": 167
        }
      ]
    }
  ]
}