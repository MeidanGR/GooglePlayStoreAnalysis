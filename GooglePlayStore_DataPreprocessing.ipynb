{
  "nbformat": 4,
  "nbformat_minor": 0,
  "metadata": {
    "colab": {
      "name": "GooglePlayStore_DataPreprocessing.ipynb",
      "provenance": [],
      "collapsed_sections": [],
      "authorship_tag": "ABX9TyN9Cf5XZt7bG1rwG2VD0aR5",
      "include_colab_link": true
    },
    "kernelspec": {
      "name": "python3",
      "display_name": "Python 3"
    }
  },
  "cells": [
    {
      "cell_type": "markdown",
      "metadata": {
        "id": "view-in-github",
        "colab_type": "text"
      },
      "source": [
        "<a href=\"https://colab.research.google.com/github/MeidanGR/GooglePlayStore_Preprocessing_Python/blob/main/GooglePlayStore_DataPreprocessing.ipynb\" target=\"_parent\"><img src=\"https://colab.research.google.com/assets/colab-badge.svg\" alt=\"Open In Colab\"/></a>"
      ]
    },
    {
      "cell_type": "markdown",
      "metadata": {
        "id": "-Gad_hVUwqGW"
      },
      "source": [
        "# **Google Play Store Data Preprocessing**\r\n",
        "This data preprocessing progress has been established for an academic project of a BI course. The data will be analyzed within the project.\r\n",
        "\r\n",
        "Major thanks to **Gautham Prakash** for publishing & maintenance this dataset, which you can find at https://www.kaggle.com/gauthamp10/google-playstore-apps\r\n"
      ]
    },
    {
      "cell_type": "markdown",
      "metadata": {
        "id": "XEwg6IMf-ew7"
      },
      "source": [
        "# **Google auth & libraries**"
      ]
    },
    {
      "cell_type": "code",
      "metadata": {
        "colab": {
          "base_uri": "https://localhost:8080/"
        },
        "id": "T2AXr9cs90aQ",
        "outputId": "90c1a18a-d766-4913-86e1-f5d1a96b464a"
      },
      "source": [
        "from google.colab import drive\r\n",
        "drive.mount('/content/drive')"
      ],
      "execution_count": 100,
      "outputs": [
        {
          "output_type": "stream",
          "text": [
            "Drive already mounted at /content/drive; to attempt to forcibly remount, call drive.mount(\"/content/drive\", force_remount=True).\n"
          ],
          "name": "stdout"
        }
      ]
    },
    {
      "cell_type": "code",
      "metadata": {
        "id": "K6AN0alb-Ecd"
      },
      "source": [
        "import pandas as pd\r\n",
        "import numpy as np"
      ],
      "execution_count": 101,
      "outputs": []
    },
    {
      "cell_type": "markdown",
      "metadata": {
        "id": "gFk0C6C48ZGe"
      },
      "source": [
        "# **CSV LOAD**\r\n"
      ]
    },
    {
      "cell_type": "code",
      "metadata": {
        "colab": {
          "base_uri": "https://localhost:8080/",
          "height": 301
        },
        "id": "__oMmDYK_rTh",
        "outputId": "e82602c8-6177-4754-f198-0d3df0885a09"
      },
      "source": [
        "#Loading csv\r\n",
        "df = pd.read_csv('/content/drive/My Drive/Google-Playstore.csv')\r\n",
        "\r\n",
        "print(\"Dataframe original shape is\", np.shape(df))\r\n",
        "df.sample(2)"
      ],
      "execution_count": 115,
      "outputs": [
        {
          "output_type": "stream",
          "text": [
            "Dataframe original shape is (603047, 23)\n"
          ],
          "name": "stdout"
        },
        {
          "output_type": "execute_result",
          "data": {
            "text/html": [
              "<div>\n",
              "<style scoped>\n",
              "    .dataframe tbody tr th:only-of-type {\n",
              "        vertical-align: middle;\n",
              "    }\n",
              "\n",
              "    .dataframe tbody tr th {\n",
              "        vertical-align: top;\n",
              "    }\n",
              "\n",
              "    .dataframe thead th {\n",
              "        text-align: right;\n",
              "    }\n",
              "</style>\n",
              "<table border=\"1\" class=\"dataframe\">\n",
              "  <thead>\n",
              "    <tr style=\"text-align: right;\">\n",
              "      <th></th>\n",
              "      <th>App Name</th>\n",
              "      <th>App Id</th>\n",
              "      <th>Category</th>\n",
              "      <th>Rating</th>\n",
              "      <th>Rating Count</th>\n",
              "      <th>Installs</th>\n",
              "      <th>Minimum Installs</th>\n",
              "      <th>Maximum Installs</th>\n",
              "      <th>Free</th>\n",
              "      <th>Price</th>\n",
              "      <th>Currency</th>\n",
              "      <th>Size</th>\n",
              "      <th>Minimum Android</th>\n",
              "      <th>Developer Id</th>\n",
              "      <th>Developer Website</th>\n",
              "      <th>Developer Email</th>\n",
              "      <th>Released</th>\n",
              "      <th>Last Updated</th>\n",
              "      <th>Content Rating</th>\n",
              "      <th>Privacy Policy</th>\n",
              "      <th>Ad Supported</th>\n",
              "      <th>In App Purchases</th>\n",
              "      <th>Editors Choice</th>\n",
              "    </tr>\n",
              "  </thead>\n",
              "  <tbody>\n",
              "    <tr>\n",
              "      <th>223238</th>\n",
              "      <td>Fun Color:  Coloring Games &amp; Happy Color by Nu...</td>\n",
              "      <td>com.paint.color.by.number.coloring.pages.pixel...</td>\n",
              "      <td>Entertainment</td>\n",
              "      <td>4.8</td>\n",
              "      <td>716.0</td>\n",
              "      <td>50,000+</td>\n",
              "      <td>50000.0</td>\n",
              "      <td>74100</td>\n",
              "      <td>True</td>\n",
              "      <td>0.0</td>\n",
              "      <td>USD</td>\n",
              "      <td>11M</td>\n",
              "      <td>5.0 and up</td>\n",
              "      <td>Fun Coloring World</td>\n",
              "      <td>https://www.launchertheme.com/</td>\n",
              "      <td>coloring.product3@gmail.com</td>\n",
              "      <td>May 15, 2020</td>\n",
              "      <td>20/07/2020 18:13</td>\n",
              "      <td>Everyone</td>\n",
              "      <td>http://montiapp.com/coloring_fun_privacy.html</td>\n",
              "      <td>True</td>\n",
              "      <td>True</td>\n",
              "      <td>False</td>\n",
              "    </tr>\n",
              "    <tr>\n",
              "      <th>181734</th>\n",
              "      <td>Easy Checklist (Legacy)</td>\n",
              "      <td>br.com.checklistfacil</td>\n",
              "      <td>Business</td>\n",
              "      <td>3.8</td>\n",
              "      <td>101.0</td>\n",
              "      <td>10,000+</td>\n",
              "      <td>10000.0</td>\n",
              "      <td>21586</td>\n",
              "      <td>True</td>\n",
              "      <td>0.0</td>\n",
              "      <td>USD</td>\n",
              "      <td>22M</td>\n",
              "      <td>4.1 and up</td>\n",
              "      <td>Checklist Fácil</td>\n",
              "      <td>http://www.rz2.com.br</td>\n",
              "      <td>contato@checklistfacil.com.br</td>\n",
              "      <td>Apr 15, 2015</td>\n",
              "      <td>07/12/2017 22:34</td>\n",
              "      <td>Everyone</td>\n",
              "      <td>http://www.rz2.com.br/politica-de-privacidade</td>\n",
              "      <td>False</td>\n",
              "      <td>False</td>\n",
              "      <td>False</td>\n",
              "    </tr>\n",
              "  </tbody>\n",
              "</table>\n",
              "</div>"
            ],
            "text/plain": [
              "                                                 App Name  ... Editors Choice\n",
              "223238  Fun Color:  Coloring Games & Happy Color by Nu...  ...          False\n",
              "181734                            Easy Checklist (Legacy)  ...          False\n",
              "\n",
              "[2 rows x 23 columns]"
            ]
          },
          "metadata": {
            "tags": []
          },
          "execution_count": 115
        }
      ]
    },
    {
      "cell_type": "markdown",
      "metadata": {
        "id": "k4jCiMRNCqTV"
      },
      "source": [
        "# **DATA FILTERING**\r\n",
        "## Agenda: \r\n",
        "Data reduction up to ~100K rows, for a decent memory space & faster analysis.\r\n",
        "\r\n",
        "## Guidelines:\r\n",
        "- **Minimum Android** is the minimum android version which allowes operation for the app. The mose popular values were found: 4.1\\4.0.3\\6.0 and up & Varies with device.\r\n",
        "- **Size** should exceed 1MB.\r\n",
        "- **Currency** will be USD only.\r\n",
        "- **Last updated** during 2020.\r\n"
      ]
    },
    {
      "cell_type": "code",
      "metadata": {
        "colab": {
          "base_uri": "https://localhost:8080/",
          "height": 376
        },
        "id": "9oZc6jq8-gDP",
        "outputId": "4c0781a0-c28c-4a31-bcab-0adfcd72ce79"
      },
      "source": [
        "#Coloumn labels space fix\r\n",
        "df.columns = [x.replace(\" \", \"_\") for x in df.columns]\r\n",
        "\r\n",
        "#Rows SELECT\r\n",
        "df = df.query('(Minimum_Android == \"4.1 and up\" | Minimum_Android == \"4.0.3 and up\" | Minimum_Android == \"Varies with device\" | \\\r\n",
        "Minimum_Android == \"6.0 and up\") & not Size.str.endswith(\"k\") & Currency == \"USD\" & Last_Updated.str.contains(\"2020\")',engine='python')\r\n",
        "\r\n",
        "#Coloumns FILTER\r\n",
        "df = df.filter(items=['App_Name', 'Category', 'Rating', 'Rating_Count', 'Installs', 'Price', 'Size','Released','Last_Updated','Ad_Supported', 'In_App_Purchases'])\r\n",
        "\r\n",
        "#Saving a copy of dataframe\r\n",
        "dfcopy = df.copy(deep=True)\r\n",
        "\r\n",
        "print(\"Dataframe reduced shape is\", np.shape(df))\r\n",
        "df.sample(10)"
      ],
      "execution_count": 116,
      "outputs": [
        {
          "output_type": "stream",
          "text": [
            "Dataframe reduced shape is (112092, 11)\n"
          ],
          "name": "stdout"
        },
        {
          "output_type": "execute_result",
          "data": {
            "text/html": [
              "<div>\n",
              "<style scoped>\n",
              "    .dataframe tbody tr th:only-of-type {\n",
              "        vertical-align: middle;\n",
              "    }\n",
              "\n",
              "    .dataframe tbody tr th {\n",
              "        vertical-align: top;\n",
              "    }\n",
              "\n",
              "    .dataframe thead th {\n",
              "        text-align: right;\n",
              "    }\n",
              "</style>\n",
              "<table border=\"1\" class=\"dataframe\">\n",
              "  <thead>\n",
              "    <tr style=\"text-align: right;\">\n",
              "      <th></th>\n",
              "      <th>App_Name</th>\n",
              "      <th>Category</th>\n",
              "      <th>Rating</th>\n",
              "      <th>Rating_Count</th>\n",
              "      <th>Installs</th>\n",
              "      <th>Price</th>\n",
              "      <th>Size</th>\n",
              "      <th>Released</th>\n",
              "      <th>Last_Updated</th>\n",
              "      <th>Ad_Supported</th>\n",
              "      <th>In_App_Purchases</th>\n",
              "    </tr>\n",
              "  </thead>\n",
              "  <tbody>\n",
              "    <tr>\n",
              "      <th>104470</th>\n",
              "      <td>Capital Public Radio App</td>\n",
              "      <td>Music &amp; Audio</td>\n",
              "      <td>4.1</td>\n",
              "      <td>827.0</td>\n",
              "      <td>10,000+</td>\n",
              "      <td>0.0</td>\n",
              "      <td>16M</td>\n",
              "      <td>Jan 7, 2012</td>\n",
              "      <td>13/06/2020 1:46</td>\n",
              "      <td>True</td>\n",
              "      <td>False</td>\n",
              "    </tr>\n",
              "    <tr>\n",
              "      <th>446997</th>\n",
              "      <td>Rádio CBN</td>\n",
              "      <td>News &amp; Magazines</td>\n",
              "      <td>3.6</td>\n",
              "      <td>9736.0</td>\n",
              "      <td>1,000,000+</td>\n",
              "      <td>0.0</td>\n",
              "      <td>58M</td>\n",
              "      <td>Sep 18, 2012</td>\n",
              "      <td>03/04/2020 4:26</td>\n",
              "      <td>True</td>\n",
              "      <td>False</td>\n",
              "    </tr>\n",
              "    <tr>\n",
              "      <th>104307</th>\n",
              "      <td>CAP Mob</td>\n",
              "      <td>Education</td>\n",
              "      <td>0.0</td>\n",
              "      <td>0.0</td>\n",
              "      <td>5+</td>\n",
              "      <td>0.0</td>\n",
              "      <td>16M</td>\n",
              "      <td>Nov 26, 2019</td>\n",
              "      <td>17/02/2020 5:29</td>\n",
              "      <td>False</td>\n",
              "      <td>False</td>\n",
              "    </tr>\n",
              "    <tr>\n",
              "      <th>326261</th>\n",
              "      <td>Live Wallpapers 4K - Full HD Live Wallpapers</td>\n",
              "      <td>Personalization</td>\n",
              "      <td>4.2</td>\n",
              "      <td>484.0</td>\n",
              "      <td>100,000+</td>\n",
              "      <td>0.0</td>\n",
              "      <td>4.1M</td>\n",
              "      <td>May 20, 2020</td>\n",
              "      <td>19/07/2020 23:04</td>\n",
              "      <td>True</td>\n",
              "      <td>False</td>\n",
              "    </tr>\n",
              "    <tr>\n",
              "      <th>408724</th>\n",
              "      <td>Oraciones Diarias y Protección</td>\n",
              "      <td>Books &amp; Reference</td>\n",
              "      <td>4.6</td>\n",
              "      <td>343.0</td>\n",
              "      <td>50,000+</td>\n",
              "      <td>0.0</td>\n",
              "      <td>5.3M</td>\n",
              "      <td>Mar 27, 2017</td>\n",
              "      <td>05/01/2020 22:09</td>\n",
              "      <td>True</td>\n",
              "      <td>False</td>\n",
              "    </tr>\n",
              "    <tr>\n",
              "      <th>62057</th>\n",
              "      <td>Australia Stocks</td>\n",
              "      <td>Finance</td>\n",
              "      <td>4.6</td>\n",
              "      <td>386.0</td>\n",
              "      <td>10,000+</td>\n",
              "      <td>0.0</td>\n",
              "      <td>13M</td>\n",
              "      <td>Jan 4, 2016</td>\n",
              "      <td>06/07/2020 20:57</td>\n",
              "      <td>True</td>\n",
              "      <td>False</td>\n",
              "    </tr>\n",
              "    <tr>\n",
              "      <th>501960</th>\n",
              "      <td>Social IVI</td>\n",
              "      <td>Lifestyle</td>\n",
              "      <td>0.0</td>\n",
              "      <td>0.0</td>\n",
              "      <td>0+</td>\n",
              "      <td>0.0</td>\n",
              "      <td>7.3M</td>\n",
              "      <td>Jun 13, 2020</td>\n",
              "      <td>14/06/2020 2:31</td>\n",
              "      <td>False</td>\n",
              "      <td>False</td>\n",
              "    </tr>\n",
              "    <tr>\n",
              "      <th>497084</th>\n",
              "      <td>Sleep TIMER</td>\n",
              "      <td>Lifestyle</td>\n",
              "      <td>3.6</td>\n",
              "      <td>1450.0</td>\n",
              "      <td>100,000+</td>\n",
              "      <td>0.0</td>\n",
              "      <td>6.4M</td>\n",
              "      <td>Oct 21, 2014</td>\n",
              "      <td>28/04/2020 5:05</td>\n",
              "      <td>True</td>\n",
              "      <td>False</td>\n",
              "    </tr>\n",
              "    <tr>\n",
              "      <th>583905</th>\n",
              "      <td>WATU - Accept Payments, Send Money, Pay Bills</td>\n",
              "      <td>Finance</td>\n",
              "      <td>NaN</td>\n",
              "      <td>NaN</td>\n",
              "      <td>100+</td>\n",
              "      <td>0.0</td>\n",
              "      <td>Varies with device</td>\n",
              "      <td>NaN</td>\n",
              "      <td>27/06/2020 15:55</td>\n",
              "      <td>False</td>\n",
              "      <td>False</td>\n",
              "    </tr>\n",
              "    <tr>\n",
              "      <th>215687</th>\n",
              "      <td>Food Merge - Idle Tap Clicker Merger Game</td>\n",
              "      <td>Lifestyle</td>\n",
              "      <td>4.0</td>\n",
              "      <td>27.0</td>\n",
              "      <td>5,000+</td>\n",
              "      <td>0.0</td>\n",
              "      <td>28M</td>\n",
              "      <td>Nov 13, 2018</td>\n",
              "      <td>01/07/2020 14:12</td>\n",
              "      <td>True</td>\n",
              "      <td>True</td>\n",
              "    </tr>\n",
              "  </tbody>\n",
              "</table>\n",
              "</div>"
            ],
            "text/plain": [
              "                                             App_Name  ... In_App_Purchases\n",
              "104470                       Capital Public Radio App  ...            False\n",
              "446997                                      Rádio CBN  ...            False\n",
              "104307                                        CAP Mob  ...            False\n",
              "326261   Live Wallpapers 4K - Full HD Live Wallpapers  ...            False\n",
              "408724                 Oraciones Diarias y Protección  ...            False\n",
              "62057                                Australia Stocks  ...            False\n",
              "501960                                     Social IVI  ...            False\n",
              "497084                                    Sleep TIMER  ...            False\n",
              "583905  WATU - Accept Payments, Send Money, Pay Bills  ...            False\n",
              "215687      Food Merge - Idle Tap Clicker Merger Game  ...             True\n",
              "\n",
              "[10 rows x 11 columns]"
            ]
          },
          "metadata": {
            "tags": []
          },
          "execution_count": 116
        }
      ]
    },
    {
      "cell_type": "markdown",
      "metadata": {
        "id": "4KbzaVM8FcLk"
      },
      "source": [
        "# **INITIAL DATA INFO**"
      ]
    },
    {
      "cell_type": "code",
      "metadata": {
        "colab": {
          "base_uri": "https://localhost:8080/"
        },
        "id": "CZi23I8UxwDS",
        "outputId": "e75dd6b2-3221-40e4-dc16-869b4adfae29"
      },
      "source": [
        "print(\"Dataframe NULL count:\")\r\n",
        "print(df.isnull().sum(axis = 0), end=\"\\n\\n\")\r\n",
        "\r\n",
        "df.info()"
      ],
      "execution_count": 117,
      "outputs": [
        {
          "output_type": "stream",
          "text": [
            "Dataframe NULL count:\n",
            "App_Name               1\n",
            "Category               0\n",
            "Rating              1880\n",
            "Rating_Count        1880\n",
            "Installs               0\n",
            "Price                  0\n",
            "Size                   0\n",
            "Released            6338\n",
            "Last_Updated           0\n",
            "Ad_Supported           0\n",
            "In_App_Purchases       0\n",
            "dtype: int64\n",
            "\n",
            "<class 'pandas.core.frame.DataFrame'>\n",
            "Int64Index: 112092 entries, 20 to 603046\n",
            "Data columns (total 11 columns):\n",
            " #   Column            Non-Null Count   Dtype  \n",
            "---  ------            --------------   -----  \n",
            " 0   App_Name          112091 non-null  object \n",
            " 1   Category          112092 non-null  object \n",
            " 2   Rating            110212 non-null  float64\n",
            " 3   Rating_Count      110212 non-null  float64\n",
            " 4   Installs          112092 non-null  object \n",
            " 5   Price             112092 non-null  float64\n",
            " 6   Size              112092 non-null  object \n",
            " 7   Released          105754 non-null  object \n",
            " 8   Last_Updated      112092 non-null  object \n",
            " 9   Ad_Supported      112092 non-null  bool   \n",
            " 10  In_App_Purchases  112092 non-null  bool   \n",
            "dtypes: bool(2), float64(3), object(6)\n",
            "memory usage: 8.8+ MB\n"
          ],
          "name": "stdout"
        }
      ]
    },
    {
      "cell_type": "code",
      "metadata": {
        "colab": {
          "base_uri": "https://localhost:8080/"
        },
        "id": "Yts92tunyYGV",
        "outputId": "1f52979d-3937-4e8f-8906-a7f65837a7b3"
      },
      "source": [
        "#Retrieve coloumn general info \r\n",
        "name = 'Category'\r\n",
        "df[name].describe()"
      ],
      "execution_count": 105,
      "outputs": [
        {
          "output_type": "execute_result",
          "data": {
            "text/plain": [
              "count        112092\n",
              "unique           48\n",
              "top       Education\n",
              "freq          12333\n",
              "Name: Category, dtype: object"
            ]
          },
          "metadata": {
            "tags": []
          },
          "execution_count": 105
        }
      ]
    },
    {
      "cell_type": "markdown",
      "metadata": {
        "id": "bjUUEiC6qUR1"
      },
      "source": [
        "# **DATA CLEAN & CORRECTION**\r\n",
        "- A null value that was found in **App_Name** are not acceptable for furthor analysis.\r\n",
        "- The null values in **Rating, Rating_Count** will be replaced with mean values."
      ]
    },
    {
      "cell_type": "code",
      "metadata": {
        "colab": {
          "base_uri": "https://localhost:8080/",
          "height": 376
        },
        "id": "HEmyDEgPqjIh",
        "outputId": "0d0c0f66-8361-429c-d13e-dd5537eacd7e"
      },
      "source": [
        "#NULL Extraction\r\n",
        "df = df.query('not App_Name.isnull()',engine='python')\r\n",
        "\r\n",
        "# Function replaces np.nan values in all of the data frame with relevant statistics \\ dal7collab\r\n",
        "def rep_missings(data_frame):\r\n",
        "    d = data_frame.copy(deep = True)\r\n",
        "    for c in data_frame:\r\n",
        "        if (data_frame[c].dtype == 'float64'):\r\n",
        "            if data_frame[c].isnull().values.any() :\r\n",
        "                m = data_frame[c].dropna().mean()\r\n",
        "                d[c].fillna(m, inplace = True)\r\n",
        "    return d;\r\n",
        "# Activating the function\r\n",
        "df = rep_missings(df)\r\n",
        "\r\n",
        "#Coloumn types correction\r\n",
        "df['App_Name'] = df['App_Name'].astype({'App_Name': 'string'})\r\n",
        "df['Category'] = df['Category'].astype({'Category': 'string'})\r\n",
        "df['Rating_Count'] = df['Rating_Count'].astype({'Rating_Count': 'int32'})\r\n",
        "df['Installs'] = df['Installs'].astype({'Installs': 'string'})\r\n",
        "df['Size'] = df['Size'].astype({'Size': 'string'})\r\n",
        "df['Released']= pd.to_datetime(df['Released']) \r\n",
        "df['Last_Updated']= pd.to_datetime(df['Last_Updated']) \r\n",
        "\r\n",
        "#'Size' coloumn excluding \"Varies with device\"\r\n",
        "df['Size'] = df['Size'].replace(to_replace=\"Varies with device\", \r\n",
        "                                   value = np.nan)\r\n",
        "\r\n",
        "\r\n",
        "print(\"Dataframe final shape is\", np.shape(df))\r\n",
        "df.sample(10)\r\n"
      ],
      "execution_count": 118,
      "outputs": [
        {
          "output_type": "stream",
          "text": [
            "Dataframe final shape is (112091, 11)\n"
          ],
          "name": "stdout"
        },
        {
          "output_type": "execute_result",
          "data": {
            "text/html": [
              "<div>\n",
              "<style scoped>\n",
              "    .dataframe tbody tr th:only-of-type {\n",
              "        vertical-align: middle;\n",
              "    }\n",
              "\n",
              "    .dataframe tbody tr th {\n",
              "        vertical-align: top;\n",
              "    }\n",
              "\n",
              "    .dataframe thead th {\n",
              "        text-align: right;\n",
              "    }\n",
              "</style>\n",
              "<table border=\"1\" class=\"dataframe\">\n",
              "  <thead>\n",
              "    <tr style=\"text-align: right;\">\n",
              "      <th></th>\n",
              "      <th>App_Name</th>\n",
              "      <th>Category</th>\n",
              "      <th>Rating</th>\n",
              "      <th>Rating_Count</th>\n",
              "      <th>Installs</th>\n",
              "      <th>Price</th>\n",
              "      <th>Size</th>\n",
              "      <th>Released</th>\n",
              "      <th>Last_Updated</th>\n",
              "      <th>Ad_Supported</th>\n",
              "      <th>In_App_Purchases</th>\n",
              "    </tr>\n",
              "  </thead>\n",
              "  <tbody>\n",
              "    <tr>\n",
              "      <th>78551</th>\n",
              "      <td>Best Waterfall Wallpaper</td>\n",
              "      <td>Personalization</td>\n",
              "      <td>0.0</td>\n",
              "      <td>0</td>\n",
              "      <td>100+</td>\n",
              "      <td>0.0</td>\n",
              "      <td>14M</td>\n",
              "      <td>2018-11-08</td>\n",
              "      <td>2020-06-05 21:35:00</td>\n",
              "      <td>True</td>\n",
              "      <td>False</td>\n",
              "    </tr>\n",
              "    <tr>\n",
              "      <th>108739</th>\n",
              "      <td>Cats game: Stretch the cat</td>\n",
              "      <td>Casual</td>\n",
              "      <td>0.0</td>\n",
              "      <td>0</td>\n",
              "      <td>1,000+</td>\n",
              "      <td>0.0</td>\n",
              "      <td>17M</td>\n",
              "      <td>2020-02-25</td>\n",
              "      <td>2020-10-05 20:38:00</td>\n",
              "      <td>True</td>\n",
              "      <td>False</td>\n",
              "    </tr>\n",
              "    <tr>\n",
              "      <th>396828</th>\n",
              "      <td>اللؤلؤ والمرجان فيما اتفق عليه الشيخان</td>\n",
              "      <td>Books &amp; Reference</td>\n",
              "      <td>4.4</td>\n",
              "      <td>78</td>\n",
              "      <td>10,000+</td>\n",
              "      <td>0.0</td>\n",
              "      <td>5.0M</td>\n",
              "      <td>2019-07-20</td>\n",
              "      <td>2020-06-24 22:31:00</td>\n",
              "      <td>True</td>\n",
              "      <td>False</td>\n",
              "    </tr>\n",
              "    <tr>\n",
              "      <th>467362</th>\n",
              "      <td>River Crossing IQ Logic Puzzles &amp; Fun Brain Games</td>\n",
              "      <td>Board</td>\n",
              "      <td>4.2</td>\n",
              "      <td>47194</td>\n",
              "      <td>5,000,000+</td>\n",
              "      <td>0.0</td>\n",
              "      <td>6.5M</td>\n",
              "      <td>2017-03-11</td>\n",
              "      <td>2020-06-15 17:13:00</td>\n",
              "      <td>True</td>\n",
              "      <td>False</td>\n",
              "    </tr>\n",
              "    <tr>\n",
              "      <th>526129</th>\n",
              "      <td>Tail Skins</td>\n",
              "      <td>Events</td>\n",
              "      <td>2.2</td>\n",
              "      <td>617</td>\n",
              "      <td>100,000+</td>\n",
              "      <td>0.0</td>\n",
              "      <td>75M</td>\n",
              "      <td>2019-02-04</td>\n",
              "      <td>2020-10-06 20:48:00</td>\n",
              "      <td>True</td>\n",
              "      <td>True</td>\n",
              "    </tr>\n",
              "    <tr>\n",
              "      <th>157891</th>\n",
              "      <td>Didi Kempot - Tulung (Offline)</td>\n",
              "      <td>Music &amp; Audio</td>\n",
              "      <td>0.0</td>\n",
              "      <td>0</td>\n",
              "      <td>50+</td>\n",
              "      <td>0.0</td>\n",
              "      <td>2.8M</td>\n",
              "      <td>2020-03-28</td>\n",
              "      <td>2020-03-29 05:41:00</td>\n",
              "      <td>True</td>\n",
              "      <td>False</td>\n",
              "    </tr>\n",
              "    <tr>\n",
              "      <th>232953</th>\n",
              "      <td>Glitter Heart Love Coloring Book for Girls</td>\n",
              "      <td>Art &amp; Design</td>\n",
              "      <td>3.9</td>\n",
              "      <td>574</td>\n",
              "      <td>1,000,000+</td>\n",
              "      <td>0.0</td>\n",
              "      <td>3.1M</td>\n",
              "      <td>2019-11-08</td>\n",
              "      <td>2020-03-02 07:58:00</td>\n",
              "      <td>True</td>\n",
              "      <td>False</td>\n",
              "    </tr>\n",
              "    <tr>\n",
              "      <th>99352</th>\n",
              "      <td>群雄异世界</td>\n",
              "      <td>Strategy</td>\n",
              "      <td>3.1</td>\n",
              "      <td>61</td>\n",
              "      <td>1,000+</td>\n",
              "      <td>0.0</td>\n",
              "      <td>16M</td>\n",
              "      <td>2020-05-26</td>\n",
              "      <td>2020-08-07 20:35:00</td>\n",
              "      <td>False</td>\n",
              "      <td>True</td>\n",
              "    </tr>\n",
              "    <tr>\n",
              "      <th>380373</th>\n",
              "      <td>New Year countdown</td>\n",
              "      <td>Personalization</td>\n",
              "      <td>4.6</td>\n",
              "      <td>44032</td>\n",
              "      <td>1,000,000+</td>\n",
              "      <td>0.0</td>\n",
              "      <td>43M</td>\n",
              "      <td>2015-11-12</td>\n",
              "      <td>2020-02-13 15:55:00</td>\n",
              "      <td>True</td>\n",
              "      <td>False</td>\n",
              "    </tr>\n",
              "    <tr>\n",
              "      <th>88850</th>\n",
              "      <td>Body by KP</td>\n",
              "      <td>Health &amp; Fitness</td>\n",
              "      <td>0.0</td>\n",
              "      <td>0</td>\n",
              "      <td>0+</td>\n",
              "      <td>0.0</td>\n",
              "      <td>15M</td>\n",
              "      <td>2020-05-19</td>\n",
              "      <td>2020-05-20 12:29:00</td>\n",
              "      <td>False</td>\n",
              "      <td>False</td>\n",
              "    </tr>\n",
              "  </tbody>\n",
              "</table>\n",
              "</div>"
            ],
            "text/plain": [
              "                                                 App_Name  ... In_App_Purchases\n",
              "78551                            Best Waterfall Wallpaper  ...            False\n",
              "108739                         Cats game: Stretch the cat  ...            False\n",
              "396828             اللؤلؤ والمرجان فيما اتفق عليه الشيخان  ...            False\n",
              "467362  River Crossing IQ Logic Puzzles & Fun Brain Games  ...            False\n",
              "526129                                         Tail Skins  ...             True\n",
              "157891                     Didi Kempot - Tulung (Offline)  ...            False\n",
              "232953         Glitter Heart Love Coloring Book for Girls  ...            False\n",
              "99352                                               群雄异世界  ...             True\n",
              "380373                                 New Year countdown  ...            False\n",
              "88850                                          Body by KP  ...            False\n",
              "\n",
              "[10 rows x 11 columns]"
            ]
          },
          "metadata": {
            "tags": []
          },
          "execution_count": 118
        }
      ]
    },
    {
      "cell_type": "markdown",
      "metadata": {
        "id": "mn9l1_U0zIbc"
      },
      "source": [
        "# **POSTPROCESSING DATA INFO**"
      ]
    },
    {
      "cell_type": "code",
      "metadata": {
        "colab": {
          "base_uri": "https://localhost:8080/"
        },
        "id": "2eHJdY7AzLgn",
        "outputId": "67260e5e-3010-4389-c521-67a42358e00f"
      },
      "source": [
        "#Genereal information after preprocessing\r\n",
        "print(df.info(),end = '\\n\\n')"
      ],
      "execution_count": 119,
      "outputs": [
        {
          "output_type": "stream",
          "text": [
            "<class 'pandas.core.frame.DataFrame'>\n",
            "Int64Index: 112091 entries, 20 to 603045\n",
            "Data columns (total 11 columns):\n",
            " #   Column            Non-Null Count   Dtype         \n",
            "---  ------            --------------   -----         \n",
            " 0   App_Name          112091 non-null  string        \n",
            " 1   Category          112091 non-null  string        \n",
            " 2   Rating            112091 non-null  float64       \n",
            " 3   Rating_Count      112091 non-null  int32         \n",
            " 4   Installs          112091 non-null  string        \n",
            " 5   Price             112091 non-null  float64       \n",
            " 6   Size              101269 non-null  string        \n",
            " 7   Released          105753 non-null  datetime64[ns]\n",
            " 8   Last_Updated      112091 non-null  datetime64[ns]\n",
            " 9   Ad_Supported      112091 non-null  bool          \n",
            " 10  In_App_Purchases  112091 non-null  bool          \n",
            "dtypes: bool(2), datetime64[ns](2), float64(2), int32(1), string(4)\n",
            "memory usage: 8.3 MB\n",
            "None\n",
            "\n"
          ],
          "name": "stdout"
        }
      ]
    },
    {
      "cell_type": "markdown",
      "metadata": {
        "id": "Bsi_FjLDJaqf"
      },
      "source": [
        "# **EXPORT TO GOOGLE DRIVE**\r\n"
      ]
    },
    {
      "cell_type": "code",
      "metadata": {
        "id": "yYaUhkTKJsZ6"
      },
      "source": [
        "#Exporting a csv into google drive\r\n",
        "df.to_csv('/content/drive/My Drive/GooglePlay-Store_Optimized.csv')"
      ],
      "execution_count": 120,
      "outputs": []
    }
  ]
}