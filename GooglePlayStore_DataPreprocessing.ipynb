{
  "nbformat": 4,
  "nbformat_minor": 0,
  "metadata": {
    "colab": {
      "name": "GooglePlayStore_DataPreprocessing.ipynb",
      "provenance": [],
      "collapsed_sections": [],
      "toc_visible": true,
      "authorship_tag": "ABX9TyNaJsIP2EB/C+8ARYuS9LA5",
      "include_colab_link": true
    },
    "kernelspec": {
      "name": "python3",
      "display_name": "Python 3"
    }
  },
  "cells": [
    {
      "cell_type": "markdown",
      "metadata": {
        "id": "view-in-github",
        "colab_type": "text"
      },
      "source": [
        "<a href=\"https://colab.research.google.com/github/MeidanGR/GooglePlayStore_Preprocessing_Python/blob/main/GooglePlayStore_DataPreprocessing.ipynb\" target=\"_parent\"><img src=\"https://colab.research.google.com/assets/colab-badge.svg\" alt=\"Open In Colab\"/></a>"
      ]
    },
    {
      "cell_type": "markdown",
      "metadata": {
        "id": "-Gad_hVUwqGW"
      },
      "source": [
        "# **Google Play Store Data Preprocessing**\r\n",
        "\r\n",
        "---\r\n",
        "\r\n",
        "\r\n",
        "This data preprocessing progress has been established for an [academic project](https://sites.google.com/view/biplaystore/home?authuser=0) of a BI course. The data will be analyzed within the project.\r\n",
        "\r\n",
        "Major thanks to **Gautham Prakash** for publishing & maintenance this dataset, which you can find at https://www.kaggle.com/gauthamp10/google-playstore-apps\r\n"
      ]
    },
    {
      "cell_type": "markdown",
      "metadata": {
        "id": "XEwg6IMf-ew7"
      },
      "source": [
        "# **GOOGLE AUTH & LIBRARIES**"
      ]
    },
    {
      "cell_type": "code",
      "metadata": {
        "colab": {
          "base_uri": "https://localhost:8080/"
        },
        "id": "T2AXr9cs90aQ",
        "outputId": "fb0e3db5-8857-40bc-9c02-b2c02654381c"
      },
      "source": [
        "from google.colab import drive\r\n",
        "drive.mount('/content/drive')"
      ],
      "execution_count": 1,
      "outputs": [
        {
          "output_type": "stream",
          "text": [
            "Mounted at /content/drive\n"
          ],
          "name": "stdout"
        }
      ]
    },
    {
      "cell_type": "code",
      "metadata": {
        "id": "K6AN0alb-Ecd"
      },
      "source": [
        "import pandas as pd\r\n",
        "import numpy as np"
      ],
      "execution_count": 2,
      "outputs": []
    },
    {
      "cell_type": "markdown",
      "metadata": {
        "id": "gFk0C6C48ZGe"
      },
      "source": [
        "# **CSV LOAD**\r\n"
      ]
    },
    {
      "cell_type": "code",
      "metadata": {
        "colab": {
          "base_uri": "https://localhost:8080/",
          "height": 777
        },
        "id": "__oMmDYK_rTh",
        "outputId": "107b48d1-af2e-42a6-d387-22a22af5e0a1"
      },
      "source": [
        "#Loading csv\r\n",
        "df = pd.read_csv('/content/drive/My Drive/Google-Playstore.csv')\r\n",
        "\r\n",
        "print(\"Dataframe original shape is\", np.shape(df), end='\\n\\n')\r\n",
        "print(df.info())\r\n",
        "df.sample(2)"
      ],
      "execution_count": 3,
      "outputs": [
        {
          "output_type": "stream",
          "text": [
            "Dataframe original shape is (603047, 23)\n",
            "\n",
            "<class 'pandas.core.frame.DataFrame'>\n",
            "RangeIndex: 603047 entries, 0 to 603046\n",
            "Data columns (total 23 columns):\n",
            " #   Column             Non-Null Count   Dtype  \n",
            "---  ------             --------------   -----  \n",
            " 0   App Name           603046 non-null  object \n",
            " 1   App Id             603047 non-null  object \n",
            " 2   Category           603047 non-null  object \n",
            " 3   Rating             599287 non-null  float64\n",
            " 4   Rating Count       599287 non-null  float64\n",
            " 5   Installs           602875 non-null  object \n",
            " 6   Minimum Installs   602875 non-null  float64\n",
            " 7   Maximum Installs   603047 non-null  int64  \n",
            " 8   Free               603047 non-null  bool   \n",
            " 9   Price              603047 non-null  float64\n",
            " 10  Currency           602866 non-null  object \n",
            " 11  Size               603047 non-null  object \n",
            " 12  Minimum Android    602556 non-null  object \n",
            " 13  Developer Id       603045 non-null  object \n",
            " 14  Developer Website  423783 non-null  object \n",
            " 15  Developer Email    603010 non-null  object \n",
            " 16  Released           570769 non-null  object \n",
            " 17  Last Updated       603047 non-null  object \n",
            " 18  Content Rating     603047 non-null  object \n",
            " 19  Privacy Policy     517662 non-null  object \n",
            " 20  Ad Supported       603047 non-null  bool   \n",
            " 21  In App Purchases   603047 non-null  bool   \n",
            " 22  Editors Choice     603047 non-null  bool   \n",
            "dtypes: bool(4), float64(4), int64(1), object(14)\n",
            "memory usage: 89.7+ MB\n",
            "None\n"
          ],
          "name": "stdout"
        },
        {
          "output_type": "execute_result",
          "data": {
            "text/html": [
              "<div>\n",
              "<style scoped>\n",
              "    .dataframe tbody tr th:only-of-type {\n",
              "        vertical-align: middle;\n",
              "    }\n",
              "\n",
              "    .dataframe tbody tr th {\n",
              "        vertical-align: top;\n",
              "    }\n",
              "\n",
              "    .dataframe thead th {\n",
              "        text-align: right;\n",
              "    }\n",
              "</style>\n",
              "<table border=\"1\" class=\"dataframe\">\n",
              "  <thead>\n",
              "    <tr style=\"text-align: right;\">\n",
              "      <th></th>\n",
              "      <th>App Name</th>\n",
              "      <th>App Id</th>\n",
              "      <th>Category</th>\n",
              "      <th>Rating</th>\n",
              "      <th>Rating Count</th>\n",
              "      <th>Installs</th>\n",
              "      <th>Minimum Installs</th>\n",
              "      <th>Maximum Installs</th>\n",
              "      <th>Free</th>\n",
              "      <th>Price</th>\n",
              "      <th>Currency</th>\n",
              "      <th>Size</th>\n",
              "      <th>Minimum Android</th>\n",
              "      <th>Developer Id</th>\n",
              "      <th>Developer Website</th>\n",
              "      <th>Developer Email</th>\n",
              "      <th>Released</th>\n",
              "      <th>Last Updated</th>\n",
              "      <th>Content Rating</th>\n",
              "      <th>Privacy Policy</th>\n",
              "      <th>Ad Supported</th>\n",
              "      <th>In App Purchases</th>\n",
              "      <th>Editors Choice</th>\n",
              "    </tr>\n",
              "  </thead>\n",
              "  <tbody>\n",
              "    <tr>\n",
              "      <th>458689</th>\n",
              "      <td>Real Country</td>\n",
              "      <td>kswg.surfernetwork.com</td>\n",
              "      <td>Entertainment</td>\n",
              "      <td>4.4</td>\n",
              "      <td>107.0</td>\n",
              "      <td>10,000+</td>\n",
              "      <td>10000.0</td>\n",
              "      <td>10530</td>\n",
              "      <td>True</td>\n",
              "      <td>0.0</td>\n",
              "      <td>USD</td>\n",
              "      <td>Varies with device</td>\n",
              "      <td>Varies with device</td>\n",
              "      <td>SurferNETWORK</td>\n",
              "      <td>https://www.surfernetwork.com</td>\n",
              "      <td>surfernetwork@gmail.com</td>\n",
              "      <td>Oct 9, 2013</td>\n",
              "      <td>13/06/2020 3:35</td>\n",
              "      <td>Everyone</td>\n",
              "      <td>https://www.surfernetwork.com/privacy-policy</td>\n",
              "      <td>True</td>\n",
              "      <td>False</td>\n",
              "      <td>False</td>\n",
              "    </tr>\n",
              "    <tr>\n",
              "      <th>265147</th>\n",
              "      <td>조물조물 창의놀이</td>\n",
              "      <td>kr.co.kyowon.jomulcreative.play</td>\n",
              "      <td>Education</td>\n",
              "      <td>0.0</td>\n",
              "      <td>0.0</td>\n",
              "      <td>1,000+</td>\n",
              "      <td>1000.0</td>\n",
              "      <td>1186</td>\n",
              "      <td>True</td>\n",
              "      <td>0.0</td>\n",
              "      <td>USD</td>\n",
              "      <td>3.7M</td>\n",
              "      <td>4.0.3 and up</td>\n",
              "      <td>교원</td>\n",
              "      <td>http://www.kyowon.co.kr</td>\n",
              "      <td>kyowonapps1@kyowon.co.kr</td>\n",
              "      <td>NaN</td>\n",
              "      <td>02/07/2019 7:51</td>\n",
              "      <td>Everyone</td>\n",
              "      <td>http://www.kyowonedu.com/KEP/CCC/KEPPrifDspsRu...</td>\n",
              "      <td>False</td>\n",
              "      <td>False</td>\n",
              "      <td>False</td>\n",
              "    </tr>\n",
              "  </tbody>\n",
              "</table>\n",
              "</div>"
            ],
            "text/plain": [
              "            App Name  ... Editors Choice\n",
              "458689  Real Country  ...          False\n",
              "265147     조물조물 창의놀이  ...          False\n",
              "\n",
              "[2 rows x 23 columns]"
            ]
          },
          "metadata": {
            "tags": []
          },
          "execution_count": 3
        }
      ]
    },
    {
      "cell_type": "markdown",
      "metadata": {
        "id": "k4jCiMRNCqTV"
      },
      "source": [
        "# **DATA FILTERING**\r\n",
        "## Agenda: \r\n",
        "Data reduction down to ~100K rows, for a decent dataframe volume, shape, & a faster run in Google Data Studio.\r\n",
        "\r\n",
        "## Guidelines:\r\n",
        "- **Minimum Android** is the minimum android version which allowes operation for the app. The mose popular values were found: 4.1\\4.0.3\\6.0 and up & Varies with device.\r\n",
        "- **Size** must exceed 1MB.\r\n",
        "- **Currency** will be USD only.\r\n",
        "- **Last updated** during 2020.\r\n"
      ]
    },
    {
      "cell_type": "code",
      "metadata": {
        "id": "9oZc6jq8-gDP"
      },
      "source": [
        "#Coloumn labels space fix\r\n",
        "df.columns = [x.replace(\" \", \"_\") for x in df.columns]\r\n",
        "\r\n",
        "#Rows SELECT\r\n",
        "df = df.query('(Minimum_Android == \"4.1 and up\" | Minimum_Android == \"4.0.3 and up\" | Minimum_Android == \"Varies with device\" | \\\r\n",
        "Minimum_Android == \"6.0 and up\") & not Size.str.endswith(\"k\") & Currency == \"USD\" & Last_Updated.str.contains(\"2020\")',engine='python')\r\n",
        "\r\n",
        "#Coloumns FILTER\r\n",
        "df = df.filter(items=['App_Name', 'Category', 'Rating', 'Rating_Count', 'Installs', 'Minimum_Installs','Maximum_Installs', 'Price', 'Size','Released','Last_Updated','Ad_Supported', 'In_App_Purchases'])\r\n",
        "\r\n",
        "#Early null creation\r\n",
        "df['Size'] = df['Size'].replace(to_replace=\"Varies with device\", #turning \"Varies with device\" to null.\r\n",
        "                                   value = np.nan)\r\n",
        "#Saving a copy of dataframe\r\n",
        "dfcopy = df.copy(deep=True)\r\n"
      ],
      "execution_count": 4,
      "outputs": []
    },
    {
      "cell_type": "code",
      "metadata": {
        "colab": {
          "base_uri": "https://localhost:8080/",
          "height": 376
        },
        "id": "AOYdQNUXWTdg",
        "outputId": "53ff2415-59ca-4b98-8475-8557db0e4e9d"
      },
      "source": [
        "print(\"Dataframe reduced shape is\", np.shape(df))\r\n",
        "df.sample(10)"
      ],
      "execution_count": 5,
      "outputs": [
        {
          "output_type": "stream",
          "text": [
            "Dataframe reduced shape is (112092, 13)\n"
          ],
          "name": "stdout"
        },
        {
          "output_type": "execute_result",
          "data": {
            "text/html": [
              "<div>\n",
              "<style scoped>\n",
              "    .dataframe tbody tr th:only-of-type {\n",
              "        vertical-align: middle;\n",
              "    }\n",
              "\n",
              "    .dataframe tbody tr th {\n",
              "        vertical-align: top;\n",
              "    }\n",
              "\n",
              "    .dataframe thead th {\n",
              "        text-align: right;\n",
              "    }\n",
              "</style>\n",
              "<table border=\"1\" class=\"dataframe\">\n",
              "  <thead>\n",
              "    <tr style=\"text-align: right;\">\n",
              "      <th></th>\n",
              "      <th>App_Name</th>\n",
              "      <th>Category</th>\n",
              "      <th>Rating</th>\n",
              "      <th>Rating_Count</th>\n",
              "      <th>Installs</th>\n",
              "      <th>Minimum_Installs</th>\n",
              "      <th>Maximum_Installs</th>\n",
              "      <th>Price</th>\n",
              "      <th>Size</th>\n",
              "      <th>Released</th>\n",
              "      <th>Last_Updated</th>\n",
              "      <th>Ad_Supported</th>\n",
              "      <th>In_App_Purchases</th>\n",
              "    </tr>\n",
              "  </thead>\n",
              "  <tbody>\n",
              "    <tr>\n",
              "      <th>553891</th>\n",
              "      <td>Turbo VPN- Free VPN Proxy Server &amp; Secure Service</td>\n",
              "      <td>Tools</td>\n",
              "      <td>4.5</td>\n",
              "      <td>3989739.0</td>\n",
              "      <td>100,000,000+</td>\n",
              "      <td>100000000.0</td>\n",
              "      <td>150353070</td>\n",
              "      <td>0.0</td>\n",
              "      <td>NaN</td>\n",
              "      <td>Jun 21, 2016</td>\n",
              "      <td>21/07/2020 14:19</td>\n",
              "      <td>True</td>\n",
              "      <td>True</td>\n",
              "    </tr>\n",
              "    <tr>\n",
              "      <th>204506</th>\n",
              "      <td>Fast Icelandic Krona ISK currency converter 🇮🇸</td>\n",
              "      <td>Finance</td>\n",
              "      <td>0.0</td>\n",
              "      <td>0.0</td>\n",
              "      <td>500+</td>\n",
              "      <td>500.0</td>\n",
              "      <td>789</td>\n",
              "      <td>0.0</td>\n",
              "      <td>26M</td>\n",
              "      <td>Feb 6, 2019</td>\n",
              "      <td>30/04/2020 0:41</td>\n",
              "      <td>True</td>\n",
              "      <td>False</td>\n",
              "    </tr>\n",
              "    <tr>\n",
              "      <th>459934</th>\n",
              "      <td>Recetas para preparar Arroz</td>\n",
              "      <td>Productivity</td>\n",
              "      <td>4.8</td>\n",
              "      <td>23.0</td>\n",
              "      <td>10,000+</td>\n",
              "      <td>10000.0</td>\n",
              "      <td>14783</td>\n",
              "      <td>0.0</td>\n",
              "      <td>6.3M</td>\n",
              "      <td>Mar 7, 2018</td>\n",
              "      <td>10/07/2020 23:49</td>\n",
              "      <td>True</td>\n",
              "      <td>False</td>\n",
              "    </tr>\n",
              "    <tr>\n",
              "      <th>295919</th>\n",
              "      <td>Kamus Bahasa Korea Indonesia Offline</td>\n",
              "      <td>Books &amp; Reference</td>\n",
              "      <td>0.0</td>\n",
              "      <td>0.0</td>\n",
              "      <td>500+</td>\n",
              "      <td>500.0</td>\n",
              "      <td>517</td>\n",
              "      <td>0.0</td>\n",
              "      <td>32M</td>\n",
              "      <td>Jan 16, 2020</td>\n",
              "      <td>28/01/2020 4:26</td>\n",
              "      <td>True</td>\n",
              "      <td>False</td>\n",
              "    </tr>\n",
              "    <tr>\n",
              "      <th>40534</th>\n",
              "      <td>Akidah Akhlak Kelas 7 Kur13</td>\n",
              "      <td>Books &amp; Reference</td>\n",
              "      <td>4.6</td>\n",
              "      <td>92.0</td>\n",
              "      <td>10,000+</td>\n",
              "      <td>10000.0</td>\n",
              "      <td>22709</td>\n",
              "      <td>0.0</td>\n",
              "      <td>11M</td>\n",
              "      <td>Sep 8, 2018</td>\n",
              "      <td>18/03/2020 9:52</td>\n",
              "      <td>True</td>\n",
              "      <td>False</td>\n",
              "    </tr>\n",
              "    <tr>\n",
              "      <th>394130</th>\n",
              "      <td>احزر الاسم</td>\n",
              "      <td>Puzzle</td>\n",
              "      <td>4.2</td>\n",
              "      <td>8.0</td>\n",
              "      <td>100+</td>\n",
              "      <td>100.0</td>\n",
              "      <td>391</td>\n",
              "      <td>0.0</td>\n",
              "      <td>49M</td>\n",
              "      <td>Apr 20, 2020</td>\n",
              "      <td>26/04/2020 15:50</td>\n",
              "      <td>True</td>\n",
              "      <td>False</td>\n",
              "    </tr>\n",
              "    <tr>\n",
              "      <th>519182</th>\n",
              "      <td>Super Kids Monster Truck Climb Racing</td>\n",
              "      <td>Racing</td>\n",
              "      <td>3.8</td>\n",
              "      <td>16.0</td>\n",
              "      <td>10,000+</td>\n",
              "      <td>10000.0</td>\n",
              "      <td>23604</td>\n",
              "      <td>0.0</td>\n",
              "      <td>7.8M</td>\n",
              "      <td>Feb 12, 2020</td>\n",
              "      <td>17/02/2020 1:03</td>\n",
              "      <td>True</td>\n",
              "      <td>False</td>\n",
              "    </tr>\n",
              "    <tr>\n",
              "      <th>573800</th>\n",
              "      <td>Viajes Playa Flamenca</td>\n",
              "      <td>Travel &amp; Local</td>\n",
              "      <td>0.0</td>\n",
              "      <td>0.0</td>\n",
              "      <td>1+</td>\n",
              "      <td>1.0</td>\n",
              "      <td>2</td>\n",
              "      <td>0.0</td>\n",
              "      <td>9.5M</td>\n",
              "      <td>Jul 18, 2020</td>\n",
              "      <td>18/07/2020 16:54</td>\n",
              "      <td>False</td>\n",
              "      <td>False</td>\n",
              "    </tr>\n",
              "    <tr>\n",
              "      <th>201629</th>\n",
              "      <td>FactInApp</td>\n",
              "      <td>Tools</td>\n",
              "      <td>0.0</td>\n",
              "      <td>0.0</td>\n",
              "      <td>10+</td>\n",
              "      <td>10.0</td>\n",
              "      <td>22</td>\n",
              "      <td>0.0</td>\n",
              "      <td>25M</td>\n",
              "      <td>NaN</td>\n",
              "      <td>22/02/2020 6:43</td>\n",
              "      <td>False</td>\n",
              "      <td>False</td>\n",
              "    </tr>\n",
              "    <tr>\n",
              "      <th>401368</th>\n",
              "      <td>تطبيق تعليم السياقة بالمغرب امتحانات  Code route</td>\n",
              "      <td>Auto &amp; Vehicles</td>\n",
              "      <td>3.1</td>\n",
              "      <td>10.0</td>\n",
              "      <td>500+</td>\n",
              "      <td>500.0</td>\n",
              "      <td>866</td>\n",
              "      <td>0.0</td>\n",
              "      <td>5.1M</td>\n",
              "      <td>Oct 25, 2019</td>\n",
              "      <td>11/06/2020 3:46</td>\n",
              "      <td>True</td>\n",
              "      <td>False</td>\n",
              "    </tr>\n",
              "  </tbody>\n",
              "</table>\n",
              "</div>"
            ],
            "text/plain": [
              "                                                 App_Name  ... In_App_Purchases\n",
              "553891  Turbo VPN- Free VPN Proxy Server & Secure Service  ...             True\n",
              "204506     Fast Icelandic Krona ISK currency converter 🇮🇸  ...            False\n",
              "459934                        Recetas para preparar Arroz  ...            False\n",
              "295919               Kamus Bahasa Korea Indonesia Offline  ...            False\n",
              "40534                         Akidah Akhlak Kelas 7 Kur13  ...            False\n",
              "394130                                         احزر الاسم  ...            False\n",
              "519182              Super Kids Monster Truck Climb Racing  ...            False\n",
              "573800                              Viajes Playa Flamenca  ...            False\n",
              "201629                                          FactInApp  ...            False\n",
              "401368   تطبيق تعليم السياقة بالمغرب امتحانات  Code route  ...            False\n",
              "\n",
              "[10 rows x 13 columns]"
            ]
          },
          "metadata": {
            "tags": []
          },
          "execution_count": 5
        }
      ]
    },
    {
      "cell_type": "markdown",
      "metadata": {
        "id": "4KbzaVM8FcLk"
      },
      "source": [
        "# **CHECKPOINT DATA INFO**"
      ]
    },
    {
      "cell_type": "code",
      "metadata": {
        "colab": {
          "base_uri": "https://localhost:8080/"
        },
        "id": "CZi23I8UxwDS",
        "outputId": "9d990e10-a291-4ff3-8bc0-563f8db1c67a"
      },
      "source": [
        "print(\"Dataframe NULL count:\")\r\n",
        "print(df.isnull().sum(axis = 0), end=\"\\n\\n\")\r\n",
        "\r\n",
        "df.info()"
      ],
      "execution_count": 6,
      "outputs": [
        {
          "output_type": "stream",
          "text": [
            "Dataframe NULL count:\n",
            "App_Name                1\n",
            "Category                0\n",
            "Rating               1880\n",
            "Rating_Count         1880\n",
            "Installs                0\n",
            "Minimum_Installs        0\n",
            "Maximum_Installs        0\n",
            "Price                   0\n",
            "Size                10823\n",
            "Released             6338\n",
            "Last_Updated            0\n",
            "Ad_Supported            0\n",
            "In_App_Purchases        0\n",
            "dtype: int64\n",
            "\n",
            "<class 'pandas.core.frame.DataFrame'>\n",
            "Int64Index: 112092 entries, 20 to 603046\n",
            "Data columns (total 13 columns):\n",
            " #   Column            Non-Null Count   Dtype  \n",
            "---  ------            --------------   -----  \n",
            " 0   App_Name          112091 non-null  object \n",
            " 1   Category          112092 non-null  object \n",
            " 2   Rating            110212 non-null  float64\n",
            " 3   Rating_Count      110212 non-null  float64\n",
            " 4   Installs          112092 non-null  object \n",
            " 5   Minimum_Installs  112092 non-null  float64\n",
            " 6   Maximum_Installs  112092 non-null  int64  \n",
            " 7   Price             112092 non-null  float64\n",
            " 8   Size              101269 non-null  object \n",
            " 9   Released          105754 non-null  object \n",
            " 10  Last_Updated      112092 non-null  object \n",
            " 11  Ad_Supported      112092 non-null  bool   \n",
            " 12  In_App_Purchases  112092 non-null  bool   \n",
            "dtypes: bool(2), float64(4), int64(1), object(6)\n",
            "memory usage: 10.5+ MB\n"
          ],
          "name": "stdout"
        }
      ]
    },
    {
      "cell_type": "code",
      "metadata": {
        "id": "41jvzDvQFZcn"
      },
      "source": [
        ""
      ],
      "execution_count": 6,
      "outputs": []
    },
    {
      "cell_type": "markdown",
      "metadata": {
        "id": "bjUUEiC6qUR1"
      },
      "source": [
        "# **DATA CLEANING & OPTIMIZATION**\r\n",
        "- A null value that was found in **App_Name** is not acceptable for further analysis, also 4 apps named: \"#NAME?\" should be cleaned.\r\n",
        "- The null values in **Rating, Rating_Count, Size, and Released** columns will be replaced with mean values.\r\n",
        "- Column dtypes will be corrected if necessary.\r\n",
        "- Column values type will be corrected if necessary.\r\n",
        "- Adding \"Ad_bool\" column, which is identical to Ad_Suppored but with 0 and 1 values, for aggregation actions such as Sum. "
      ]
    },
    {
      "cell_type": "code",
      "metadata": {
        "id": "tfA_6YJxtrJm"
      },
      "source": [
        "#NULL Extraction\r\n",
        "df = df.query('not App_Name.isnull() & not App_Name==\"#NAME?\"',engine='python')\r\n",
        "\r\n",
        "#VITAL column fixes before null replacements:\r\n",
        "#Trimming 'M' from all values in order to set as int.\r\n",
        "df['Size'] = df['Size'].str.replace('M',\"\") \r\n",
        "df['Size'] = df['Size'].astype({'Size': 'float32'})\r\n",
        "#Transform of \"Released\" coloumn to Datetime for the use of pandas.DatetimeIndex.mean\r\n",
        "df['Released'] = pd.to_datetime(df['Released']) \r\n",
        "\r\n",
        "# Function replaces np.nan values in all of the data frame with relevant statistics \\ dal7collab\r\n",
        "def rep_missings(data_frame):\r\n",
        "    d = data_frame.copy(deep = True)\r\n",
        "    for c in data_frame:\r\n",
        "        if data_frame[c].isnull().values.any() :\r\n",
        "          m = data_frame[c].dropna().mean()\r\n",
        "          d[c].fillna(m, inplace = True)\r\n",
        "    return d;\r\n",
        "\r\n",
        "# Activating the function\r\n",
        "df = rep_missings(df)"
      ],
      "execution_count": 7,
      "outputs": []
    },
    {
      "cell_type": "code",
      "metadata": {
        "id": "HEmyDEgPqjIh",
        "colab": {
          "base_uri": "https://localhost:8080/",
          "height": 376
        },
        "outputId": "7b2d3f1f-2365-45fb-f3b2-01c3ceebe4ab"
      },
      "source": [
        "#Adding Ad_bool column, as described above.\r\n",
        "df['Ad_Supported'] = df['Ad_Supported'].astype({'Ad_Supported': 'string'})\r\n",
        "df['Ad_bool']= df['Ad_Supported']\r\n",
        "df['Ad_bool']= df['Ad_bool'].str.replace(\"True\", \"1\")\r\n",
        "df['Ad_bool']= df['Ad_bool'].str.replace(\"False\", \"0\")\r\n",
        "\r\n",
        "#Coloumn types correction\r\n",
        "df['App_Name'] = df['App_Name'].astype({'App_Name': 'string'})\r\n",
        "df['Category'] = df['Category'].astype({'Category': 'string'})\r\n",
        "df['Rating'] = df['Rating'].astype({'Rating': 'float32'})\r\n",
        "df['Rating_Count'] = df['Rating_Count'].astype({'Rating_Count': 'int64'})\r\n",
        "df['Installs'] = df['Installs'].astype({'Installs': 'string'})\r\n",
        "df['Minimum_Installs'] = df['Minimum_Installs'].astype({'Minimum_Installs': 'int64'})\r\n",
        "df['Price'] = df['Price'].astype({'Price': 'float32'})\r\n",
        "df['Released'] = pd.to_datetime(df['Released']).dt.strftime('%Y-%m-%d') #Fetching only yyyy-mm-dd from the full datetime.\r\n",
        "df['Last_Updated'] = pd.to_datetime(df['Last_Updated']).dt.strftime('%Y-%m-%d') #Fetching only yyyy-mm-dd from the full datetime.\r\n",
        "df['Size'] = df['Size'].astype({'Size': 'float32'})\r\n",
        "df['Ad_bool'] = df['Ad_bool'].astype({'Ad_bool': 'int8'})\r\n",
        "\r\n",
        "\r\n",
        "print(\"Dataframe final shape is\", np.shape(df))\r\n",
        "df.sample(10)"
      ],
      "execution_count": 8,
      "outputs": [
        {
          "output_type": "stream",
          "text": [
            "Dataframe final shape is (112087, 14)\n"
          ],
          "name": "stdout"
        },
        {
          "output_type": "execute_result",
          "data": {
            "text/html": [
              "<div>\n",
              "<style scoped>\n",
              "    .dataframe tbody tr th:only-of-type {\n",
              "        vertical-align: middle;\n",
              "    }\n",
              "\n",
              "    .dataframe tbody tr th {\n",
              "        vertical-align: top;\n",
              "    }\n",
              "\n",
              "    .dataframe thead th {\n",
              "        text-align: right;\n",
              "    }\n",
              "</style>\n",
              "<table border=\"1\" class=\"dataframe\">\n",
              "  <thead>\n",
              "    <tr style=\"text-align: right;\">\n",
              "      <th></th>\n",
              "      <th>App_Name</th>\n",
              "      <th>Category</th>\n",
              "      <th>Rating</th>\n",
              "      <th>Rating_Count</th>\n",
              "      <th>Installs</th>\n",
              "      <th>Minimum_Installs</th>\n",
              "      <th>Maximum_Installs</th>\n",
              "      <th>Price</th>\n",
              "      <th>Size</th>\n",
              "      <th>Released</th>\n",
              "      <th>Last_Updated</th>\n",
              "      <th>Ad_Supported</th>\n",
              "      <th>In_App_Purchases</th>\n",
              "      <th>Ad_bool</th>\n",
              "    </tr>\n",
              "  </thead>\n",
              "  <tbody>\n",
              "    <tr>\n",
              "      <th>171550</th>\n",
              "      <td>Durak Online 3D</td>\n",
              "      <td>Card</td>\n",
              "      <td>3.8</td>\n",
              "      <td>69403</td>\n",
              "      <td>1,000,000+</td>\n",
              "      <td>1000000</td>\n",
              "      <td>3518073</td>\n",
              "      <td>0.0</td>\n",
              "      <td>20.000000</td>\n",
              "      <td>2017-06-28</td>\n",
              "      <td>2020-03-04</td>\n",
              "      <td>True</td>\n",
              "      <td>True</td>\n",
              "      <td>1</td>\n",
              "    </tr>\n",
              "    <tr>\n",
              "      <th>337652</th>\n",
              "      <td>Malaysia Jobs</td>\n",
              "      <td>Lifestyle</td>\n",
              "      <td>0.0</td>\n",
              "      <td>0</td>\n",
              "      <td>1,000+</td>\n",
              "      <td>1000</td>\n",
              "      <td>2014</td>\n",
              "      <td>0.0</td>\n",
              "      <td>4.300000</td>\n",
              "      <td>2018-11-25</td>\n",
              "      <td>2020-06-18</td>\n",
              "      <td>True</td>\n",
              "      <td>True</td>\n",
              "      <td>1</td>\n",
              "    </tr>\n",
              "    <tr>\n",
              "      <th>54298</th>\n",
              "      <td>AppTUSSAM</td>\n",
              "      <td>Maps &amp; Navigation</td>\n",
              "      <td>3.7</td>\n",
              "      <td>4215</td>\n",
              "      <td>500,000+</td>\n",
              "      <td>500000</td>\n",
              "      <td>740046</td>\n",
              "      <td>0.0</td>\n",
              "      <td>18.566137</td>\n",
              "      <td>2013-01-02</td>\n",
              "      <td>2020-02-20</td>\n",
              "      <td>False</td>\n",
              "      <td>False</td>\n",
              "      <td>0</td>\n",
              "    </tr>\n",
              "    <tr>\n",
              "      <th>162981</th>\n",
              "      <td>DocsConnect for Android</td>\n",
              "      <td>Business</td>\n",
              "      <td>4.1</td>\n",
              "      <td>14</td>\n",
              "      <td>1,000+</td>\n",
              "      <td>1000</td>\n",
              "      <td>4816</td>\n",
              "      <td>0.0</td>\n",
              "      <td>2.900000</td>\n",
              "      <td>2014-07-08</td>\n",
              "      <td>2020-09-04</td>\n",
              "      <td>False</td>\n",
              "      <td>False</td>\n",
              "      <td>0</td>\n",
              "    </tr>\n",
              "    <tr>\n",
              "      <th>575588</th>\n",
              "      <td>Vigilab Mobile</td>\n",
              "      <td>Productivity</td>\n",
              "      <td>0.0</td>\n",
              "      <td>0</td>\n",
              "      <td>100+</td>\n",
              "      <td>100</td>\n",
              "      <td>137</td>\n",
              "      <td>0.0</td>\n",
              "      <td>14.000000</td>\n",
              "      <td>2017-10-13</td>\n",
              "      <td>2020-05-25</td>\n",
              "      <td>False</td>\n",
              "      <td>False</td>\n",
              "      <td>0</td>\n",
              "    </tr>\n",
              "    <tr>\n",
              "      <th>443277</th>\n",
              "      <td>QR Code Reader / Barcode Scanner</td>\n",
              "      <td>Tools</td>\n",
              "      <td>0.0</td>\n",
              "      <td>0</td>\n",
              "      <td>5+</td>\n",
              "      <td>5</td>\n",
              "      <td>5</td>\n",
              "      <td>0.0</td>\n",
              "      <td>55.000000</td>\n",
              "      <td>2019-12-09</td>\n",
              "      <td>2020-02-28</td>\n",
              "      <td>True</td>\n",
              "      <td>False</td>\n",
              "      <td>1</td>\n",
              "    </tr>\n",
              "    <tr>\n",
              "      <th>219861</th>\n",
              "      <td>Free Gouelokkies &amp; drie beertjies</td>\n",
              "      <td>Books &amp; Reference</td>\n",
              "      <td>2.0</td>\n",
              "      <td>12</td>\n",
              "      <td>5,000+</td>\n",
              "      <td>5000</td>\n",
              "      <td>8128</td>\n",
              "      <td>0.0</td>\n",
              "      <td>29.000000</td>\n",
              "      <td>2017-07-28</td>\n",
              "      <td>2020-01-16</td>\n",
              "      <td>True</td>\n",
              "      <td>False</td>\n",
              "      <td>1</td>\n",
              "    </tr>\n",
              "    <tr>\n",
              "      <th>402561</th>\n",
              "      <td>تهاني العيد 2020</td>\n",
              "      <td>Lifestyle</td>\n",
              "      <td>4.0</td>\n",
              "      <td>313</td>\n",
              "      <td>50,000+</td>\n",
              "      <td>50000</td>\n",
              "      <td>58977</td>\n",
              "      <td>0.0</td>\n",
              "      <td>5.200000</td>\n",
              "      <td>2017-06-18</td>\n",
              "      <td>2020-09-06</td>\n",
              "      <td>True</td>\n",
              "      <td>False</td>\n",
              "      <td>1</td>\n",
              "    </tr>\n",
              "    <tr>\n",
              "      <th>583908</th>\n",
              "      <td>WATV MyPage</td>\n",
              "      <td>Lifestyle</td>\n",
              "      <td>5.0</td>\n",
              "      <td>13377</td>\n",
              "      <td>100,000+</td>\n",
              "      <td>100000</td>\n",
              "      <td>195710</td>\n",
              "      <td>0.0</td>\n",
              "      <td>9.900000</td>\n",
              "      <td>2015-08-06</td>\n",
              "      <td>2020-07-16</td>\n",
              "      <td>False</td>\n",
              "      <td>False</td>\n",
              "      <td>0</td>\n",
              "    </tr>\n",
              "    <tr>\n",
              "      <th>502325</th>\n",
              "      <td>Softlink Media</td>\n",
              "      <td>Sports</td>\n",
              "      <td>3.9</td>\n",
              "      <td>51</td>\n",
              "      <td>1,000+</td>\n",
              "      <td>1000</td>\n",
              "      <td>3897</td>\n",
              "      <td>0.0</td>\n",
              "      <td>7.300000</td>\n",
              "      <td>2020-03-16</td>\n",
              "      <td>2020-03-27</td>\n",
              "      <td>False</td>\n",
              "      <td>False</td>\n",
              "      <td>0</td>\n",
              "    </tr>\n",
              "  </tbody>\n",
              "</table>\n",
              "</div>"
            ],
            "text/plain": [
              "                                 App_Name  ... Ad_bool\n",
              "171550                    Durak Online 3D  ...       1\n",
              "337652                      Malaysia Jobs  ...       1\n",
              "54298                           AppTUSSAM  ...       0\n",
              "162981            DocsConnect for Android  ...       0\n",
              "575588                     Vigilab Mobile  ...       0\n",
              "443277   QR Code Reader / Barcode Scanner  ...       1\n",
              "219861  Free Gouelokkies & drie beertjies  ...       1\n",
              "402561                   تهاني العيد 2020  ...       1\n",
              "583908                        WATV MyPage  ...       0\n",
              "502325                     Softlink Media  ...       0\n",
              "\n",
              "[10 rows x 14 columns]"
            ]
          },
          "metadata": {
            "tags": []
          },
          "execution_count": 8
        }
      ]
    },
    {
      "cell_type": "markdown",
      "metadata": {
        "id": "mn9l1_U0zIbc"
      },
      "source": [
        "# **POSTPROCESSING DATA INFO**"
      ]
    },
    {
      "cell_type": "code",
      "metadata": {
        "colab": {
          "base_uri": "https://localhost:8080/"
        },
        "id": "2eHJdY7AzLgn",
        "outputId": "1ef19623-984c-4c8a-fd79-8c1655299d7e"
      },
      "source": [
        "#Genereal information after preprocessing\r\n",
        "print(df.info(),end = '\\n\\n')"
      ],
      "execution_count": 9,
      "outputs": [
        {
          "output_type": "stream",
          "text": [
            "<class 'pandas.core.frame.DataFrame'>\n",
            "Int64Index: 112087 entries, 20 to 602972\n",
            "Data columns (total 14 columns):\n",
            " #   Column            Non-Null Count   Dtype  \n",
            "---  ------            --------------   -----  \n",
            " 0   App_Name          112087 non-null  string \n",
            " 1   Category          112087 non-null  string \n",
            " 2   Rating            112087 non-null  float32\n",
            " 3   Rating_Count      112087 non-null  int64  \n",
            " 4   Installs          112087 non-null  string \n",
            " 5   Minimum_Installs  112087 non-null  int64  \n",
            " 6   Maximum_Installs  112087 non-null  int64  \n",
            " 7   Price             112087 non-null  float32\n",
            " 8   Size              112087 non-null  float32\n",
            " 9   Released          112087 non-null  object \n",
            " 10  Last_Updated      112087 non-null  object \n",
            " 11  Ad_Supported      112087 non-null  string \n",
            " 12  In_App_Purchases  112087 non-null  bool   \n",
            " 13  Ad_bool           112087 non-null  int8   \n",
            "dtypes: bool(1), float32(3), int64(3), int8(1), object(2), string(4)\n",
            "memory usage: 10.0+ MB\n",
            "None\n",
            "\n"
          ],
          "name": "stdout"
        }
      ]
    },
    {
      "cell_type": "markdown",
      "metadata": {
        "id": "Bsi_FjLDJaqf"
      },
      "source": [
        "# **EXPORT TO GOOGLE DRIVE**\r\n"
      ]
    },
    {
      "cell_type": "code",
      "metadata": {
        "id": "yYaUhkTKJsZ6"
      },
      "source": [
        "#Exporting a csv into google drive\r\n",
        "#df.to_csv('/content/drive/My Drive/GooglePlay-Store_Optimized_v15.csv')"
      ],
      "execution_count": 10,
      "outputs": []
    },
    {
      "cell_type": "markdown",
      "metadata": {
        "id": "plqueKPT0yyk"
      },
      "source": [
        "# **STATISTICS**"
      ]
    },
    {
      "cell_type": "code",
      "metadata": {
        "colab": {
          "base_uri": "https://localhost:8080/"
        },
        "id": "Yts92tunyYGV",
        "outputId": "b668708f-eaf6-4edd-bffe-f42ff9a4f0dd"
      },
      "source": [
        "#Retrieve coloumn general info \r\n",
        "name = 'Rating'\r\n",
        "print(df[name].describe())\r\n",
        "print(\"Coloumn's real dtype is:\", df[name].dtypes)"
      ],
      "execution_count": 15,
      "outputs": [
        {
          "output_type": "stream",
          "text": [
            "count    112087.000000\n",
            "mean          3.269279\n",
            "std           1.787079\n",
            "min           0.000000\n",
            "25%           3.000000\n",
            "50%           4.100000\n",
            "75%           4.500000\n",
            "max           5.000000\n",
            "Name: Rating, dtype: float64\n",
            "Coloumn's real dtype is: float32\n"
          ],
          "name": "stdout"
        }
      ]
    },
    {
      "cell_type": "code",
      "metadata": {
        "colab": {
          "base_uri": "https://localhost:8080/"
        },
        "id": "yLABguyZg58V",
        "outputId": "684d97e7-8156-4a35-98c6-e029290931f0"
      },
      "source": [
        "#Corrections for BI Robot operations\r\n",
        "df['App_Name'] = df['App_Name'].astype({'App_Name': 'object'})\r\n",
        "df['Category'] = df['Category'].astype({'Category': 'object'})\r\n",
        "\r\n",
        "df.iloc[0]['Minimum_Installs'].mean()"
      ],
      "execution_count": 12,
      "outputs": [
        {
          "output_type": "execute_result",
          "data": {
            "text/plain": [
              "500.0"
            ]
          },
          "metadata": {
            "tags": []
          },
          "execution_count": 12
        }
      ]
    },
    {
      "cell_type": "code",
      "metadata": {
        "id": "L39Wo0NRXDlw"
      },
      "source": [
        "# BI Insights Robot\r\n",
        "def bi_robot(dataframe, dimensions, measure):\r\n",
        "    t = {}\r\n",
        "    for d in dimensions:\r\n",
        "        if (np.issubdtype(dataframe[d].dtype, np.number)):\r\n",
        "            t[d] = df[d].describe()[7]    #Max value of a numeric variable\r\n",
        "        \r\n",
        "        else :\r\n",
        "            t[d] = df[d].describe()[2]    #The most frequent value of any other variable\r\n",
        "\r\n",
        "    for v in t:\r\n",
        "        key       = v\r\n",
        "        value     = [t[v]]\r\n",
        "        dataframe = dataframe.loc[dataframe[key].isin(value)] \r\n",
        "        stat      = dataframe[measure].mean()\r\n",
        "\r\n",
        "    print('BI Robot output:')\r\n",
        "    print(t, end = '')  \r\n",
        "    print(' Mean '+ measure +': ' + \"{:.2f}\".format(stat))\r\n",
        "    print('---------------------') \r\n",
        "\r\n",
        "    #return t"
      ],
      "execution_count": 13,
      "outputs": []
    },
    {
      "cell_type": "code",
      "metadata": {
        "colab": {
          "base_uri": "https://localhost:8080/"
        },
        "id": "haonws10P8Yh",
        "outputId": "20868e64-cfa3-4aa4-b96b-7c417c2d9a96"
      },
      "source": [
        "df_ins         = df.copy(deep = True)\r\n",
        "filters    = ['Category']\r\n",
        "measure    = 'Rating'\r\n",
        "df_ins = bi_robot(df, filters, measure)\r\n",
        "df_ins"
      ],
      "execution_count": 14,
      "outputs": [
        {
          "output_type": "stream",
          "text": [
            "BI Robot output:\n",
            "{'Category': 'Education'} Mean Rating: 3.16\n",
            "---------------------\n"
          ],
          "name": "stdout"
        }
      ]
    },
    {
      "cell_type": "code",
      "metadata": {
        "id": "qA4xGh6WCtqp"
      },
      "source": [
        ""
      ],
      "execution_count": 14,
      "outputs": []
    }
  ]
}