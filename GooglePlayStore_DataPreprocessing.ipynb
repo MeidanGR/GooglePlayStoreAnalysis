{
  "nbformat": 4,
  "nbformat_minor": 0,
  "metadata": {
    "colab": {
      "name": "GooglePlayStore_DataPreprocessing.ipynb",
      "provenance": [],
      "collapsed_sections": [],
      "authorship_tag": "ABX9TyObIlgo0aI77oZq4HNxws7D",
      "include_colab_link": true
    },
    "kernelspec": {
      "name": "python3",
      "display_name": "Python 3"
    }
  },
  "cells": [
    {
      "cell_type": "markdown",
      "metadata": {
        "id": "view-in-github",
        "colab_type": "text"
      },
      "source": [
        "<a href=\"https://colab.research.google.com/github/MeidanGR/GooglePlayStore_Preprocessing_Python/blob/main/GooglePlayStore_DataPreprocessing.ipynb\" target=\"_parent\"><img src=\"https://colab.research.google.com/assets/colab-badge.svg\" alt=\"Open In Colab\"/></a>"
      ]
    },
    {
      "cell_type": "markdown",
      "metadata": {
        "id": "-Gad_hVUwqGW"
      },
      "source": [
        "# **Google Play Store Data Preprocessing**\r\n",
        "This data preprocessing progress has been established for an academic project of a BI course. The data will be analyzed within the project.\r\n",
        "\r\n",
        "Major thanks to **Gautham Prakash** for publishing & maintenance this dataset, which you can find at https://www.kaggle.com/gauthamp10/google-playstore-apps\r\n"
      ]
    },
    {
      "cell_type": "markdown",
      "metadata": {
        "id": "XEwg6IMf-ew7"
      },
      "source": [
        "# **Google auth & libraries**"
      ]
    },
    {
      "cell_type": "code",
      "metadata": {
        "colab": {
          "base_uri": "https://localhost:8080/"
        },
        "id": "T2AXr9cs90aQ",
        "outputId": "e9489d78-51a2-4a75-a2cd-149497eda4a0"
      },
      "source": [
        "from google.colab import drive\r\n",
        "drive.mount('/content/drive')"
      ],
      "execution_count": 1,
      "outputs": [
        {
          "output_type": "stream",
          "text": [
            "Mounted at /content/drive\n"
          ],
          "name": "stdout"
        }
      ]
    },
    {
      "cell_type": "code",
      "metadata": {
        "id": "K6AN0alb-Ecd"
      },
      "source": [
        "import pandas as pd\r\n",
        "import numpy as np"
      ],
      "execution_count": 2,
      "outputs": []
    },
    {
      "cell_type": "markdown",
      "metadata": {
        "id": "gFk0C6C48ZGe"
      },
      "source": [
        "# **CSV LOAD**\r\n"
      ]
    },
    {
      "cell_type": "code",
      "metadata": {
        "colab": {
          "base_uri": "https://localhost:8080/",
          "height": 811
        },
        "id": "__oMmDYK_rTh",
        "outputId": "e8004ad8-9b06-485a-e5c1-9f5456f5c354"
      },
      "source": [
        "#Loading csv\r\n",
        "df = pd.read_csv('/content/drive/My Drive/Google-Playstore.csv')\r\n",
        "\r\n",
        "print(\"Dataframe original shape is\", np.shape(df), end='\\n\\n')\r\n",
        "print(df.info())\r\n",
        "df.sample(2)"
      ],
      "execution_count": 57,
      "outputs": [
        {
          "output_type": "stream",
          "text": [
            "Dataframe original shape is (603047, 23)\n",
            "\n",
            "<class 'pandas.core.frame.DataFrame'>\n",
            "RangeIndex: 603047 entries, 0 to 603046\n",
            "Data columns (total 23 columns):\n",
            " #   Column             Non-Null Count   Dtype  \n",
            "---  ------             --------------   -----  \n",
            " 0   App Name           603046 non-null  object \n",
            " 1   App Id             603047 non-null  object \n",
            " 2   Category           603047 non-null  object \n",
            " 3   Rating             599287 non-null  float64\n",
            " 4   Rating Count       599287 non-null  float64\n",
            " 5   Installs           602875 non-null  object \n",
            " 6   Minimum Installs   602875 non-null  float64\n",
            " 7   Maximum Installs   603047 non-null  int64  \n",
            " 8   Free               603047 non-null  bool   \n",
            " 9   Price              603047 non-null  float64\n",
            " 10  Currency           602866 non-null  object \n",
            " 11  Size               603047 non-null  object \n",
            " 12  Minimum Android    602556 non-null  object \n",
            " 13  Developer Id       603045 non-null  object \n",
            " 14  Developer Website  423783 non-null  object \n",
            " 15  Developer Email    603010 non-null  object \n",
            " 16  Released           570769 non-null  object \n",
            " 17  Last Updated       603047 non-null  object \n",
            " 18  Content Rating     603047 non-null  object \n",
            " 19  Privacy Policy     517662 non-null  object \n",
            " 20  Ad Supported       603047 non-null  bool   \n",
            " 21  In App Purchases   603047 non-null  bool   \n",
            " 22  Editors Choice     603047 non-null  bool   \n",
            "dtypes: bool(4), float64(4), int64(1), object(14)\n",
            "memory usage: 89.7+ MB\n",
            "None\n"
          ],
          "name": "stdout"
        },
        {
          "output_type": "execute_result",
          "data": {
            "text/html": [
              "<div>\n",
              "<style scoped>\n",
              "    .dataframe tbody tr th:only-of-type {\n",
              "        vertical-align: middle;\n",
              "    }\n",
              "\n",
              "    .dataframe tbody tr th {\n",
              "        vertical-align: top;\n",
              "    }\n",
              "\n",
              "    .dataframe thead th {\n",
              "        text-align: right;\n",
              "    }\n",
              "</style>\n",
              "<table border=\"1\" class=\"dataframe\">\n",
              "  <thead>\n",
              "    <tr style=\"text-align: right;\">\n",
              "      <th></th>\n",
              "      <th>App Name</th>\n",
              "      <th>App Id</th>\n",
              "      <th>Category</th>\n",
              "      <th>Rating</th>\n",
              "      <th>Rating Count</th>\n",
              "      <th>Installs</th>\n",
              "      <th>Minimum Installs</th>\n",
              "      <th>Maximum Installs</th>\n",
              "      <th>Free</th>\n",
              "      <th>Price</th>\n",
              "      <th>Currency</th>\n",
              "      <th>Size</th>\n",
              "      <th>Minimum Android</th>\n",
              "      <th>Developer Id</th>\n",
              "      <th>Developer Website</th>\n",
              "      <th>Developer Email</th>\n",
              "      <th>Released</th>\n",
              "      <th>Last Updated</th>\n",
              "      <th>Content Rating</th>\n",
              "      <th>Privacy Policy</th>\n",
              "      <th>Ad Supported</th>\n",
              "      <th>In App Purchases</th>\n",
              "      <th>Editors Choice</th>\n",
              "    </tr>\n",
              "  </thead>\n",
              "  <tbody>\n",
              "    <tr>\n",
              "      <th>406611</th>\n",
              "      <td>Onet Stars: Match &amp; Connect Pairs</td>\n",
              "      <td>com.blackout.connect</td>\n",
              "      <td>Board</td>\n",
              "      <td>4.4</td>\n",
              "      <td>19.0</td>\n",
              "      <td>1,000+</td>\n",
              "      <td>1000.0</td>\n",
              "      <td>1026</td>\n",
              "      <td>True</td>\n",
              "      <td>0.0</td>\n",
              "      <td>USD</td>\n",
              "      <td>44M</td>\n",
              "      <td>4.4 and up</td>\n",
              "      <td>Blackout Lab</td>\n",
              "      <td>https://blackout.barcelona/</td>\n",
              "      <td>blackoutlab.barcelona@gmail.com</td>\n",
              "      <td>Jul 15, 2020</td>\n",
              "      <td>21/07/2020 4:58</td>\n",
              "      <td>Everyone</td>\n",
              "      <td>https://blackout.barcelona/privacy.php</td>\n",
              "      <td>True</td>\n",
              "      <td>False</td>\n",
              "      <td>False</td>\n",
              "    </tr>\n",
              "    <tr>\n",
              "      <th>136471</th>\n",
              "      <td>CS2 - Partner Edition</td>\n",
              "      <td>com.astragon.constructionsim2b2b</td>\n",
              "      <td>Simulation</td>\n",
              "      <td>NaN</td>\n",
              "      <td>NaN</td>\n",
              "      <td>100,000+</td>\n",
              "      <td>100000.0</td>\n",
              "      <td>179700</td>\n",
              "      <td>True</td>\n",
              "      <td>0.0</td>\n",
              "      <td>USD</td>\n",
              "      <td>Varies with device</td>\n",
              "      <td>Varies with device</td>\n",
              "      <td>astragon Entertainment GmbH</td>\n",
              "      <td>NaN</td>\n",
              "      <td>supportcs2@astragon.de</td>\n",
              "      <td>NaN</td>\n",
              "      <td>07/12/2017 18:22</td>\n",
              "      <td>Everyone</td>\n",
              "      <td>http://www.bau-simulator.de/privacy-policy-cs2...</td>\n",
              "      <td>False</td>\n",
              "      <td>True</td>\n",
              "      <td>False</td>\n",
              "    </tr>\n",
              "  </tbody>\n",
              "</table>\n",
              "</div>"
            ],
            "text/plain": [
              "                                 App Name  ... Editors Choice\n",
              "406611  Onet Stars: Match & Connect Pairs  ...          False\n",
              "136471              CS2 - Partner Edition  ...          False\n",
              "\n",
              "[2 rows x 23 columns]"
            ]
          },
          "metadata": {
            "tags": []
          },
          "execution_count": 57
        }
      ]
    },
    {
      "cell_type": "markdown",
      "metadata": {
        "id": "k4jCiMRNCqTV"
      },
      "source": [
        "# **DATA FILTERING**\r\n",
        "## Agenda: \r\n",
        "Data reduction down to ~100K rows, for a decent dataframe volume, shape, & a faster run in Google Data Studio.\r\n",
        "\r\n",
        "## Guidelines:\r\n",
        "- **Minimum Android** is the minimum android version which allowes operation for the app. The mose popular values were found: 4.1\\4.0.3\\6.0 and up & Varies with device.\r\n",
        "- **Size** must exceed 1MB.\r\n",
        "- **Currency** will be USD only.\r\n",
        "- **Last updated** during 2020.\r\n"
      ]
    },
    {
      "cell_type": "code",
      "metadata": {
        "colab": {
          "base_uri": "https://localhost:8080/",
          "height": 376
        },
        "id": "9oZc6jq8-gDP",
        "outputId": "2c8fb6e1-203b-4acd-9d0c-ef82fe41416d"
      },
      "source": [
        "#Coloumn labels space fix\r\n",
        "df.columns = [x.replace(\" \", \"_\") for x in df.columns]\r\n",
        "\r\n",
        "#Rows SELECT\r\n",
        "df = df.query('(Minimum_Android == \"4.1 and up\" | Minimum_Android == \"4.0.3 and up\" | Minimum_Android == \"Varies with device\" | \\\r\n",
        "Minimum_Android == \"6.0 and up\") & not Size.str.endswith(\"k\") & Currency == \"USD\" & Last_Updated.str.contains(\"2020\")',engine='python')\r\n",
        "\r\n",
        "#Coloumns FILTER\r\n",
        "df = df.filter(items=['App_Name', 'Category', 'Rating', 'Rating_Count', 'Installs', 'Price', 'Size','Released','Last_Updated','Ad_Supported', 'In_App_Purchases'])\r\n",
        "\r\n",
        "#Saving a copy of dataframe\r\n",
        "dfcopy = df.copy(deep=True)\r\n",
        "\r\n",
        "print(\"Dataframe reduced shape is\", np.shape(df))\r\n",
        "df.sample(10)"
      ],
      "execution_count": 58,
      "outputs": [
        {
          "output_type": "stream",
          "text": [
            "Dataframe reduced shape is (112092, 11)\n"
          ],
          "name": "stdout"
        },
        {
          "output_type": "execute_result",
          "data": {
            "text/html": [
              "<div>\n",
              "<style scoped>\n",
              "    .dataframe tbody tr th:only-of-type {\n",
              "        vertical-align: middle;\n",
              "    }\n",
              "\n",
              "    .dataframe tbody tr th {\n",
              "        vertical-align: top;\n",
              "    }\n",
              "\n",
              "    .dataframe thead th {\n",
              "        text-align: right;\n",
              "    }\n",
              "</style>\n",
              "<table border=\"1\" class=\"dataframe\">\n",
              "  <thead>\n",
              "    <tr style=\"text-align: right;\">\n",
              "      <th></th>\n",
              "      <th>App_Name</th>\n",
              "      <th>Category</th>\n",
              "      <th>Rating</th>\n",
              "      <th>Rating_Count</th>\n",
              "      <th>Installs</th>\n",
              "      <th>Price</th>\n",
              "      <th>Size</th>\n",
              "      <th>Released</th>\n",
              "      <th>Last_Updated</th>\n",
              "      <th>Ad_Supported</th>\n",
              "      <th>In_App_Purchases</th>\n",
              "    </tr>\n",
              "  </thead>\n",
              "  <tbody>\n",
              "    <tr>\n",
              "      <th>121464</th>\n",
              "      <td>Clock for Home Screen</td>\n",
              "      <td>Personalization</td>\n",
              "      <td>4.2</td>\n",
              "      <td>6.0</td>\n",
              "      <td>500+</td>\n",
              "      <td>0.0</td>\n",
              "      <td>19M</td>\n",
              "      <td>Sep 27, 2015</td>\n",
              "      <td>18/06/2020 15:05</td>\n",
              "      <td>True</td>\n",
              "      <td>True</td>\n",
              "    </tr>\n",
              "    <tr>\n",
              "      <th>559082</th>\n",
              "      <td>مسابقات الفائز تحدي ثقافي واسلامي</td>\n",
              "      <td>Word</td>\n",
              "      <td>4.6</td>\n",
              "      <td>101.0</td>\n",
              "      <td>10,000+</td>\n",
              "      <td>0.0</td>\n",
              "      <td>Varies with device</td>\n",
              "      <td>Dec 9, 2018</td>\n",
              "      <td>12/07/2020 1:44</td>\n",
              "      <td>True</td>\n",
              "      <td>False</td>\n",
              "    </tr>\n",
              "    <tr>\n",
              "      <th>565928</th>\n",
              "      <td>Unitáxi Sergipe</td>\n",
              "      <td>Travel &amp; Local</td>\n",
              "      <td>0.0</td>\n",
              "      <td>0.0</td>\n",
              "      <td>5+</td>\n",
              "      <td>0.0</td>\n",
              "      <td>9.1M</td>\n",
              "      <td>Apr 22, 2020</td>\n",
              "      <td>22/04/2020 20:09</td>\n",
              "      <td>False</td>\n",
              "      <td>False</td>\n",
              "    </tr>\n",
              "    <tr>\n",
              "      <th>516055</th>\n",
              "      <td>StudentIntra</td>\n",
              "      <td>Education</td>\n",
              "      <td>3.6</td>\n",
              "      <td>51.0</td>\n",
              "      <td>10,000+</td>\n",
              "      <td>0.0</td>\n",
              "      <td>7.7M</td>\n",
              "      <td>NaN</td>\n",
              "      <td>03/02/2020 14:07</td>\n",
              "      <td>False</td>\n",
              "      <td>False</td>\n",
              "    </tr>\n",
              "    <tr>\n",
              "      <th>429375</th>\n",
              "      <td>Plevne Marşı Zil sesleri</td>\n",
              "      <td>Personalization</td>\n",
              "      <td>0.0</td>\n",
              "      <td>0.0</td>\n",
              "      <td>100+</td>\n",
              "      <td>0.0</td>\n",
              "      <td>5.8M</td>\n",
              "      <td>Jun 7, 2020</td>\n",
              "      <td>12/06/2020 19:56</td>\n",
              "      <td>True</td>\n",
              "      <td>False</td>\n",
              "    </tr>\n",
              "    <tr>\n",
              "      <th>373644</th>\n",
              "      <td>Naija Music Download</td>\n",
              "      <td>Music &amp; Audio</td>\n",
              "      <td>3.7</td>\n",
              "      <td>15.0</td>\n",
              "      <td>5,000+</td>\n",
              "      <td>0.0</td>\n",
              "      <td>40M</td>\n",
              "      <td>May 15, 2019</td>\n",
              "      <td>03/04/2020 2:46</td>\n",
              "      <td>True</td>\n",
              "      <td>False</td>\n",
              "    </tr>\n",
              "    <tr>\n",
              "      <th>38680</th>\n",
              "      <td>AgroSens</td>\n",
              "      <td>Business</td>\n",
              "      <td>4.6</td>\n",
              "      <td>167.0</td>\n",
              "      <td>10,000+</td>\n",
              "      <td>0.0</td>\n",
              "      <td>11M</td>\n",
              "      <td>May 25, 2017</td>\n",
              "      <td>09/04/2020 20:44</td>\n",
              "      <td>False</td>\n",
              "      <td>False</td>\n",
              "    </tr>\n",
              "    <tr>\n",
              "      <th>324043</th>\n",
              "      <td>LINE Clova</td>\n",
              "      <td>Tools</td>\n",
              "      <td>2.7</td>\n",
              "      <td>407.0</td>\n",
              "      <td>100,000+</td>\n",
              "      <td>0.0</td>\n",
              "      <td>Varies with device</td>\n",
              "      <td>NaN</td>\n",
              "      <td>16/06/2020 10:44</td>\n",
              "      <td>False</td>\n",
              "      <td>False</td>\n",
              "    </tr>\n",
              "    <tr>\n",
              "      <th>401026</th>\n",
              "      <td>Oakland High School Patriots</td>\n",
              "      <td>Education</td>\n",
              "      <td>3.5</td>\n",
              "      <td>8.0</td>\n",
              "      <td>500+</td>\n",
              "      <td>0.0</td>\n",
              "      <td>5.1M</td>\n",
              "      <td>Aug 1, 2018</td>\n",
              "      <td>16/06/2020 11:30</td>\n",
              "      <td>False</td>\n",
              "      <td>False</td>\n",
              "    </tr>\n",
              "    <tr>\n",
              "      <th>76414</th>\n",
              "      <td>BenditaTrinidad Brasil</td>\n",
              "      <td>Music &amp; Audio</td>\n",
              "      <td>0.0</td>\n",
              "      <td>0.0</td>\n",
              "      <td>1,000+</td>\n",
              "      <td>0.0</td>\n",
              "      <td>14M</td>\n",
              "      <td>Jan 31, 2017</td>\n",
              "      <td>12/05/2020 10:17</td>\n",
              "      <td>True</td>\n",
              "      <td>False</td>\n",
              "    </tr>\n",
              "  </tbody>\n",
              "</table>\n",
              "</div>"
            ],
            "text/plain": [
              "                                 App_Name  ... In_App_Purchases\n",
              "121464              Clock for Home Screen  ...             True\n",
              "559082  مسابقات الفائز تحدي ثقافي واسلامي  ...            False\n",
              "565928                    Unitáxi Sergipe  ...            False\n",
              "516055                       StudentIntra  ...            False\n",
              "429375           Plevne Marşı Zil sesleri  ...            False\n",
              "373644               Naija Music Download  ...            False\n",
              "38680                            AgroSens  ...            False\n",
              "324043                         LINE Clova  ...            False\n",
              "401026       Oakland High School Patriots  ...            False\n",
              "76414              BenditaTrinidad Brasil  ...            False\n",
              "\n",
              "[10 rows x 11 columns]"
            ]
          },
          "metadata": {
            "tags": []
          },
          "execution_count": 58
        }
      ]
    },
    {
      "cell_type": "markdown",
      "metadata": {
        "id": "4KbzaVM8FcLk"
      },
      "source": [
        "# **CHECKPOINT DATA INFO**"
      ]
    },
    {
      "cell_type": "code",
      "metadata": {
        "colab": {
          "base_uri": "https://localhost:8080/"
        },
        "id": "CZi23I8UxwDS",
        "outputId": "763f9509-a199-4370-9d9e-b8c84f36e9b6"
      },
      "source": [
        "print(\"Dataframe NULL count:\")\r\n",
        "print(df.isnull().sum(axis = 0), end=\"\\n\\n\")\r\n",
        "\r\n",
        "df.info()"
      ],
      "execution_count": 59,
      "outputs": [
        {
          "output_type": "stream",
          "text": [
            "Dataframe NULL count:\n",
            "App_Name               1\n",
            "Category               0\n",
            "Rating              1880\n",
            "Rating_Count        1880\n",
            "Installs               0\n",
            "Price                  0\n",
            "Size                   0\n",
            "Released            6338\n",
            "Last_Updated           0\n",
            "Ad_Supported           0\n",
            "In_App_Purchases       0\n",
            "dtype: int64\n",
            "\n",
            "<class 'pandas.core.frame.DataFrame'>\n",
            "Int64Index: 112092 entries, 20 to 603046\n",
            "Data columns (total 11 columns):\n",
            " #   Column            Non-Null Count   Dtype  \n",
            "---  ------            --------------   -----  \n",
            " 0   App_Name          112091 non-null  object \n",
            " 1   Category          112092 non-null  object \n",
            " 2   Rating            110212 non-null  float64\n",
            " 3   Rating_Count      110212 non-null  float64\n",
            " 4   Installs          112092 non-null  object \n",
            " 5   Price             112092 non-null  float64\n",
            " 6   Size              112092 non-null  object \n",
            " 7   Released          105754 non-null  object \n",
            " 8   Last_Updated      112092 non-null  object \n",
            " 9   Ad_Supported      112092 non-null  bool   \n",
            " 10  In_App_Purchases  112092 non-null  bool   \n",
            "dtypes: bool(2), float64(3), object(6)\n",
            "memory usage: 8.8+ MB\n"
          ],
          "name": "stdout"
        }
      ]
    },
    {
      "cell_type": "markdown",
      "metadata": {
        "id": "bjUUEiC6qUR1"
      },
      "source": [
        "# **DATA CLEAN & CORRECTION**\r\n",
        "- A null value that was found in **App_Name** are not acceptable for furthor analysis, also 4 apps named: \"#NAME?\" should be cleaned.\r\n",
        "- The null values in **Rating, Rating_Count** will be replaced with mean values."
      ]
    },
    {
      "cell_type": "code",
      "metadata": {
        "id": "tfA_6YJxtrJm"
      },
      "source": [
        "#NULL Extraction\r\n",
        "df = df.query('not App_Name.isnull() & not App_Name==\"#NAME?\"',engine='python')\r\n",
        "\r\n",
        "# Function replaces np.nan values in all of the data frame with relevant statistics \\ dal7collab\r\n",
        "def rep_missings(data_frame):\r\n",
        "    d = data_frame.copy(deep = True)\r\n",
        "    for c in data_frame:\r\n",
        "        if (data_frame[c].dtype == 'float64'):\r\n",
        "            if data_frame[c].isnull().values.any() :\r\n",
        "                m = data_frame[c].dropna().mean()\r\n",
        "                d[c].fillna(m, inplace = True)\r\n",
        "    return d;\r\n",
        "\r\n",
        "# Activating the function\r\n",
        "df = rep_missings(df)"
      ],
      "execution_count": 60,
      "outputs": []
    },
    {
      "cell_type": "code",
      "metadata": {
        "colab": {
          "base_uri": "https://localhost:8080/",
          "height": 376
        },
        "id": "HEmyDEgPqjIh",
        "outputId": "9a058b01-4230-4548-d671-914df6161488"
      },
      "source": [
        "#'Size' coloumn excluding \"Varies with device\"\r\n",
        "df['Size'] = df['Size'].replace(to_replace=\"Varies with device\", \r\n",
        "                                   value = np.nan)\r\n",
        "\r\n",
        "#Coloumn types correction\r\n",
        "df['App_Name'] = df['App_Name'].astype({'App_Name': 'string'})\r\n",
        "df['Category'] = df['Category'].astype({'Category': 'string'})\r\n",
        "df['Rating'] = df['Rating'].astype({'Rating': 'float32'})\r\n",
        "df['Rating_Count'] = df['Rating_Count'].astype({'Rating_Count': 'int32'})\r\n",
        "df['Installs'] = df['Installs'].astype({'Installs': 'string'})\r\n",
        "df['Price'] = df['Price'].astype({'Price': 'float32'})\r\n",
        "df['Released'] = pd.to_datetime(df['Released']).dt.strftime('%Y-%m') #Fetching only yyyy-mm from the full datetime.\r\n",
        "df['Last_Updated'] = pd.to_datetime(df['Last_Updated']).dt.strftime('%Y-%m') #Fetching only mm-yyyy from the full datetime.\r\n",
        "df['Size'] = df['Size'].astype({'Size': 'string'})\r\n",
        "\r\n",
        "\r\n",
        "print(\"Dataframe final shape is\", np.shape(df))\r\n",
        "df.sample(10)"
      ],
      "execution_count": 61,
      "outputs": [
        {
          "output_type": "stream",
          "text": [
            "Dataframe final shape is (112087, 11)\n"
          ],
          "name": "stdout"
        },
        {
          "output_type": "execute_result",
          "data": {
            "text/html": [
              "<div>\n",
              "<style scoped>\n",
              "    .dataframe tbody tr th:only-of-type {\n",
              "        vertical-align: middle;\n",
              "    }\n",
              "\n",
              "    .dataframe tbody tr th {\n",
              "        vertical-align: top;\n",
              "    }\n",
              "\n",
              "    .dataframe thead th {\n",
              "        text-align: right;\n",
              "    }\n",
              "</style>\n",
              "<table border=\"1\" class=\"dataframe\">\n",
              "  <thead>\n",
              "    <tr style=\"text-align: right;\">\n",
              "      <th></th>\n",
              "      <th>App_Name</th>\n",
              "      <th>Category</th>\n",
              "      <th>Rating</th>\n",
              "      <th>Rating_Count</th>\n",
              "      <th>Installs</th>\n",
              "      <th>Price</th>\n",
              "      <th>Size</th>\n",
              "      <th>Released</th>\n",
              "      <th>Last_Updated</th>\n",
              "      <th>Ad_Supported</th>\n",
              "      <th>In_App_Purchases</th>\n",
              "    </tr>\n",
              "  </thead>\n",
              "  <tbody>\n",
              "    <tr>\n",
              "      <th>336314</th>\n",
              "      <td>Mahjong Solitaire Mermaid</td>\n",
              "      <td>Board</td>\n",
              "      <td>4.4</td>\n",
              "      <td>387</td>\n",
              "      <td>10,000+</td>\n",
              "      <td>0.0</td>\n",
              "      <td>4.3M</td>\n",
              "      <td>2017-09</td>\n",
              "      <td>2020-04</td>\n",
              "      <td>True</td>\n",
              "      <td>True</td>\n",
              "    </tr>\n",
              "    <tr>\n",
              "      <th>484949</th>\n",
              "      <td>SellaXtrading</td>\n",
              "      <td>Finance</td>\n",
              "      <td>3.2</td>\n",
              "      <td>93</td>\n",
              "      <td>5,000+</td>\n",
              "      <td>0.0</td>\n",
              "      <td>62M</td>\n",
              "      <td>2015-07</td>\n",
              "      <td>2020-07</td>\n",
              "      <td>False</td>\n",
              "      <td>False</td>\n",
              "    </tr>\n",
              "    <tr>\n",
              "      <th>118826</th>\n",
              "      <td>City Hill Climb Car Simulator: GT Racing Car S...</td>\n",
              "      <td>Travel &amp; Local</td>\n",
              "      <td>5.0</td>\n",
              "      <td>100</td>\n",
              "      <td>5,000+</td>\n",
              "      <td>0.0</td>\n",
              "      <td>18M</td>\n",
              "      <td>2020-03</td>\n",
              "      <td>2020-06</td>\n",
              "      <td>True</td>\n",
              "      <td>True</td>\n",
              "    </tr>\n",
              "    <tr>\n",
              "      <th>161997</th>\n",
              "      <td>DMMブックス 電子書籍リーダー</td>\n",
              "      <td>Books &amp; Reference</td>\n",
              "      <td>4.0</td>\n",
              "      <td>3230</td>\n",
              "      <td>500,000+</td>\n",
              "      <td>0.0</td>\n",
              "      <td>&lt;NA&gt;</td>\n",
              "      <td>NaN</td>\n",
              "      <td>2020-07</td>\n",
              "      <td>False</td>\n",
              "      <td>False</td>\n",
              "    </tr>\n",
              "    <tr>\n",
              "      <th>254554</th>\n",
              "      <td>Hijab Wallpapers</td>\n",
              "      <td>Personalization</td>\n",
              "      <td>4.5</td>\n",
              "      <td>29</td>\n",
              "      <td>5,000+</td>\n",
              "      <td>0.0</td>\n",
              "      <td>3.5M</td>\n",
              "      <td>2019-05</td>\n",
              "      <td>2020-08</td>\n",
              "      <td>True</td>\n",
              "      <td>False</td>\n",
              "    </tr>\n",
              "    <tr>\n",
              "      <th>402427</th>\n",
              "      <td>تلاوات نادرة للشيخ عبدالباسط بدون نت</td>\n",
              "      <td>Music &amp; Audio</td>\n",
              "      <td>4.6</td>\n",
              "      <td>12</td>\n",
              "      <td>1,000+</td>\n",
              "      <td>0.0</td>\n",
              "      <td>5.2M</td>\n",
              "      <td>2019-10</td>\n",
              "      <td>2020-03</td>\n",
              "      <td>True</td>\n",
              "      <td>False</td>\n",
              "    </tr>\n",
              "    <tr>\n",
              "      <th>186932</th>\n",
              "      <td>Electric Circuit Studio</td>\n",
              "      <td>Education</td>\n",
              "      <td>4.0</td>\n",
              "      <td>1303</td>\n",
              "      <td>100,000+</td>\n",
              "      <td>0.0</td>\n",
              "      <td>23M</td>\n",
              "      <td>2019-06</td>\n",
              "      <td>2020-06</td>\n",
              "      <td>True</td>\n",
              "      <td>False</td>\n",
              "    </tr>\n",
              "    <tr>\n",
              "      <th>6055</th>\n",
              "      <td>2048 Jezzball</td>\n",
              "      <td>Arcade</td>\n",
              "      <td>4.3</td>\n",
              "      <td>181</td>\n",
              "      <td>10,000+</td>\n",
              "      <td>0.0</td>\n",
              "      <td>1.5M</td>\n",
              "      <td>2016-01</td>\n",
              "      <td>2020-02</td>\n",
              "      <td>True</td>\n",
              "      <td>False</td>\n",
              "    </tr>\n",
              "    <tr>\n",
              "      <th>228186</th>\n",
              "      <td>Geek Call Recorder</td>\n",
              "      <td>Tools</td>\n",
              "      <td>4.0</td>\n",
              "      <td>40998</td>\n",
              "      <td>1,000,000+</td>\n",
              "      <td>0.0</td>\n",
              "      <td>3.0M</td>\n",
              "      <td>2015-12</td>\n",
              "      <td>2020-02</td>\n",
              "      <td>True</td>\n",
              "      <td>False</td>\n",
              "    </tr>\n",
              "    <tr>\n",
              "      <th>428622</th>\n",
              "      <td>PlanMyDay</td>\n",
              "      <td>Productivity</td>\n",
              "      <td>4.2</td>\n",
              "      <td>458</td>\n",
              "      <td>50,000+</td>\n",
              "      <td>0.0</td>\n",
              "      <td>&lt;NA&gt;</td>\n",
              "      <td>2012-03</td>\n",
              "      <td>2020-02</td>\n",
              "      <td>False</td>\n",
              "      <td>True</td>\n",
              "    </tr>\n",
              "  </tbody>\n",
              "</table>\n",
              "</div>"
            ],
            "text/plain": [
              "                                                 App_Name  ... In_App_Purchases\n",
              "336314                          Mahjong Solitaire Mermaid  ...             True\n",
              "484949                                      SellaXtrading  ...            False\n",
              "118826  City Hill Climb Car Simulator: GT Racing Car S...  ...             True\n",
              "161997                                   DMMブックス 電子書籍リーダー  ...            False\n",
              "254554                                   Hijab Wallpapers  ...            False\n",
              "402427               تلاوات نادرة للشيخ عبدالباسط بدون نت  ...            False\n",
              "186932                            Electric Circuit Studio  ...            False\n",
              "6055                                        2048 Jezzball  ...            False\n",
              "228186                                 Geek Call Recorder  ...            False\n",
              "428622                                          PlanMyDay  ...             True\n",
              "\n",
              "[10 rows x 11 columns]"
            ]
          },
          "metadata": {
            "tags": []
          },
          "execution_count": 61
        }
      ]
    },
    {
      "cell_type": "markdown",
      "metadata": {
        "id": "mn9l1_U0zIbc"
      },
      "source": [
        "# **POSTPROCESSING DATA INFO**"
      ]
    },
    {
      "cell_type": "code",
      "metadata": {
        "colab": {
          "base_uri": "https://localhost:8080/"
        },
        "id": "2eHJdY7AzLgn",
        "outputId": "84961dc3-bdf9-4d30-f340-bfe84b392c78"
      },
      "source": [
        "#Genereal information after preprocessing\r\n",
        "print(df.info(),end = '\\n\\n')"
      ],
      "execution_count": 62,
      "outputs": [
        {
          "output_type": "stream",
          "text": [
            "<class 'pandas.core.frame.DataFrame'>\n",
            "Int64Index: 112087 entries, 20 to 602972\n",
            "Data columns (total 11 columns):\n",
            " #   Column            Non-Null Count   Dtype  \n",
            "---  ------            --------------   -----  \n",
            " 0   App_Name          112087 non-null  string \n",
            " 1   Category          112087 non-null  string \n",
            " 2   Rating            112087 non-null  float32\n",
            " 3   Rating_Count      112087 non-null  int32  \n",
            " 4   Installs          112087 non-null  string \n",
            " 5   Price             112087 non-null  float32\n",
            " 6   Size              101269 non-null  string \n",
            " 7   Released          105749 non-null  object \n",
            " 8   Last_Updated      112087 non-null  object \n",
            " 9   Ad_Supported      112087 non-null  bool   \n",
            " 10  In_App_Purchases  112087 non-null  bool   \n",
            "dtypes: bool(2), float32(2), int32(1), object(2), string(4)\n",
            "memory usage: 7.5+ MB\n",
            "None\n",
            "\n"
          ],
          "name": "stdout"
        }
      ]
    },
    {
      "cell_type": "markdown",
      "metadata": {
        "id": "Bsi_FjLDJaqf"
      },
      "source": [
        "# **EXPORT TO GOOGLE DRIVE**\r\n"
      ]
    },
    {
      "cell_type": "code",
      "metadata": {
        "id": "yYaUhkTKJsZ6"
      },
      "source": [
        "#Exporting a csv into google drive\r\n",
        "#df.to_csv('/content/drive/My Drive/GooglePlay-Store_Optimized.csv')"
      ],
      "execution_count": 63,
      "outputs": []
    },
    {
      "cell_type": "markdown",
      "metadata": {
        "id": "plqueKPT0yyk"
      },
      "source": [
        "# **STATISTICS**"
      ]
    },
    {
      "cell_type": "code",
      "metadata": {
        "colab": {
          "base_uri": "https://localhost:8080/"
        },
        "id": "Yts92tunyYGV",
        "outputId": "1f56f7b1-cf7f-49d5-8296-cc00c471f761"
      },
      "source": [
        "#Retrieve coloumn general info \r\n",
        "name = 'App_Name'\r\n",
        "print(df[name].describe(include=[object]))\r\n",
        "print(\"Coloumn's real dtype is:\", df[name].dtypes)"
      ],
      "execution_count": 65,
      "outputs": [
        {
          "output_type": "stream",
          "text": [
            "count                                   112087\n",
            "unique                                  112087\n",
            "top       弥生村を作ろう！稲刈りで全国統一 卑弥呼の時代に戦バトルで村・城下町育成\n",
            "freq                                         1\n",
            "Name: App_Name, dtype: object\n",
            "Coloumn's real dtype is: string\n"
          ],
          "name": "stdout"
        }
      ]
    },
    {
      "cell_type": "code",
      "metadata": {
        "id": "ks9MuPzyqFnQ"
      },
      "source": [
        ""
      ],
      "execution_count": 64,
      "outputs": []
    }
  ]
}