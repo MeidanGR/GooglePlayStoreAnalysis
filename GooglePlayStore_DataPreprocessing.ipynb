{
  "nbformat": 4,
  "nbformat_minor": 0,
  "metadata": {
    "colab": {
      "name": "GooglePlayStore_DataPreprocessing.ipynb",
      "provenance": [],
      "collapsed_sections": [],
      "authorship_tag": "ABX9TyN4Uy24oudLQPjaCNDV0IGt",
      "include_colab_link": true
    },
    "kernelspec": {
      "name": "python3",
      "display_name": "Python 3"
    }
  },
  "cells": [
    {
      "cell_type": "markdown",
      "metadata": {
        "id": "view-in-github",
        "colab_type": "text"
      },
      "source": [
        "<a href=\"https://colab.research.google.com/github/MeidanGR/GooglePlayStore_Preprocessing_Python/blob/main/GooglePlayStore_DataPreprocessing.ipynb\" target=\"_parent\"><img src=\"https://colab.research.google.com/assets/colab-badge.svg\" alt=\"Open In Colab\"/></a>"
      ]
    },
    {
      "cell_type": "markdown",
      "metadata": {
        "id": "-Gad_hVUwqGW"
      },
      "source": [
        "# **Google Play Store Data Preprocessing**\r\n",
        "This data preprocessing progress has been established for an academic project of a BI course. The data will be analyzed within the project.\r\n",
        "\r\n",
        "Major thanks to **Gautham Prakash** for publishing & maintenance this dataset, which you can find at https://www.kaggle.com/gauthamp10/google-playstore-apps\r\n"
      ]
    },
    {
      "cell_type": "markdown",
      "metadata": {
        "id": "XEwg6IMf-ew7"
      },
      "source": [
        "# **Google auth & libraries**"
      ]
    },
    {
      "cell_type": "code",
      "metadata": {
        "colab": {
          "base_uri": "https://localhost:8080/"
        },
        "id": "T2AXr9cs90aQ",
        "outputId": "0628020b-8f48-4c36-bbc0-5aea2a70f7e3"
      },
      "source": [
        "from google.colab import drive\r\n",
        "drive.mount('/content/drive')"
      ],
      "execution_count": 1,
      "outputs": [
        {
          "output_type": "stream",
          "text": [
            "Mounted at /content/drive\n"
          ],
          "name": "stdout"
        }
      ]
    },
    {
      "cell_type": "code",
      "metadata": {
        "id": "K6AN0alb-Ecd"
      },
      "source": [
        "import pandas as pd\r\n",
        "import numpy as np"
      ],
      "execution_count": 2,
      "outputs": []
    },
    {
      "cell_type": "markdown",
      "metadata": {
        "id": "gFk0C6C48ZGe"
      },
      "source": [
        "# **CSV LOAD**\r\n"
      ]
    },
    {
      "cell_type": "code",
      "metadata": {
        "colab": {
          "base_uri": "https://localhost:8080/",
          "height": 794
        },
        "id": "__oMmDYK_rTh",
        "outputId": "965c0c15-ee02-49aa-d3d2-0f9575aaeb06"
      },
      "source": [
        "#Loading csv\r\n",
        "df = pd.read_csv('/content/drive/My Drive/Google-Playstore.csv')\r\n",
        "\r\n",
        "print(\"Dataframe original shape is\", np.shape(df), end='\\n\\n')\r\n",
        "print(df.info())\r\n",
        "df.sample(2)"
      ],
      "execution_count": 11,
      "outputs": [
        {
          "output_type": "stream",
          "text": [
            "Dataframe original shape is (603047, 23)\n",
            "\n",
            "<class 'pandas.core.frame.DataFrame'>\n",
            "RangeIndex: 603047 entries, 0 to 603046\n",
            "Data columns (total 23 columns):\n",
            " #   Column             Non-Null Count   Dtype  \n",
            "---  ------             --------------   -----  \n",
            " 0   App Name           603046 non-null  object \n",
            " 1   App Id             603047 non-null  object \n",
            " 2   Category           603047 non-null  object \n",
            " 3   Rating             599287 non-null  float64\n",
            " 4   Rating Count       599287 non-null  float64\n",
            " 5   Installs           602875 non-null  object \n",
            " 6   Minimum Installs   602875 non-null  float64\n",
            " 7   Maximum Installs   603047 non-null  int64  \n",
            " 8   Free               603047 non-null  bool   \n",
            " 9   Price              603047 non-null  float64\n",
            " 10  Currency           602866 non-null  object \n",
            " 11  Size               603047 non-null  object \n",
            " 12  Minimum Android    602556 non-null  object \n",
            " 13  Developer Id       603045 non-null  object \n",
            " 14  Developer Website  423783 non-null  object \n",
            " 15  Developer Email    603010 non-null  object \n",
            " 16  Released           570769 non-null  object \n",
            " 17  Last Updated       603047 non-null  object \n",
            " 18  Content Rating     603047 non-null  object \n",
            " 19  Privacy Policy     517662 non-null  object \n",
            " 20  Ad Supported       603047 non-null  bool   \n",
            " 21  In App Purchases   603047 non-null  bool   \n",
            " 22  Editors Choice     603047 non-null  bool   \n",
            "dtypes: bool(4), float64(4), int64(1), object(14)\n",
            "memory usage: 89.7+ MB\n",
            "None\n"
          ],
          "name": "stdout"
        },
        {
          "output_type": "execute_result",
          "data": {
            "text/html": [
              "<div>\n",
              "<style scoped>\n",
              "    .dataframe tbody tr th:only-of-type {\n",
              "        vertical-align: middle;\n",
              "    }\n",
              "\n",
              "    .dataframe tbody tr th {\n",
              "        vertical-align: top;\n",
              "    }\n",
              "\n",
              "    .dataframe thead th {\n",
              "        text-align: right;\n",
              "    }\n",
              "</style>\n",
              "<table border=\"1\" class=\"dataframe\">\n",
              "  <thead>\n",
              "    <tr style=\"text-align: right;\">\n",
              "      <th></th>\n",
              "      <th>App Name</th>\n",
              "      <th>App Id</th>\n",
              "      <th>Category</th>\n",
              "      <th>Rating</th>\n",
              "      <th>Rating Count</th>\n",
              "      <th>Installs</th>\n",
              "      <th>Minimum Installs</th>\n",
              "      <th>Maximum Installs</th>\n",
              "      <th>Free</th>\n",
              "      <th>Price</th>\n",
              "      <th>Currency</th>\n",
              "      <th>Size</th>\n",
              "      <th>Minimum Android</th>\n",
              "      <th>Developer Id</th>\n",
              "      <th>Developer Website</th>\n",
              "      <th>Developer Email</th>\n",
              "      <th>Released</th>\n",
              "      <th>Last Updated</th>\n",
              "      <th>Content Rating</th>\n",
              "      <th>Privacy Policy</th>\n",
              "      <th>Ad Supported</th>\n",
              "      <th>In App Purchases</th>\n",
              "      <th>Editors Choice</th>\n",
              "    </tr>\n",
              "  </thead>\n",
              "  <tbody>\n",
              "    <tr>\n",
              "      <th>433649</th>\n",
              "      <td>Posture CHECKER plus</td>\n",
              "      <td>jp.co.rugle.postureplus</td>\n",
              "      <td>Health &amp; Fitness</td>\n",
              "      <td>4.7</td>\n",
              "      <td>15.0</td>\n",
              "      <td>1,000+</td>\n",
              "      <td>1000.0</td>\n",
              "      <td>1295</td>\n",
              "      <td>False</td>\n",
              "      <td>5.02</td>\n",
              "      <td>USD</td>\n",
              "      <td>5.9M</td>\n",
              "      <td>4.0.3 and up</td>\n",
              "      <td>MEDIC ENGINEERING</td>\n",
              "      <td>http://www.rugle.co.jp</td>\n",
              "      <td>support@rugle.co.jp</td>\n",
              "      <td>Sep 9, 2013</td>\n",
              "      <td>15/01/2020 8:54</td>\n",
              "      <td>Everyone</td>\n",
              "      <td>http://www7b.biglobe.ne.jp/~mobileapps/files/p...</td>\n",
              "      <td>False</td>\n",
              "      <td>False</td>\n",
              "      <td>False</td>\n",
              "    </tr>\n",
              "    <tr>\n",
              "      <th>519734</th>\n",
              "      <td>Supercons Dark - The Superhero Icon Pack</td>\n",
              "      <td>com.supercons.dark</td>\n",
              "      <td>Personalization</td>\n",
              "      <td>4.3</td>\n",
              "      <td>66.0</td>\n",
              "      <td>5,000+</td>\n",
              "      <td>5000.0</td>\n",
              "      <td>8583</td>\n",
              "      <td>False</td>\n",
              "      <td>0.99</td>\n",
              "      <td>USD</td>\n",
              "      <td>7.9M</td>\n",
              "      <td>4.0.3 and up</td>\n",
              "      <td>badpixel</td>\n",
              "      <td>NaN</td>\n",
              "      <td>rahullama34@gmail.com</td>\n",
              "      <td>Feb 27, 2019</td>\n",
              "      <td>19/07/2019 21:59</td>\n",
              "      <td>Everyone</td>\n",
              "      <td>https://rahul3183.github.io</td>\n",
              "      <td>False</td>\n",
              "      <td>False</td>\n",
              "      <td>False</td>\n",
              "    </tr>\n",
              "  </tbody>\n",
              "</table>\n",
              "</div>"
            ],
            "text/plain": [
              "                                        App Name  ... Editors Choice\n",
              "433649                      Posture CHECKER plus  ...          False\n",
              "519734  Supercons Dark - The Superhero Icon Pack  ...          False\n",
              "\n",
              "[2 rows x 23 columns]"
            ]
          },
          "metadata": {
            "tags": []
          },
          "execution_count": 11
        }
      ]
    },
    {
      "cell_type": "markdown",
      "metadata": {
        "id": "k4jCiMRNCqTV"
      },
      "source": [
        "# **DATA FILTERING**\r\n",
        "## Agenda: \r\n",
        "Data reduction down to ~100K rows, for a decent dataframe volume, shape, & a faster run in Google Data Studio.\r\n",
        "\r\n",
        "## Guidelines:\r\n",
        "- **Minimum Android** is the minimum android version which allowes operation for the app. The mose popular values were found: 4.1\\4.0.3\\6.0 and up & Varies with device.\r\n",
        "- **Size** must exceed 1MB.\r\n",
        "- **Currency** will be USD only.\r\n",
        "- **Last updated** during 2020.\r\n"
      ]
    },
    {
      "cell_type": "code",
      "metadata": {
        "colab": {
          "base_uri": "https://localhost:8080/",
          "height": 376
        },
        "id": "9oZc6jq8-gDP",
        "outputId": "29098739-7182-48bb-f977-8b058f36c45c"
      },
      "source": [
        "#Coloumn labels space fix\r\n",
        "df.columns = [x.replace(\" \", \"_\") for x in df.columns]\r\n",
        "\r\n",
        "#Rows SELECT\r\n",
        "df = df.query('(Minimum_Android == \"4.1 and up\" | Minimum_Android == \"4.0.3 and up\" | Minimum_Android == \"Varies with device\" | \\\r\n",
        "Minimum_Android == \"6.0 and up\") & not Size.str.endswith(\"k\") & Currency == \"USD\" & Last_Updated.str.contains(\"2020\")',engine='python')\r\n",
        "\r\n",
        "#Coloumns FILTER\r\n",
        "df = df.filter(items=['App_Name', 'Category', 'Rating', 'Rating_Count', 'Installs', 'Price', 'Size','Released','Last_Updated','Ad_Supported', 'In_App_Purchases'])\r\n",
        "\r\n",
        "#Saving a copy of dataframe\r\n",
        "dfcopy = df.copy(deep=True)\r\n",
        "\r\n",
        "print(\"Dataframe reduced shape is\", np.shape(df))\r\n",
        "df.sample(10)"
      ],
      "execution_count": 4,
      "outputs": [
        {
          "output_type": "stream",
          "text": [
            "Dataframe reduced shape is (112092, 11)\n"
          ],
          "name": "stdout"
        },
        {
          "output_type": "execute_result",
          "data": {
            "text/html": [
              "<div>\n",
              "<style scoped>\n",
              "    .dataframe tbody tr th:only-of-type {\n",
              "        vertical-align: middle;\n",
              "    }\n",
              "\n",
              "    .dataframe tbody tr th {\n",
              "        vertical-align: top;\n",
              "    }\n",
              "\n",
              "    .dataframe thead th {\n",
              "        text-align: right;\n",
              "    }\n",
              "</style>\n",
              "<table border=\"1\" class=\"dataframe\">\n",
              "  <thead>\n",
              "    <tr style=\"text-align: right;\">\n",
              "      <th></th>\n",
              "      <th>App_Name</th>\n",
              "      <th>Category</th>\n",
              "      <th>Rating</th>\n",
              "      <th>Rating_Count</th>\n",
              "      <th>Installs</th>\n",
              "      <th>Price</th>\n",
              "      <th>Size</th>\n",
              "      <th>Released</th>\n",
              "      <th>Last_Updated</th>\n",
              "      <th>Ad_Supported</th>\n",
              "      <th>In_App_Purchases</th>\n",
              "    </tr>\n",
              "  </thead>\n",
              "  <tbody>\n",
              "    <tr>\n",
              "      <th>105549</th>\n",
              "      <td>Caramel Icon Pack</td>\n",
              "      <td>Personalization</td>\n",
              "      <td>4.2</td>\n",
              "      <td>17.0</td>\n",
              "      <td>100+</td>\n",
              "      <td>1.49</td>\n",
              "      <td>17M</td>\n",
              "      <td>Apr 22, 2019</td>\n",
              "      <td>24/02/2020 5:23</td>\n",
              "      <td>False</td>\n",
              "      <td>False</td>\n",
              "    </tr>\n",
              "    <tr>\n",
              "      <th>58771</th>\n",
              "      <td>Asmaul husna</td>\n",
              "      <td>Books &amp; Reference</td>\n",
              "      <td>5.0</td>\n",
              "      <td>328.0</td>\n",
              "      <td>10,000+</td>\n",
              "      <td>0.00</td>\n",
              "      <td>12M</td>\n",
              "      <td>Jul 29, 2019</td>\n",
              "      <td>24/05/2020 12:17</td>\n",
              "      <td>False</td>\n",
              "      <td>False</td>\n",
              "    </tr>\n",
              "    <tr>\n",
              "      <th>301368</th>\n",
              "      <td>Kiddos in Camp - Free Educational Games for Kids</td>\n",
              "      <td>Educational</td>\n",
              "      <td>4.4</td>\n",
              "      <td>91.0</td>\n",
              "      <td>10,000+</td>\n",
              "      <td>0.00</td>\n",
              "      <td>34M</td>\n",
              "      <td>Mar 6, 2020</td>\n",
              "      <td>15/06/2020 15:26</td>\n",
              "      <td>True</td>\n",
              "      <td>True</td>\n",
              "    </tr>\n",
              "    <tr>\n",
              "      <th>90280</th>\n",
              "      <td>Boom!</td>\n",
              "      <td>Tools</td>\n",
              "      <td>4.2</td>\n",
              "      <td>5.0</td>\n",
              "      <td>1,000+</td>\n",
              "      <td>0.00</td>\n",
              "      <td>4.1M</td>\n",
              "      <td>Jul 12, 2016</td>\n",
              "      <td>01/05/2020 7:15</td>\n",
              "      <td>True</td>\n",
              "      <td>True</td>\n",
              "    </tr>\n",
              "    <tr>\n",
              "      <th>374614</th>\n",
              "      <td>Napoleon Hill's Audio &amp; E-Books</td>\n",
              "      <td>Books &amp; Reference</td>\n",
              "      <td>4.6</td>\n",
              "      <td>150.0</td>\n",
              "      <td>10,000+</td>\n",
              "      <td>0.00</td>\n",
              "      <td>40M</td>\n",
              "      <td>Apr 12, 2019</td>\n",
              "      <td>10/01/2020 21:51</td>\n",
              "      <td>True</td>\n",
              "      <td>False</td>\n",
              "    </tr>\n",
              "    <tr>\n",
              "      <th>4248</th>\n",
              "      <td>1200 common english words with Hindi Meaning</td>\n",
              "      <td>Education</td>\n",
              "      <td>4.2</td>\n",
              "      <td>216.0</td>\n",
              "      <td>50,000+</td>\n",
              "      <td>0.00</td>\n",
              "      <td>1.4M</td>\n",
              "      <td>Oct 24, 2017</td>\n",
              "      <td>07/03/2020 0:34</td>\n",
              "      <td>True</td>\n",
              "      <td>False</td>\n",
              "    </tr>\n",
              "    <tr>\n",
              "      <th>13853</th>\n",
              "      <td>বিরিয়ানি রেসিপি~Biriyani Recipes</td>\n",
              "      <td>Food &amp; Drink</td>\n",
              "      <td>0.0</td>\n",
              "      <td>0.0</td>\n",
              "      <td>50+</td>\n",
              "      <td>0.00</td>\n",
              "      <td>10.0M</td>\n",
              "      <td>Oct 2, 2019</td>\n",
              "      <td>21/03/2020 0:36</td>\n",
              "      <td>True</td>\n",
              "      <td>False</td>\n",
              "    </tr>\n",
              "    <tr>\n",
              "      <th>130369</th>\n",
              "      <td>ConVos</td>\n",
              "      <td>Tools</td>\n",
              "      <td>NaN</td>\n",
              "      <td>NaN</td>\n",
              "      <td>5+</td>\n",
              "      <td>0.00</td>\n",
              "      <td>Varies with device</td>\n",
              "      <td>NaN</td>\n",
              "      <td>14/07/2020 19:10</td>\n",
              "      <td>False</td>\n",
              "      <td>False</td>\n",
              "    </tr>\n",
              "    <tr>\n",
              "      <th>568144</th>\n",
              "      <td>Ursinhos de Amor ❤️ Lindos Ursinhos Carinhosos</td>\n",
              "      <td>Entertainment</td>\n",
              "      <td>4.3</td>\n",
              "      <td>6.0</td>\n",
              "      <td>100+</td>\n",
              "      <td>0.00</td>\n",
              "      <td>9.2M</td>\n",
              "      <td>Apr 4, 2019</td>\n",
              "      <td>23/05/2020 17:05</td>\n",
              "      <td>True</td>\n",
              "      <td>False</td>\n",
              "    </tr>\n",
              "    <tr>\n",
              "      <th>288124</th>\n",
              "      <td>Jamak Dan Qasar</td>\n",
              "      <td>Education</td>\n",
              "      <td>4.6</td>\n",
              "      <td>532.0</td>\n",
              "      <td>100,000+</td>\n",
              "      <td>0.00</td>\n",
              "      <td>30M</td>\n",
              "      <td>Mar 29, 2015</td>\n",
              "      <td>19/03/2020 17:35</td>\n",
              "      <td>True</td>\n",
              "      <td>False</td>\n",
              "    </tr>\n",
              "  </tbody>\n",
              "</table>\n",
              "</div>"
            ],
            "text/plain": [
              "                                                App_Name  ... In_App_Purchases\n",
              "105549                                 Caramel Icon Pack  ...            False\n",
              "58771                                       Asmaul husna  ...            False\n",
              "301368  Kiddos in Camp - Free Educational Games for Kids  ...             True\n",
              "90280                                              Boom!  ...             True\n",
              "374614                   Napoleon Hill's Audio & E-Books  ...            False\n",
              "4248        1200 common english words with Hindi Meaning  ...            False\n",
              "13853                   বিরিয়ানি রেসিপি~Biriyani Recipes  ...            False\n",
              "130369                                            ConVos  ...            False\n",
              "568144    Ursinhos de Amor ❤️ Lindos Ursinhos Carinhosos  ...            False\n",
              "288124                                   Jamak Dan Qasar  ...            False\n",
              "\n",
              "[10 rows x 11 columns]"
            ]
          },
          "metadata": {
            "tags": []
          },
          "execution_count": 4
        }
      ]
    },
    {
      "cell_type": "markdown",
      "metadata": {
        "id": "4KbzaVM8FcLk"
      },
      "source": [
        "# **CHECKPOINT DATA INFO**"
      ]
    },
    {
      "cell_type": "code",
      "metadata": {
        "colab": {
          "base_uri": "https://localhost:8080/"
        },
        "id": "CZi23I8UxwDS",
        "outputId": "e75dd6b2-3221-40e4-dc16-869b4adfae29"
      },
      "source": [
        "print(\"Dataframe NULL count:\")\r\n",
        "print(df.isnull().sum(axis = 0), end=\"\\n\\n\")\r\n",
        "\r\n",
        "df.info()"
      ],
      "execution_count": null,
      "outputs": [
        {
          "output_type": "stream",
          "text": [
            "Dataframe NULL count:\n",
            "App_Name               1\n",
            "Category               0\n",
            "Rating              1880\n",
            "Rating_Count        1880\n",
            "Installs               0\n",
            "Price                  0\n",
            "Size                   0\n",
            "Released            6338\n",
            "Last_Updated           0\n",
            "Ad_Supported           0\n",
            "In_App_Purchases       0\n",
            "dtype: int64\n",
            "\n",
            "<class 'pandas.core.frame.DataFrame'>\n",
            "Int64Index: 112092 entries, 20 to 603046\n",
            "Data columns (total 11 columns):\n",
            " #   Column            Non-Null Count   Dtype  \n",
            "---  ------            --------------   -----  \n",
            " 0   App_Name          112091 non-null  object \n",
            " 1   Category          112092 non-null  object \n",
            " 2   Rating            110212 non-null  float64\n",
            " 3   Rating_Count      110212 non-null  float64\n",
            " 4   Installs          112092 non-null  object \n",
            " 5   Price             112092 non-null  float64\n",
            " 6   Size              112092 non-null  object \n",
            " 7   Released          105754 non-null  object \n",
            " 8   Last_Updated      112092 non-null  object \n",
            " 9   Ad_Supported      112092 non-null  bool   \n",
            " 10  In_App_Purchases  112092 non-null  bool   \n",
            "dtypes: bool(2), float64(3), object(6)\n",
            "memory usage: 8.8+ MB\n"
          ],
          "name": "stdout"
        }
      ]
    },
    {
      "cell_type": "code",
      "metadata": {
        "colab": {
          "base_uri": "https://localhost:8080/"
        },
        "id": "Yts92tunyYGV",
        "outputId": "1f52979d-3937-4e8f-8906-a7f65837a7b3"
      },
      "source": [
        "#Retrieve coloumn general info \r\n",
        "name = 'Category'\r\n",
        "df[name].describe()"
      ],
      "execution_count": null,
      "outputs": [
        {
          "output_type": "execute_result",
          "data": {
            "text/plain": [
              "count        112092\n",
              "unique           48\n",
              "top       Education\n",
              "freq          12333\n",
              "Name: Category, dtype: object"
            ]
          },
          "metadata": {
            "tags": []
          },
          "execution_count": 105
        }
      ]
    },
    {
      "cell_type": "markdown",
      "metadata": {
        "id": "bjUUEiC6qUR1"
      },
      "source": [
        "# **DATA CLEAN & CORRECTION**\r\n",
        "- A null value that was found in **App_Name** are not acceptable for furthor analysis.\r\n",
        "- The null values in **Rating, Rating_Count** will be replaced with mean values."
      ]
    },
    {
      "cell_type": "code",
      "metadata": {
        "id": "tfA_6YJxtrJm"
      },
      "source": [
        "#NULL Extraction\r\n",
        "df = df.query('not App_Name.isnull()',engine='python')\r\n",
        "\r\n",
        "# Function replaces np.nan values in all of the data frame with relevant statistics \\ dal7collab\r\n",
        "def rep_missings(data_frame):\r\n",
        "    d = data_frame.copy(deep = True)\r\n",
        "    for c in data_frame:\r\n",
        "        if (data_frame[c].dtype == 'float64'):\r\n",
        "            if data_frame[c].isnull().values.any() :\r\n",
        "                m = data_frame[c].dropna().mean()\r\n",
        "                d[c].fillna(m, inplace = True)\r\n",
        "    return d;\r\n",
        "\r\n",
        "# Activating the function\r\n",
        "df = rep_missings(df)"
      ],
      "execution_count": 5,
      "outputs": []
    },
    {
      "cell_type": "code",
      "metadata": {
        "colab": {
          "base_uri": "https://localhost:8080/",
          "height": 376
        },
        "id": "HEmyDEgPqjIh",
        "outputId": "e3399d04-37e5-4fb8-a059-08cff7db4db1"
      },
      "source": [
        "#Coloumn types correction\r\n",
        "df['App_Name'] = df['App_Name'].astype({'App_Name': 'string'})\r\n",
        "df['Category'] = df['Category'].astype({'Category': 'string'})\r\n",
        "df['Rating'] = df['Rating'].astype({'Rating': 'float32'})\r\n",
        "df['Rating_Count'] = df['Rating_Count'].astype({'Rating_Count': 'int32'})\r\n",
        "df['Installs'] = df['Installs'].astype({'Installs': 'string'})\r\n",
        "df['Price'] = df['Price'].astype({'Price': 'float32'})\r\n",
        "df['Size'] = df['Size'].astype({'Size': 'string'})\r\n",
        "df['Released']= pd.to_datetime(df['Released']) \r\n",
        "df['Last_Updated']= pd.to_datetime(df['Last_Updated']) \r\n",
        "\r\n",
        "#'Size' coloumn excluding \"Varies with device\"\r\n",
        "df['Size'] = df['Size'].replace(to_replace=\"Varies with device\", \r\n",
        "                                   value = np.nan)\r\n",
        "\r\n",
        "\r\n",
        "print(\"Dataframe final shape is\", np.shape(df))\r\n",
        "df.sample(10)"
      ],
      "execution_count": 7,
      "outputs": [
        {
          "output_type": "stream",
          "text": [
            "Dataframe final shape is (112091, 11)\n"
          ],
          "name": "stdout"
        },
        {
          "output_type": "execute_result",
          "data": {
            "text/html": [
              "<div>\n",
              "<style scoped>\n",
              "    .dataframe tbody tr th:only-of-type {\n",
              "        vertical-align: middle;\n",
              "    }\n",
              "\n",
              "    .dataframe tbody tr th {\n",
              "        vertical-align: top;\n",
              "    }\n",
              "\n",
              "    .dataframe thead th {\n",
              "        text-align: right;\n",
              "    }\n",
              "</style>\n",
              "<table border=\"1\" class=\"dataframe\">\n",
              "  <thead>\n",
              "    <tr style=\"text-align: right;\">\n",
              "      <th></th>\n",
              "      <th>App_Name</th>\n",
              "      <th>Category</th>\n",
              "      <th>Rating</th>\n",
              "      <th>Rating_Count</th>\n",
              "      <th>Installs</th>\n",
              "      <th>Price</th>\n",
              "      <th>Size</th>\n",
              "      <th>Released</th>\n",
              "      <th>Last_Updated</th>\n",
              "      <th>Ad_Supported</th>\n",
              "      <th>In_App_Purchases</th>\n",
              "    </tr>\n",
              "  </thead>\n",
              "  <tbody>\n",
              "    <tr>\n",
              "      <th>158829</th>\n",
              "      <td>Digital Stress Buddy</td>\n",
              "      <td>Medical</td>\n",
              "      <td>0.0</td>\n",
              "      <td>0</td>\n",
              "      <td>10+</td>\n",
              "      <td>0.0</td>\n",
              "      <td>5.8M</td>\n",
              "      <td>2020-05-06</td>\n",
              "      <td>2020-05-27 21:41:00</td>\n",
              "      <td>False</td>\n",
              "      <td>False</td>\n",
              "    </tr>\n",
              "    <tr>\n",
              "      <th>334414</th>\n",
              "      <td>Madrid Guía</td>\n",
              "      <td>Travel &amp; Local</td>\n",
              "      <td>0.0</td>\n",
              "      <td>0</td>\n",
              "      <td>100+</td>\n",
              "      <td>0.0</td>\n",
              "      <td>4.2M</td>\n",
              "      <td>2018-12-10</td>\n",
              "      <td>2020-06-15 20:58:00</td>\n",
              "      <td>False</td>\n",
              "      <td>False</td>\n",
              "    </tr>\n",
              "    <tr>\n",
              "      <th>428573</th>\n",
              "      <td>Planfix Lite</td>\n",
              "      <td>Business</td>\n",
              "      <td>0.0</td>\n",
              "      <td>0</td>\n",
              "      <td>500+</td>\n",
              "      <td>0.0</td>\n",
              "      <td>5.8M</td>\n",
              "      <td>2020-06-20</td>\n",
              "      <td>2020-03-07 11:41:00</td>\n",
              "      <td>False</td>\n",
              "      <td>False</td>\n",
              "    </tr>\n",
              "    <tr>\n",
              "      <th>265373</th>\n",
              "      <td>예스24 eBook - YES24 eBook</td>\n",
              "      <td>Books &amp; Reference</td>\n",
              "      <td>3.4</td>\n",
              "      <td>8763</td>\n",
              "      <td>1,000,000+</td>\n",
              "      <td>0.0</td>\n",
              "      <td>3.7M</td>\n",
              "      <td>2015-05-31</td>\n",
              "      <td>2020-05-13 11:21:00</td>\n",
              "      <td>False</td>\n",
              "      <td>False</td>\n",
              "    </tr>\n",
              "    <tr>\n",
              "      <th>470017</th>\n",
              "      <td>Rope Master 3D</td>\n",
              "      <td>Puzzle</td>\n",
              "      <td>1.9</td>\n",
              "      <td>12</td>\n",
              "      <td>5,000+</td>\n",
              "      <td>0.0</td>\n",
              "      <td>6.6M</td>\n",
              "      <td>2020-04-28</td>\n",
              "      <td>2020-05-18 16:45:00</td>\n",
              "      <td>True</td>\n",
              "      <td>False</td>\n",
              "    </tr>\n",
              "    <tr>\n",
              "      <th>524597</th>\n",
              "      <td>SZ Viewer A1: Diagnostics for Suzuki</td>\n",
              "      <td>Auto &amp; Vehicles</td>\n",
              "      <td>4.8</td>\n",
              "      <td>1512</td>\n",
              "      <td>50,000+</td>\n",
              "      <td>0.0</td>\n",
              "      <td>&lt;NA&gt;</td>\n",
              "      <td>2015-12-18</td>\n",
              "      <td>2020-07-05 04:38:00</td>\n",
              "      <td>False</td>\n",
              "      <td>False</td>\n",
              "    </tr>\n",
              "    <tr>\n",
              "      <th>317323</th>\n",
              "      <td>Learn French For Kids</td>\n",
              "      <td>Education</td>\n",
              "      <td>4.3</td>\n",
              "      <td>405</td>\n",
              "      <td>50,000+</td>\n",
              "      <td>0.0</td>\n",
              "      <td>39M</td>\n",
              "      <td>2016-10-31</td>\n",
              "      <td>2020-04-27 16:57:00</td>\n",
              "      <td>True</td>\n",
              "      <td>False</td>\n",
              "    </tr>\n",
              "    <tr>\n",
              "      <th>575717</th>\n",
              "      <td>Viking Radio</td>\n",
              "      <td>Music &amp; Audio</td>\n",
              "      <td>4.4</td>\n",
              "      <td>139</td>\n",
              "      <td>10,000+</td>\n",
              "      <td>0.0</td>\n",
              "      <td>&lt;NA&gt;</td>\n",
              "      <td>NaT</td>\n",
              "      <td>2020-10-07 18:39:00</td>\n",
              "      <td>True</td>\n",
              "      <td>False</td>\n",
              "    </tr>\n",
              "    <tr>\n",
              "      <th>412924</th>\n",
              "      <td>Paithani Saree Style &amp; Designs</td>\n",
              "      <td>Lifestyle</td>\n",
              "      <td>0.0</td>\n",
              "      <td>0</td>\n",
              "      <td>1,000+</td>\n",
              "      <td>0.0</td>\n",
              "      <td>5.4M</td>\n",
              "      <td>2018-03-31</td>\n",
              "      <td>2020-06-24 10:42:00</td>\n",
              "      <td>True</td>\n",
              "      <td>False</td>\n",
              "    </tr>\n",
              "    <tr>\n",
              "      <th>322419</th>\n",
              "      <td>Libro de 2 Timoteo</td>\n",
              "      <td>Books &amp; Reference</td>\n",
              "      <td>0.0</td>\n",
              "      <td>0</td>\n",
              "      <td>10+</td>\n",
              "      <td>0.0</td>\n",
              "      <td>4.0M</td>\n",
              "      <td>2020-03-23</td>\n",
              "      <td>2020-03-24 05:22:00</td>\n",
              "      <td>True</td>\n",
              "      <td>False</td>\n",
              "    </tr>\n",
              "  </tbody>\n",
              "</table>\n",
              "</div>"
            ],
            "text/plain": [
              "                                    App_Name  ... In_App_Purchases\n",
              "158829                  Digital Stress Buddy  ...            False\n",
              "334414                           Madrid Guía  ...            False\n",
              "428573                          Planfix Lite  ...            False\n",
              "265373              예스24 eBook - YES24 eBook  ...            False\n",
              "470017                        Rope Master 3D  ...            False\n",
              "524597  SZ Viewer A1: Diagnostics for Suzuki  ...            False\n",
              "317323                 Learn French For Kids  ...            False\n",
              "575717                          Viking Radio  ...            False\n",
              "412924        Paithani Saree Style & Designs  ...            False\n",
              "322419                    Libro de 2 Timoteo  ...            False\n",
              "\n",
              "[10 rows x 11 columns]"
            ]
          },
          "metadata": {
            "tags": []
          },
          "execution_count": 7
        }
      ]
    },
    {
      "cell_type": "markdown",
      "metadata": {
        "id": "mn9l1_U0zIbc"
      },
      "source": [
        "# **POSTPROCESSING DATA INFO**"
      ]
    },
    {
      "cell_type": "code",
      "metadata": {
        "colab": {
          "base_uri": "https://localhost:8080/"
        },
        "id": "2eHJdY7AzLgn",
        "outputId": "80c44658-35c3-4270-c84b-7693183f68fa"
      },
      "source": [
        "#Genereal information after preprocessing\r\n",
        "print(df.info(),end = '\\n\\n')"
      ],
      "execution_count": 8,
      "outputs": [
        {
          "output_type": "stream",
          "text": [
            "<class 'pandas.core.frame.DataFrame'>\n",
            "Int64Index: 112091 entries, 20 to 603045\n",
            "Data columns (total 11 columns):\n",
            " #   Column            Non-Null Count   Dtype         \n",
            "---  ------            --------------   -----         \n",
            " 0   App_Name          112091 non-null  string        \n",
            " 1   Category          112091 non-null  string        \n",
            " 2   Rating            112091 non-null  float32       \n",
            " 3   Rating_Count      112091 non-null  int32         \n",
            " 4   Installs          112091 non-null  string        \n",
            " 5   Price             112091 non-null  float32       \n",
            " 6   Size              101269 non-null  string        \n",
            " 7   Released          105753 non-null  datetime64[ns]\n",
            " 8   Last_Updated      112091 non-null  datetime64[ns]\n",
            " 9   Ad_Supported      112091 non-null  bool          \n",
            " 10  In_App_Purchases  112091 non-null  bool          \n",
            "dtypes: bool(2), datetime64[ns](2), float32(2), int32(1), string(4)\n",
            "memory usage: 7.5 MB\n",
            "None\n",
            "\n"
          ],
          "name": "stdout"
        }
      ]
    },
    {
      "cell_type": "markdown",
      "metadata": {
        "id": "Bsi_FjLDJaqf"
      },
      "source": [
        "# **EXPORT TO GOOGLE DRIVE**\r\n"
      ]
    },
    {
      "cell_type": "code",
      "metadata": {
        "id": "yYaUhkTKJsZ6"
      },
      "source": [
        "#Exporting a csv into google drive\r\n",
        "df.to_csv('/content/drive/My Drive/GooglePlay-Store_Optimized.csv')"
      ],
      "execution_count": 9,
      "outputs": []
    }
  ]
}