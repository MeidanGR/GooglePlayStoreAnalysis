{
  "nbformat": 4,
  "nbformat_minor": 0,
  "metadata": {
    "colab": {
      "name": "GooglePlayStore_DataPreprocessing.ipynb",
      "provenance": [],
      "collapsed_sections": [],
      "authorship_tag": "ABX9TyOqanNPpWKxTVA+ScPUkqzq",
      "include_colab_link": true
    },
    "kernelspec": {
      "name": "python3",
      "display_name": "Python 3"
    }
  },
  "cells": [
    {
      "cell_type": "markdown",
      "metadata": {
        "id": "view-in-github",
        "colab_type": "text"
      },
      "source": [
        "<a href=\"https://colab.research.google.com/github/MeidanGR/GooglePlayStore_Preprocessing_Python/blob/main/GooglePlayStore_DataPreprocessing.ipynb\" target=\"_parent\"><img src=\"https://colab.research.google.com/assets/colab-badge.svg\" alt=\"Open In Colab\"/></a>"
      ]
    },
    {
      "cell_type": "markdown",
      "metadata": {
        "id": "-Gad_hVUwqGW"
      },
      "source": [
        "# **Google Play Store Data Preprocessing**\r\n",
        "This data preprocessing progress has been established for an academic project of a BI course. The data will be analyzed within the project.\r\n",
        "\r\n",
        "Major thanks to **Gautham Prakash** for publishing & maintenance this dataset, which you can find at https://www.kaggle.com/gauthamp10/google-playstore-apps\r\n"
      ]
    },
    {
      "cell_type": "markdown",
      "metadata": {
        "id": "XEwg6IMf-ew7"
      },
      "source": [
        "# **Google auth & libraries**"
      ]
    },
    {
      "cell_type": "code",
      "metadata": {
        "colab": {
          "base_uri": "https://localhost:8080/"
        },
        "id": "T2AXr9cs90aQ",
        "outputId": "5052589c-ee3b-4b86-ab95-228b1e394af4"
      },
      "source": [
        "from google.colab import drive\r\n",
        "drive.mount('/content/drive')"
      ],
      "execution_count": 2,
      "outputs": [
        {
          "output_type": "stream",
          "text": [
            "Drive already mounted at /content/drive; to attempt to forcibly remount, call drive.mount(\"/content/drive\", force_remount=True).\n"
          ],
          "name": "stdout"
        }
      ]
    },
    {
      "cell_type": "code",
      "metadata": {
        "id": "K6AN0alb-Ecd"
      },
      "source": [
        "import pandas as pd\r\n",
        "import numpy as np"
      ],
      "execution_count": 3,
      "outputs": []
    },
    {
      "cell_type": "markdown",
      "metadata": {
        "id": "gFk0C6C48ZGe"
      },
      "source": [
        "# **CSV LOAD**\r\n"
      ]
    },
    {
      "cell_type": "code",
      "metadata": {
        "colab": {
          "base_uri": "https://localhost:8080/",
          "height": 760
        },
        "id": "__oMmDYK_rTh",
        "outputId": "d03d5e94-4967-4001-fc4b-8565d98aa258"
      },
      "source": [
        "#Loading csv\r\n",
        "df = pd.read_csv('/content/drive/My Drive/Google-Playstore.csv')\r\n",
        "\r\n",
        "print(\"Dataframe original shape is\", np.shape(df), end='\\n\\n')\r\n",
        "print(df.info())\r\n",
        "df.sample(2)"
      ],
      "execution_count": 4,
      "outputs": [
        {
          "output_type": "stream",
          "text": [
            "Dataframe original shape is (603047, 23)\n",
            "\n",
            "<class 'pandas.core.frame.DataFrame'>\n",
            "RangeIndex: 603047 entries, 0 to 603046\n",
            "Data columns (total 23 columns):\n",
            " #   Column             Non-Null Count   Dtype  \n",
            "---  ------             --------------   -----  \n",
            " 0   App Name           603046 non-null  object \n",
            " 1   App Id             603047 non-null  object \n",
            " 2   Category           603047 non-null  object \n",
            " 3   Rating             599287 non-null  float64\n",
            " 4   Rating Count       599287 non-null  float64\n",
            " 5   Installs           602875 non-null  object \n",
            " 6   Minimum Installs   602875 non-null  float64\n",
            " 7   Maximum Installs   603047 non-null  int64  \n",
            " 8   Free               603047 non-null  bool   \n",
            " 9   Price              603047 non-null  float64\n",
            " 10  Currency           602866 non-null  object \n",
            " 11  Size               603047 non-null  object \n",
            " 12  Minimum Android    602556 non-null  object \n",
            " 13  Developer Id       603045 non-null  object \n",
            " 14  Developer Website  423783 non-null  object \n",
            " 15  Developer Email    603010 non-null  object \n",
            " 16  Released           570769 non-null  object \n",
            " 17  Last Updated       603047 non-null  object \n",
            " 18  Content Rating     603047 non-null  object \n",
            " 19  Privacy Policy     517662 non-null  object \n",
            " 20  Ad Supported       603047 non-null  bool   \n",
            " 21  In App Purchases   603047 non-null  bool   \n",
            " 22  Editors Choice     603047 non-null  bool   \n",
            "dtypes: bool(4), float64(4), int64(1), object(14)\n",
            "memory usage: 89.7+ MB\n",
            "None\n"
          ],
          "name": "stdout"
        },
        {
          "output_type": "execute_result",
          "data": {
            "text/html": [
              "<div>\n",
              "<style scoped>\n",
              "    .dataframe tbody tr th:only-of-type {\n",
              "        vertical-align: middle;\n",
              "    }\n",
              "\n",
              "    .dataframe tbody tr th {\n",
              "        vertical-align: top;\n",
              "    }\n",
              "\n",
              "    .dataframe thead th {\n",
              "        text-align: right;\n",
              "    }\n",
              "</style>\n",
              "<table border=\"1\" class=\"dataframe\">\n",
              "  <thead>\n",
              "    <tr style=\"text-align: right;\">\n",
              "      <th></th>\n",
              "      <th>App Name</th>\n",
              "      <th>App Id</th>\n",
              "      <th>Category</th>\n",
              "      <th>Rating</th>\n",
              "      <th>Rating Count</th>\n",
              "      <th>Installs</th>\n",
              "      <th>Minimum Installs</th>\n",
              "      <th>Maximum Installs</th>\n",
              "      <th>Free</th>\n",
              "      <th>Price</th>\n",
              "      <th>Currency</th>\n",
              "      <th>Size</th>\n",
              "      <th>Minimum Android</th>\n",
              "      <th>Developer Id</th>\n",
              "      <th>Developer Website</th>\n",
              "      <th>Developer Email</th>\n",
              "      <th>Released</th>\n",
              "      <th>Last Updated</th>\n",
              "      <th>Content Rating</th>\n",
              "      <th>Privacy Policy</th>\n",
              "      <th>Ad Supported</th>\n",
              "      <th>In App Purchases</th>\n",
              "      <th>Editors Choice</th>\n",
              "    </tr>\n",
              "  </thead>\n",
              "  <tbody>\n",
              "    <tr>\n",
              "      <th>245096</th>\n",
              "      <td>Hadramihouse</td>\n",
              "      <td>com.appswiz.hadramihousebcdded</td>\n",
              "      <td>Business</td>\n",
              "      <td>0.0</td>\n",
              "      <td>0.0</td>\n",
              "      <td>1+</td>\n",
              "      <td>1.0</td>\n",
              "      <td>3</td>\n",
              "      <td>True</td>\n",
              "      <td>0.0</td>\n",
              "      <td>USD</td>\n",
              "      <td>6.1M</td>\n",
              "      <td>4.4 and up</td>\n",
              "      <td>Appswiz W.I</td>\n",
              "      <td>https://www.hadramihouse.com/</td>\n",
              "      <td>appswiz.w.i@gmail.com</td>\n",
              "      <td>Jan 21, 2019</td>\n",
              "      <td>22/01/2019 4:21</td>\n",
              "      <td>Everyone</td>\n",
              "      <td>https://www.hadramihouse.com/</td>\n",
              "      <td>False</td>\n",
              "      <td>False</td>\n",
              "      <td>False</td>\n",
              "    </tr>\n",
              "    <tr>\n",
              "      <th>421177</th>\n",
              "      <td>PetWorld - Fantasy Animals</td>\n",
              "      <td>com.tivola.fantasy.free</td>\n",
              "      <td>Simulation</td>\n",
              "      <td>3.8</td>\n",
              "      <td>14332.0</td>\n",
              "      <td>1,000,000+</td>\n",
              "      <td>1000000.0</td>\n",
              "      <td>1301109</td>\n",
              "      <td>True</td>\n",
              "      <td>0.0</td>\n",
              "      <td>USD</td>\n",
              "      <td>16M</td>\n",
              "      <td>2.3 and up</td>\n",
              "      <td>Tivola</td>\n",
              "      <td>http://www.tivola.com</td>\n",
              "      <td>apps@tivola.de</td>\n",
              "      <td>Sep 16, 2015</td>\n",
              "      <td>16/09/2015 21:33</td>\n",
              "      <td>Everyone</td>\n",
              "      <td>https://www.tivola.de/datenschutz_vorlage/date...</td>\n",
              "      <td>True</td>\n",
              "      <td>True</td>\n",
              "      <td>False</td>\n",
              "    </tr>\n",
              "  </tbody>\n",
              "</table>\n",
              "</div>"
            ],
            "text/plain": [
              "                          App Name  ... Editors Choice\n",
              "245096                Hadramihouse  ...          False\n",
              "421177  PetWorld - Fantasy Animals  ...          False\n",
              "\n",
              "[2 rows x 23 columns]"
            ]
          },
          "metadata": {
            "tags": []
          },
          "execution_count": 4
        }
      ]
    },
    {
      "cell_type": "markdown",
      "metadata": {
        "id": "k4jCiMRNCqTV"
      },
      "source": [
        "# **DATA FILTERING**\r\n",
        "## Agenda: \r\n",
        "Data reduction down to ~100K rows, for a decent dataframe volume, shape, & a faster run in Google Data Studio.\r\n",
        "\r\n",
        "## Guidelines:\r\n",
        "- **Minimum Android** is the minimum android version which allowes operation for the app. The mose popular values were found: 4.1\\4.0.3\\6.0 and up & Varies with device.\r\n",
        "- **Size** must exceed 1MB.\r\n",
        "- **Currency** will be USD only.\r\n",
        "- **Last updated** during 2020.\r\n"
      ]
    },
    {
      "cell_type": "code",
      "metadata": {
        "colab": {
          "base_uri": "https://localhost:8080/",
          "height": 376
        },
        "id": "9oZc6jq8-gDP",
        "outputId": "adc4cfd4-bce8-4946-ca0c-3cd547d0e790"
      },
      "source": [
        "#Coloumn labels space fix\r\n",
        "df.columns = [x.replace(\" \", \"_\") for x in df.columns]\r\n",
        "\r\n",
        "#Rows SELECT\r\n",
        "df = df.query('(Minimum_Android == \"4.1 and up\" | Minimum_Android == \"4.0.3 and up\" | Minimum_Android == \"Varies with device\" | \\\r\n",
        "Minimum_Android == \"6.0 and up\") & not Size.str.endswith(\"k\") & Currency == \"USD\" & Last_Updated.str.contains(\"2020\")',engine='python')\r\n",
        "\r\n",
        "#Coloumns FILTER\r\n",
        "df = df.filter(items=['App_Name', 'Category', 'Rating', 'Rating_Count', 'Installs', 'Price', 'Size','Released','Last_Updated','Ad_Supported', 'In_App_Purchases'])\r\n",
        "\r\n",
        "#Saving a copy of dataframe\r\n",
        "dfcopy = df.copy(deep=True)\r\n",
        "\r\n",
        "print(\"Dataframe reduced shape is\", np.shape(df))\r\n",
        "df.sample(10)"
      ],
      "execution_count": 5,
      "outputs": [
        {
          "output_type": "stream",
          "text": [
            "Dataframe reduced shape is (112092, 11)\n"
          ],
          "name": "stdout"
        },
        {
          "output_type": "execute_result",
          "data": {
            "text/html": [
              "<div>\n",
              "<style scoped>\n",
              "    .dataframe tbody tr th:only-of-type {\n",
              "        vertical-align: middle;\n",
              "    }\n",
              "\n",
              "    .dataframe tbody tr th {\n",
              "        vertical-align: top;\n",
              "    }\n",
              "\n",
              "    .dataframe thead th {\n",
              "        text-align: right;\n",
              "    }\n",
              "</style>\n",
              "<table border=\"1\" class=\"dataframe\">\n",
              "  <thead>\n",
              "    <tr style=\"text-align: right;\">\n",
              "      <th></th>\n",
              "      <th>App_Name</th>\n",
              "      <th>Category</th>\n",
              "      <th>Rating</th>\n",
              "      <th>Rating_Count</th>\n",
              "      <th>Installs</th>\n",
              "      <th>Price</th>\n",
              "      <th>Size</th>\n",
              "      <th>Released</th>\n",
              "      <th>Last_Updated</th>\n",
              "      <th>Ad_Supported</th>\n",
              "      <th>In_App_Purchases</th>\n",
              "    </tr>\n",
              "  </thead>\n",
              "  <tbody>\n",
              "    <tr>\n",
              "      <th>243408</th>\n",
              "      <td>GUNDAM BATTLE: GUNPLA WARFARE</td>\n",
              "      <td>Action</td>\n",
              "      <td>3.7</td>\n",
              "      <td>33210.0</td>\n",
              "      <td>500,000+</td>\n",
              "      <td>0.0</td>\n",
              "      <td>60M</td>\n",
              "      <td>Jul 30, 2019</td>\n",
              "      <td>21/07/2020 7:44</td>\n",
              "      <td>False</td>\n",
              "      <td>True</td>\n",
              "    </tr>\n",
              "    <tr>\n",
              "      <th>107604</th>\n",
              "      <td>Cassell</td>\n",
              "      <td>Food &amp; Drink</td>\n",
              "      <td>0.0</td>\n",
              "      <td>0.0</td>\n",
              "      <td>10+</td>\n",
              "      <td>0.0</td>\n",
              "      <td>17M</td>\n",
              "      <td>May 14, 2020</td>\n",
              "      <td>09/07/2020 21:27</td>\n",
              "      <td>False</td>\n",
              "      <td>False</td>\n",
              "    </tr>\n",
              "    <tr>\n",
              "      <th>438894</th>\n",
              "      <td>Protect Yourself - File, Message &amp; Voice Encry...</td>\n",
              "      <td>Tools</td>\n",
              "      <td>NaN</td>\n",
              "      <td>NaN</td>\n",
              "      <td>500+</td>\n",
              "      <td>0.0</td>\n",
              "      <td>Varies with device</td>\n",
              "      <td>NaN</td>\n",
              "      <td>01/05/2020 6:25</td>\n",
              "      <td>True</td>\n",
              "      <td>False</td>\n",
              "    </tr>\n",
              "    <tr>\n",
              "      <th>380442</th>\n",
              "      <td>New Year Photo Editor 2021</td>\n",
              "      <td>Photography</td>\n",
              "      <td>0.0</td>\n",
              "      <td>0.0</td>\n",
              "      <td>100+</td>\n",
              "      <td>0.0</td>\n",
              "      <td>43M</td>\n",
              "      <td>Nov 12, 2019</td>\n",
              "      <td>15/07/2020 5:42</td>\n",
              "      <td>True</td>\n",
              "      <td>False</td>\n",
              "    </tr>\n",
              "    <tr>\n",
              "      <th>116993</th>\n",
              "      <td>Christmas Sweeper 3</td>\n",
              "      <td>Puzzle</td>\n",
              "      <td>4.5</td>\n",
              "      <td>39698.0</td>\n",
              "      <td>1,000,000+</td>\n",
              "      <td>0.0</td>\n",
              "      <td>Varies with device</td>\n",
              "      <td>Dec 11, 2015</td>\n",
              "      <td>25/06/2020 21:17</td>\n",
              "      <td>True</td>\n",
              "      <td>True</td>\n",
              "    </tr>\n",
              "    <tr>\n",
              "      <th>6750</th>\n",
              "      <td>3 000 кроссвордов</td>\n",
              "      <td>Word</td>\n",
              "      <td>4.6</td>\n",
              "      <td>16329.0</td>\n",
              "      <td>100,000+</td>\n",
              "      <td>0.0</td>\n",
              "      <td>1.6M</td>\n",
              "      <td>Sep 2, 2015</td>\n",
              "      <td>17/04/2020 5:47</td>\n",
              "      <td>True</td>\n",
              "      <td>True</td>\n",
              "    </tr>\n",
              "    <tr>\n",
              "      <th>355092</th>\n",
              "      <td>Misión Tiburón</td>\n",
              "      <td>Education</td>\n",
              "      <td>4.9</td>\n",
              "      <td>36.0</td>\n",
              "      <td>1,000+</td>\n",
              "      <td>0.0</td>\n",
              "      <td>4.6M</td>\n",
              "      <td>Jun 7, 2016</td>\n",
              "      <td>16/05/2020 19:23</td>\n",
              "      <td>False</td>\n",
              "      <td>False</td>\n",
              "    </tr>\n",
              "    <tr>\n",
              "      <th>526993</th>\n",
              "      <td>Talking Wolf</td>\n",
              "      <td>Entertainment</td>\n",
              "      <td>4.1</td>\n",
              "      <td>3484.0</td>\n",
              "      <td>500,000+</td>\n",
              "      <td>0.0</td>\n",
              "      <td>77M</td>\n",
              "      <td>Oct 19, 2018</td>\n",
              "      <td>01/06/2020 16:37</td>\n",
              "      <td>True</td>\n",
              "      <td>False</td>\n",
              "    </tr>\n",
              "    <tr>\n",
              "      <th>186980</th>\n",
              "      <td>Electric Screen for Prank Live Wallpaper &amp;Laun...</td>\n",
              "      <td>Personalization</td>\n",
              "      <td>3.4</td>\n",
              "      <td>47739.0</td>\n",
              "      <td>10,000,000+</td>\n",
              "      <td>0.0</td>\n",
              "      <td>23M</td>\n",
              "      <td>Sep 19, 2017</td>\n",
              "      <td>10/06/2020 7:57</td>\n",
              "      <td>True</td>\n",
              "      <td>False</td>\n",
              "    </tr>\n",
              "    <tr>\n",
              "      <th>438783</th>\n",
              "      <td>ProRamadan</td>\n",
              "      <td>Books &amp; Reference</td>\n",
              "      <td>5.0</td>\n",
              "      <td>275.0</td>\n",
              "      <td>10,000+</td>\n",
              "      <td>0.0</td>\n",
              "      <td>52M</td>\n",
              "      <td>Apr 29, 2018</td>\n",
              "      <td>14/04/2020 19:35</td>\n",
              "      <td>False</td>\n",
              "      <td>False</td>\n",
              "    </tr>\n",
              "  </tbody>\n",
              "</table>\n",
              "</div>"
            ],
            "text/plain": [
              "                                                 App_Name  ... In_App_Purchases\n",
              "243408                      GUNDAM BATTLE: GUNPLA WARFARE  ...             True\n",
              "107604                                            Cassell  ...            False\n",
              "438894  Protect Yourself - File, Message & Voice Encry...  ...            False\n",
              "380442                         New Year Photo Editor 2021  ...            False\n",
              "116993                                Christmas Sweeper 3  ...             True\n",
              "6750                                    3 000 кроссвордов  ...             True\n",
              "355092                                     Misión Tiburón  ...            False\n",
              "526993                                       Talking Wolf  ...            False\n",
              "186980  Electric Screen for Prank Live Wallpaper &Laun...  ...            False\n",
              "438783                                         ProRamadan  ...            False\n",
              "\n",
              "[10 rows x 11 columns]"
            ]
          },
          "metadata": {
            "tags": []
          },
          "execution_count": 5
        }
      ]
    },
    {
      "cell_type": "markdown",
      "metadata": {
        "id": "4KbzaVM8FcLk"
      },
      "source": [
        "# **CHECKPOINT DATA INFO**"
      ]
    },
    {
      "cell_type": "code",
      "metadata": {
        "colab": {
          "base_uri": "https://localhost:8080/"
        },
        "id": "CZi23I8UxwDS",
        "outputId": "b2a4ebab-2ad4-47ec-e454-526eb8f623ec"
      },
      "source": [
        "print(\"Dataframe NULL count:\")\r\n",
        "print(df.isnull().sum(axis = 0), end=\"\\n\\n\")\r\n",
        "\r\n",
        "df.info()"
      ],
      "execution_count": 6,
      "outputs": [
        {
          "output_type": "stream",
          "text": [
            "Dataframe NULL count:\n",
            "App_Name               1\n",
            "Category               0\n",
            "Rating              1880\n",
            "Rating_Count        1880\n",
            "Installs               0\n",
            "Price                  0\n",
            "Size                   0\n",
            "Released            6338\n",
            "Last_Updated           0\n",
            "Ad_Supported           0\n",
            "In_App_Purchases       0\n",
            "dtype: int64\n",
            "\n",
            "<class 'pandas.core.frame.DataFrame'>\n",
            "Int64Index: 112092 entries, 20 to 603046\n",
            "Data columns (total 11 columns):\n",
            " #   Column            Non-Null Count   Dtype  \n",
            "---  ------            --------------   -----  \n",
            " 0   App_Name          112091 non-null  object \n",
            " 1   Category          112092 non-null  object \n",
            " 2   Rating            110212 non-null  float64\n",
            " 3   Rating_Count      110212 non-null  float64\n",
            " 4   Installs          112092 non-null  object \n",
            " 5   Price             112092 non-null  float64\n",
            " 6   Size              112092 non-null  object \n",
            " 7   Released          105754 non-null  object \n",
            " 8   Last_Updated      112092 non-null  object \n",
            " 9   Ad_Supported      112092 non-null  bool   \n",
            " 10  In_App_Purchases  112092 non-null  bool   \n",
            "dtypes: bool(2), float64(3), object(6)\n",
            "memory usage: 8.8+ MB\n"
          ],
          "name": "stdout"
        }
      ]
    },
    {
      "cell_type": "markdown",
      "metadata": {
        "id": "bjUUEiC6qUR1"
      },
      "source": [
        "# **DATA CLEAN & CORRECTION**\r\n",
        "- A null value that was found in **App_Name** are not acceptable for furthor analysis, also 4 apps named: \"#NAME?\" should be cleaned.\r\n",
        "- The null values in **Rating, Rating_Count** will be replaced with mean values."
      ]
    },
    {
      "cell_type": "code",
      "metadata": {
        "id": "tfA_6YJxtrJm"
      },
      "source": [
        "#NULL Extraction\r\n",
        "df = df.query('not App_Name.isnull() & not App_Name==\"#NAME?\"',engine='python')\r\n",
        "\r\n",
        "# Function replaces np.nan values in all of the data frame with relevant statistics \\ dal7collab\r\n",
        "def rep_missings(data_frame):\r\n",
        "    d = data_frame.copy(deep = True)\r\n",
        "    for c in data_frame:\r\n",
        "        if (data_frame[c].dtype == 'float64'):\r\n",
        "            if data_frame[c].isnull().values.any() :\r\n",
        "                m = data_frame[c].dropna().mean()\r\n",
        "                d[c].fillna(m, inplace = True)\r\n",
        "    return d;\r\n",
        "\r\n",
        "# Activating the function\r\n",
        "df = rep_missings(df)"
      ],
      "execution_count": 7,
      "outputs": []
    },
    {
      "cell_type": "code",
      "metadata": {
        "colab": {
          "base_uri": "https://localhost:8080/",
          "height": 410
        },
        "id": "HEmyDEgPqjIh",
        "outputId": "9dccabaf-b905-4c98-81a1-fc3a1338b1ce"
      },
      "source": [
        "#'Size' coloumn excluding \"Varies with device\"\r\n",
        "df['Size'] = df['Size'].replace(to_replace=\"Varies with device\", \r\n",
        "                                   value = np.nan)\r\n",
        "\r\n",
        "#Coloumn types correction\r\n",
        "df['App_Name'] = df['App_Name'].astype({'App_Name': 'string'})\r\n",
        "df['Category'] = df['Category'].astype({'Category': 'string'})\r\n",
        "df['Rating'] = df['Rating'].astype({'Rating': 'float32'})\r\n",
        "df['Rating_Count'] = df['Rating_Count'].astype({'Rating_Count': 'int32'})\r\n",
        "df['Installs'] = df['Installs'].astype({'Installs': 'string'})\r\n",
        "df['Price'] = df['Price'].astype({'Price': 'float32'})\r\n",
        "df['Released']= pd.to_datetime(df['Released']) \r\n",
        "df['Last_Updated']= pd.to_datetime(df['Last_Updated']) \r\n",
        "df['Size'] = df['Size'].astype({'Size': 'string'})\r\n",
        "\r\n",
        "\r\n",
        "print(\"Dataframe final shape is\", np.shape(df))\r\n",
        "df.sample(10)"
      ],
      "execution_count": 45,
      "outputs": [
        {
          "output_type": "stream",
          "text": [
            "Dataframe final shape is (112087, 11)\n"
          ],
          "name": "stdout"
        },
        {
          "output_type": "stream",
          "text": [
            "/usr/local/lib/python3.6/dist-packages/pandas/core/missing.py:49: FutureWarning: elementwise comparison failed; returning scalar instead, but in the future will perform elementwise comparison\n",
            "  mask = arr == x\n"
          ],
          "name": "stderr"
        },
        {
          "output_type": "execute_result",
          "data": {
            "text/html": [
              "<div>\n",
              "<style scoped>\n",
              "    .dataframe tbody tr th:only-of-type {\n",
              "        vertical-align: middle;\n",
              "    }\n",
              "\n",
              "    .dataframe tbody tr th {\n",
              "        vertical-align: top;\n",
              "    }\n",
              "\n",
              "    .dataframe thead th {\n",
              "        text-align: right;\n",
              "    }\n",
              "</style>\n",
              "<table border=\"1\" class=\"dataframe\">\n",
              "  <thead>\n",
              "    <tr style=\"text-align: right;\">\n",
              "      <th></th>\n",
              "      <th>App_Name</th>\n",
              "      <th>Category</th>\n",
              "      <th>Rating</th>\n",
              "      <th>Rating_Count</th>\n",
              "      <th>Installs</th>\n",
              "      <th>Price</th>\n",
              "      <th>Size</th>\n",
              "      <th>Released</th>\n",
              "      <th>Last_Updated</th>\n",
              "      <th>Ad_Supported</th>\n",
              "      <th>In_App_Purchases</th>\n",
              "    </tr>\n",
              "  </thead>\n",
              "  <tbody>\n",
              "    <tr>\n",
              "      <th>484423</th>\n",
              "      <td>Sehat Bugar</td>\n",
              "      <td>Health &amp; Fitness</td>\n",
              "      <td>0.0</td>\n",
              "      <td>0</td>\n",
              "      <td>5+</td>\n",
              "      <td>0.0</td>\n",
              "      <td>61M</td>\n",
              "      <td>2020-04-20</td>\n",
              "      <td>2020-05-28 23:54:00</td>\n",
              "      <td>True</td>\n",
              "      <td>False</td>\n",
              "    </tr>\n",
              "    <tr>\n",
              "      <th>216310</th>\n",
              "      <td>Football Wallpapers - ⚽ Fantasy Football Soccer</td>\n",
              "      <td>Personalization</td>\n",
              "      <td>4.0</td>\n",
              "      <td>10</td>\n",
              "      <td>1,000+</td>\n",
              "      <td>0.0</td>\n",
              "      <td>28M</td>\n",
              "      <td>2020-01-13</td>\n",
              "      <td>2020-01-13 15:17:00</td>\n",
              "      <td>True</td>\n",
              "      <td>False</td>\n",
              "    </tr>\n",
              "    <tr>\n",
              "      <th>42681</th>\n",
              "      <td>Alien Tech Cube 3D</td>\n",
              "      <td>Personalization</td>\n",
              "      <td>3.0</td>\n",
              "      <td>1160</td>\n",
              "      <td>100,000+</td>\n",
              "      <td>0.0</td>\n",
              "      <td>11M</td>\n",
              "      <td>2017-03-28</td>\n",
              "      <td>2020-02-19 15:33:00</td>\n",
              "      <td>True</td>\n",
              "      <td>False</td>\n",
              "    </tr>\n",
              "    <tr>\n",
              "      <th>216830</th>\n",
              "      <td>Forex trading for beginners Guide</td>\n",
              "      <td>Books &amp; Reference</td>\n",
              "      <td>0.0</td>\n",
              "      <td>0</td>\n",
              "      <td>1+</td>\n",
              "      <td>0.0</td>\n",
              "      <td>28M</td>\n",
              "      <td>2020-07-19</td>\n",
              "      <td>2020-07-18 21:45:00</td>\n",
              "      <td>True</td>\n",
              "      <td>False</td>\n",
              "    </tr>\n",
              "    <tr>\n",
              "      <th>256578</th>\n",
              "      <td>History GK In Hindi (Theory + Quiz + Oneliner)</td>\n",
              "      <td>Education</td>\n",
              "      <td>4.0</td>\n",
              "      <td>957</td>\n",
              "      <td>50,000+</td>\n",
              "      <td>0.0</td>\n",
              "      <td>3.5M</td>\n",
              "      <td>2018-03-08</td>\n",
              "      <td>2020-02-06 11:35:00</td>\n",
              "      <td>True</td>\n",
              "      <td>False</td>\n",
              "    </tr>\n",
              "    <tr>\n",
              "      <th>335238</th>\n",
              "      <td>Magic: Puzzle Quest</td>\n",
              "      <td>Role Playing</td>\n",
              "      <td>4.0</td>\n",
              "      <td>97847</td>\n",
              "      <td>1,000,000+</td>\n",
              "      <td>0.0</td>\n",
              "      <td>4.2M</td>\n",
              "      <td>2015-12-09</td>\n",
              "      <td>2020-03-06 19:01:00</td>\n",
              "      <td>False</td>\n",
              "      <td>True</td>\n",
              "    </tr>\n",
              "    <tr>\n",
              "      <th>335829</th>\n",
              "      <td>Mahakali Aarti</td>\n",
              "      <td>Music &amp; Audio</td>\n",
              "      <td>0.0</td>\n",
              "      <td>0</td>\n",
              "      <td>500+</td>\n",
              "      <td>0.0</td>\n",
              "      <td>4.3M</td>\n",
              "      <td>2018-12-20</td>\n",
              "      <td>2020-08-07 10:38:00</td>\n",
              "      <td>True</td>\n",
              "      <td>False</td>\n",
              "    </tr>\n",
              "    <tr>\n",
              "      <th>414154</th>\n",
              "      <td>Panduan Shalat AR: Belajar Wudhu dan Shalat</td>\n",
              "      <td>Education</td>\n",
              "      <td>0.0</td>\n",
              "      <td>0</td>\n",
              "      <td>100+</td>\n",
              "      <td>0.0</td>\n",
              "      <td>5.4M</td>\n",
              "      <td>2020-03-02</td>\n",
              "      <td>2020-06-24 10:08:00</td>\n",
              "      <td>False</td>\n",
              "      <td>False</td>\n",
              "    </tr>\n",
              "    <tr>\n",
              "      <th>15614</th>\n",
              "      <td>আল্লাহর ৯৯ নাম অর্থ ফজিলত - Audio</td>\n",
              "      <td>Education</td>\n",
              "      <td>4.0</td>\n",
              "      <td>1114</td>\n",
              "      <td>100,000+</td>\n",
              "      <td>0.0</td>\n",
              "      <td>103M</td>\n",
              "      <td>2018-04-16</td>\n",
              "      <td>2020-01-07 16:01:00</td>\n",
              "      <td>True</td>\n",
              "      <td>False</td>\n",
              "    </tr>\n",
              "    <tr>\n",
              "      <th>22029</th>\n",
              "      <td>विलोम शब्द (Antonyms in Hindi)</td>\n",
              "      <td>Education</td>\n",
              "      <td>2.0</td>\n",
              "      <td>153</td>\n",
              "      <td>10,000+</td>\n",
              "      <td>0.0</td>\n",
              "      <td>10M</td>\n",
              "      <td>2018-10-27</td>\n",
              "      <td>2020-06-23 00:19:00</td>\n",
              "      <td>True</td>\n",
              "      <td>False</td>\n",
              "    </tr>\n",
              "  </tbody>\n",
              "</table>\n",
              "</div>"
            ],
            "text/plain": [
              "                                               App_Name  ... In_App_Purchases\n",
              "484423                                      Sehat Bugar  ...            False\n",
              "216310  Football Wallpapers - ⚽ Fantasy Football Soccer  ...            False\n",
              "42681                                Alien Tech Cube 3D  ...            False\n",
              "216830                Forex trading for beginners Guide  ...            False\n",
              "256578   History GK In Hindi (Theory + Quiz + Oneliner)  ...            False\n",
              "335238                              Magic: Puzzle Quest  ...             True\n",
              "335829                                   Mahakali Aarti  ...            False\n",
              "414154      Panduan Shalat AR: Belajar Wudhu dan Shalat  ...            False\n",
              "15614                 আল্লাহর ৯৯ নাম অর্থ ফজিলত - Audio  ...            False\n",
              "22029                    विलोम शब्द (Antonyms in Hindi)  ...            False\n",
              "\n",
              "[10 rows x 11 columns]"
            ]
          },
          "metadata": {
            "tags": []
          },
          "execution_count": 45
        }
      ]
    },
    {
      "cell_type": "markdown",
      "metadata": {
        "id": "mn9l1_U0zIbc"
      },
      "source": [
        "# **POSTPROCESSING DATA INFO**"
      ]
    },
    {
      "cell_type": "code",
      "metadata": {
        "colab": {
          "base_uri": "https://localhost:8080/"
        },
        "id": "2eHJdY7AzLgn",
        "outputId": "d9665b0b-1b5e-42fa-87c5-d81792eb9197"
      },
      "source": [
        "#Genereal information after preprocessing\r\n",
        "print(df.info(),end = '\\n\\n')"
      ],
      "execution_count": 46,
      "outputs": [
        {
          "output_type": "stream",
          "text": [
            "<class 'pandas.core.frame.DataFrame'>\n",
            "Int64Index: 112087 entries, 20 to 602972\n",
            "Data columns (total 11 columns):\n",
            " #   Column            Non-Null Count   Dtype         \n",
            "---  ------            --------------   -----         \n",
            " 0   App_Name          112087 non-null  string        \n",
            " 1   Category          112087 non-null  string        \n",
            " 2   Rating            112087 non-null  float32       \n",
            " 3   Rating_Count      112087 non-null  int32         \n",
            " 4   Installs          112087 non-null  string        \n",
            " 5   Price             112087 non-null  float32       \n",
            " 6   Size              101269 non-null  string        \n",
            " 7   Released          105749 non-null  datetime64[ns]\n",
            " 8   Last_Updated      112087 non-null  datetime64[ns]\n",
            " 9   Ad_Supported      112087 non-null  bool          \n",
            " 10  In_App_Purchases  112087 non-null  bool          \n",
            "dtypes: bool(2), datetime64[ns](2), float32(2), int32(1), string(4)\n",
            "memory usage: 7.5 MB\n",
            "None\n",
            "\n"
          ],
          "name": "stdout"
        }
      ]
    },
    {
      "cell_type": "markdown",
      "metadata": {
        "id": "Bsi_FjLDJaqf"
      },
      "source": [
        "# **EXPORT TO GOOGLE DRIVE**\r\n"
      ]
    },
    {
      "cell_type": "code",
      "metadata": {
        "id": "yYaUhkTKJsZ6"
      },
      "source": [
        "#Exporting a csv into google drive\r\n",
        "df.to_csv('/content/drive/My Drive/GooglePlay-Store_Optimized.csv')"
      ],
      "execution_count": 10,
      "outputs": []
    },
    {
      "cell_type": "markdown",
      "metadata": {
        "id": "plqueKPT0yyk"
      },
      "source": [
        "# **STATISTICS**"
      ]
    },
    {
      "cell_type": "code",
      "metadata": {
        "colab": {
          "base_uri": "https://localhost:8080/"
        },
        "id": "Yts92tunyYGV",
        "outputId": "f346abdf-da81-4e56-ed67-aa74935ed4a7"
      },
      "source": [
        "#Retrieve coloumn general info \r\n",
        "name = 'In_App_Purchases'\r\n",
        "print(df[name].describe(include=[object]))\r\n",
        "print(\"Coloumn's real dtype is:\", df[name].dtypes)"
      ],
      "execution_count": 51,
      "outputs": [
        {
          "output_type": "stream",
          "text": [
            "count     112087\n",
            "unique         2\n",
            "top        False\n",
            "freq       90677\n",
            "Name: In_App_Purchases, dtype: object\n",
            "Coloumn's real dtype is: bool\n"
          ],
          "name": "stdout"
        }
      ]
    }
  ]
}