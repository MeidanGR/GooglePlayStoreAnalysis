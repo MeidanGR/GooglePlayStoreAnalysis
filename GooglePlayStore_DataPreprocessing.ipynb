{
  "nbformat": 4,
  "nbformat_minor": 0,
  "metadata": {
    "colab": {
      "name": "GooglePlayStore_DataPreprocessing.ipynb",
      "provenance": [],
      "collapsed_sections": [],
      "authorship_tag": "ABX9TyNE2FZ3VwrhMrxZte0QtqjH",
      "include_colab_link": true
    },
    "kernelspec": {
      "name": "python3",
      "display_name": "Python 3"
    }
  },
  "cells": [
    {
      "cell_type": "markdown",
      "metadata": {
        "id": "view-in-github",
        "colab_type": "text"
      },
      "source": [
        "<a href=\"https://colab.research.google.com/github/MeidanGR/GooglePlayStore_Preprocessing_Python/blob/main/GooglePlayStore_DataPreprocessing.ipynb\" target=\"_parent\"><img src=\"https://colab.research.google.com/assets/colab-badge.svg\" alt=\"Open In Colab\"/></a>"
      ]
    },
    {
      "cell_type": "markdown",
      "metadata": {
        "id": "-Gad_hVUwqGW"
      },
      "source": [
        "# **Google Play Store Data Preprocessing**\r\n",
        "This data preprocessing progress has been established for an academic project of a BI course. The data will be analyzed within the project.\r\n",
        "\r\n",
        "Major thanks to **Gautham Prakash** for publishing & maintenance this dataset, which you can find at https://www.kaggle.com/gauthamp10/google-playstore-apps\r\n"
      ]
    },
    {
      "cell_type": "markdown",
      "metadata": {
        "id": "XEwg6IMf-ew7"
      },
      "source": [
        "# **Google auth & libraries**"
      ]
    },
    {
      "cell_type": "code",
      "metadata": {
        "colab": {
          "base_uri": "https://localhost:8080/"
        },
        "id": "T2AXr9cs90aQ",
        "outputId": "1d2e27dd-cfca-4f31-f7a3-3c547b08ddda"
      },
      "source": [
        "from google.colab import drive\r\n",
        "drive.mount('/content/drive')"
      ],
      "execution_count": 1,
      "outputs": [
        {
          "output_type": "stream",
          "text": [
            "Mounted at /content/drive\n"
          ],
          "name": "stdout"
        }
      ]
    },
    {
      "cell_type": "code",
      "metadata": {
        "id": "K6AN0alb-Ecd"
      },
      "source": [
        "import pandas as pd\r\n",
        "import numpy as np"
      ],
      "execution_count": 2,
      "outputs": []
    },
    {
      "cell_type": "markdown",
      "metadata": {
        "id": "gFk0C6C48ZGe"
      },
      "source": [
        "# **CSV LOAD**\r\n"
      ]
    },
    {
      "cell_type": "code",
      "metadata": {
        "colab": {
          "base_uri": "https://localhost:8080/",
          "height": 743
        },
        "id": "__oMmDYK_rTh",
        "outputId": "e7394b07-29c2-4366-db10-8ae82156020e"
      },
      "source": [
        "#Loading csv\r\n",
        "df = pd.read_csv('/content/drive/My Drive/Google-Playstore.csv')\r\n",
        "\r\n",
        "print(\"Dataframe original shape is\", np.shape(df), end='\\n\\n')\r\n",
        "print(df.info())\r\n",
        "df.sample(2)"
      ],
      "execution_count": 43,
      "outputs": [
        {
          "output_type": "stream",
          "text": [
            "Dataframe original shape is (603047, 23)\n",
            "\n",
            "<class 'pandas.core.frame.DataFrame'>\n",
            "RangeIndex: 603047 entries, 0 to 603046\n",
            "Data columns (total 23 columns):\n",
            " #   Column             Non-Null Count   Dtype  \n",
            "---  ------             --------------   -----  \n",
            " 0   App Name           603046 non-null  object \n",
            " 1   App Id             603047 non-null  object \n",
            " 2   Category           603047 non-null  object \n",
            " 3   Rating             599287 non-null  float64\n",
            " 4   Rating Count       599287 non-null  float64\n",
            " 5   Installs           602875 non-null  object \n",
            " 6   Minimum Installs   602875 non-null  float64\n",
            " 7   Maximum Installs   603047 non-null  int64  \n",
            " 8   Free               603047 non-null  bool   \n",
            " 9   Price              603047 non-null  float64\n",
            " 10  Currency           602866 non-null  object \n",
            " 11  Size               603047 non-null  object \n",
            " 12  Minimum Android    602556 non-null  object \n",
            " 13  Developer Id       603045 non-null  object \n",
            " 14  Developer Website  423783 non-null  object \n",
            " 15  Developer Email    603010 non-null  object \n",
            " 16  Released           570769 non-null  object \n",
            " 17  Last Updated       603047 non-null  object \n",
            " 18  Content Rating     603047 non-null  object \n",
            " 19  Privacy Policy     517662 non-null  object \n",
            " 20  Ad Supported       603047 non-null  bool   \n",
            " 21  In App Purchases   603047 non-null  bool   \n",
            " 22  Editors Choice     603047 non-null  bool   \n",
            "dtypes: bool(4), float64(4), int64(1), object(14)\n",
            "memory usage: 89.7+ MB\n",
            "None\n"
          ],
          "name": "stdout"
        },
        {
          "output_type": "execute_result",
          "data": {
            "text/html": [
              "<div>\n",
              "<style scoped>\n",
              "    .dataframe tbody tr th:only-of-type {\n",
              "        vertical-align: middle;\n",
              "    }\n",
              "\n",
              "    .dataframe tbody tr th {\n",
              "        vertical-align: top;\n",
              "    }\n",
              "\n",
              "    .dataframe thead th {\n",
              "        text-align: right;\n",
              "    }\n",
              "</style>\n",
              "<table border=\"1\" class=\"dataframe\">\n",
              "  <thead>\n",
              "    <tr style=\"text-align: right;\">\n",
              "      <th></th>\n",
              "      <th>App Name</th>\n",
              "      <th>App Id</th>\n",
              "      <th>Category</th>\n",
              "      <th>Rating</th>\n",
              "      <th>Rating Count</th>\n",
              "      <th>Installs</th>\n",
              "      <th>Minimum Installs</th>\n",
              "      <th>Maximum Installs</th>\n",
              "      <th>Free</th>\n",
              "      <th>Price</th>\n",
              "      <th>Currency</th>\n",
              "      <th>Size</th>\n",
              "      <th>Minimum Android</th>\n",
              "      <th>Developer Id</th>\n",
              "      <th>Developer Website</th>\n",
              "      <th>Developer Email</th>\n",
              "      <th>Released</th>\n",
              "      <th>Last Updated</th>\n",
              "      <th>Content Rating</th>\n",
              "      <th>Privacy Policy</th>\n",
              "      <th>Ad Supported</th>\n",
              "      <th>In App Purchases</th>\n",
              "      <th>Editors Choice</th>\n",
              "    </tr>\n",
              "  </thead>\n",
              "  <tbody>\n",
              "    <tr>\n",
              "      <th>2811</th>\n",
              "      <td>100 великих авантюристов,обман</td>\n",
              "      <td>com.biika.velikihAvantyristov</td>\n",
              "      <td>Books &amp; Reference</td>\n",
              "      <td>4.6</td>\n",
              "      <td>178.0</td>\n",
              "      <td>10,000+</td>\n",
              "      <td>10000.0</td>\n",
              "      <td>39972</td>\n",
              "      <td>True</td>\n",
              "      <td>0.0</td>\n",
              "      <td>USD</td>\n",
              "      <td>9.9M</td>\n",
              "      <td>2.3 and up</td>\n",
              "      <td>biika.studio</td>\n",
              "      <td>https://d631eeb21.app-ads-txt.com</td>\n",
              "      <td>biika.studio@gmail.com</td>\n",
              "      <td>Mar 19, 2015</td>\n",
              "      <td>27/02/2020 15:21</td>\n",
              "      <td>Everyone</td>\n",
              "      <td>https://docs.google.com/document/d/1bQkG6-p7X8...</td>\n",
              "      <td>True</td>\n",
              "      <td>False</td>\n",
              "      <td>False</td>\n",
              "    </tr>\n",
              "    <tr>\n",
              "      <th>196738</th>\n",
              "      <td>Estonian MessagEase Wordlist</td>\n",
              "      <td>com.exideas.cp.words.estonian</td>\n",
              "      <td>Tools</td>\n",
              "      <td>0.0</td>\n",
              "      <td>0.0</td>\n",
              "      <td>100+</td>\n",
              "      <td>100.0</td>\n",
              "      <td>223</td>\n",
              "      <td>True</td>\n",
              "      <td>0.0</td>\n",
              "      <td>USD</td>\n",
              "      <td>2.7M</td>\n",
              "      <td>2.1 and up</td>\n",
              "      <td>Exideas</td>\n",
              "      <td>http://www.exideas.com</td>\n",
              "      <td>support@exideas.com</td>\n",
              "      <td>Mar 10, 2013</td>\n",
              "      <td>26/03/2013 3:16</td>\n",
              "      <td>Everyone</td>\n",
              "      <td>http://www.exideas.com/ME/privacy.php</td>\n",
              "      <td>False</td>\n",
              "      <td>False</td>\n",
              "      <td>False</td>\n",
              "    </tr>\n",
              "  </tbody>\n",
              "</table>\n",
              "</div>"
            ],
            "text/plain": [
              "                              App Name  ... Editors Choice\n",
              "2811    100 великих авантюристов,обман  ...          False\n",
              "196738    Estonian MessagEase Wordlist  ...          False\n",
              "\n",
              "[2 rows x 23 columns]"
            ]
          },
          "metadata": {
            "tags": []
          },
          "execution_count": 43
        }
      ]
    },
    {
      "cell_type": "markdown",
      "metadata": {
        "id": "k4jCiMRNCqTV"
      },
      "source": [
        "# **DATA FILTERING**\r\n",
        "## Agenda: \r\n",
        "Data reduction down to ~100K rows, for a decent dataframe volume, shape, & a faster run in Google Data Studio.\r\n",
        "\r\n",
        "## Guidelines:\r\n",
        "- **Minimum Android** is the minimum android version which allowes operation for the app. The mose popular values were found: 4.1\\4.0.3\\6.0 and up & Varies with device.\r\n",
        "- **Size** must exceed 1MB.\r\n",
        "- **Currency** will be USD only.\r\n",
        "- **Last updated** during 2020.\r\n"
      ]
    },
    {
      "cell_type": "code",
      "metadata": {
        "id": "9oZc6jq8-gDP"
      },
      "source": [
        "#Coloumn labels space fix\r\n",
        "df.columns = [x.replace(\" \", \"_\") for x in df.columns]\r\n",
        "\r\n",
        "#Rows SELECT\r\n",
        "df = df.query('(Minimum_Android == \"4.1 and up\" | Minimum_Android == \"4.0.3 and up\" | Minimum_Android == \"Varies with device\" | \\\r\n",
        "Minimum_Android == \"6.0 and up\") & not Size.str.endswith(\"k\") & Currency == \"USD\" & Last_Updated.str.contains(\"2020\")',engine='python')\r\n",
        "\r\n",
        "#Coloumns FILTER\r\n",
        "df = df.filter(items=['App_Name', 'Category', 'Rating', 'Rating_Count', 'Installs', 'Minimum_Installs','Maximum_Installs', 'Price', 'Size','Released','Last_Updated','Ad_Supported', 'In_App_Purchases'])\r\n",
        "\r\n",
        "#Saving a copy of dataframe\r\n",
        "dfcopy = df.copy(deep=True)\r\n"
      ],
      "execution_count": 44,
      "outputs": []
    },
    {
      "cell_type": "code",
      "metadata": {
        "colab": {
          "base_uri": "https://localhost:8080/",
          "height": 376
        },
        "id": "AOYdQNUXWTdg",
        "outputId": "94cf9605-251b-457a-8f55-c821aea06894"
      },
      "source": [
        "\r\n",
        "print(\"Dataframe reduced shape is\", np.shape(df))\r\n",
        "df.sample(10)"
      ],
      "execution_count": 45,
      "outputs": [
        {
          "output_type": "stream",
          "text": [
            "Dataframe reduced shape is (112092, 13)\n"
          ],
          "name": "stdout"
        },
        {
          "output_type": "execute_result",
          "data": {
            "text/html": [
              "<div>\n",
              "<style scoped>\n",
              "    .dataframe tbody tr th:only-of-type {\n",
              "        vertical-align: middle;\n",
              "    }\n",
              "\n",
              "    .dataframe tbody tr th {\n",
              "        vertical-align: top;\n",
              "    }\n",
              "\n",
              "    .dataframe thead th {\n",
              "        text-align: right;\n",
              "    }\n",
              "</style>\n",
              "<table border=\"1\" class=\"dataframe\">\n",
              "  <thead>\n",
              "    <tr style=\"text-align: right;\">\n",
              "      <th></th>\n",
              "      <th>App_Name</th>\n",
              "      <th>Category</th>\n",
              "      <th>Rating</th>\n",
              "      <th>Rating_Count</th>\n",
              "      <th>Installs</th>\n",
              "      <th>Minimum_Installs</th>\n",
              "      <th>Maximum_Installs</th>\n",
              "      <th>Price</th>\n",
              "      <th>Size</th>\n",
              "      <th>Released</th>\n",
              "      <th>Last_Updated</th>\n",
              "      <th>Ad_Supported</th>\n",
              "      <th>In_App_Purchases</th>\n",
              "    </tr>\n",
              "  </thead>\n",
              "  <tbody>\n",
              "    <tr>\n",
              "      <th>314008</th>\n",
              "      <td>LastPass Authenticator</td>\n",
              "      <td>Productivity</td>\n",
              "      <td>4.2</td>\n",
              "      <td>3162.0</td>\n",
              "      <td>500,000+</td>\n",
              "      <td>500000.0</td>\n",
              "      <td>962310</td>\n",
              "      <td>0.0</td>\n",
              "      <td>38M</td>\n",
              "      <td>Mar 16, 2016</td>\n",
              "      <td>20/07/2020 18:24</td>\n",
              "      <td>False</td>\n",
              "      <td>False</td>\n",
              "    </tr>\n",
              "    <tr>\n",
              "      <th>537700</th>\n",
              "      <td>The Healthy Mummy</td>\n",
              "      <td>Health &amp; Fitness</td>\n",
              "      <td>4.6</td>\n",
              "      <td>2206.0</td>\n",
              "      <td>50,000+</td>\n",
              "      <td>50000.0</td>\n",
              "      <td>87572</td>\n",
              "      <td>0.0</td>\n",
              "      <td>8.3M</td>\n",
              "      <td>Oct 16, 2018</td>\n",
              "      <td>21/07/2020 11:39</td>\n",
              "      <td>False</td>\n",
              "      <td>True</td>\n",
              "    </tr>\n",
              "    <tr>\n",
              "      <th>403479</th>\n",
              "      <td>Oden Master</td>\n",
              "      <td>Simulation</td>\n",
              "      <td>3.9</td>\n",
              "      <td>2386.0</td>\n",
              "      <td>100,000+</td>\n",
              "      <td>100000.0</td>\n",
              "      <td>295345</td>\n",
              "      <td>0.0</td>\n",
              "      <td>5.2M</td>\n",
              "      <td>Nov 14, 2017</td>\n",
              "      <td>05/06/2020 3:30</td>\n",
              "      <td>True</td>\n",
              "      <td>True</td>\n",
              "    </tr>\n",
              "    <tr>\n",
              "      <th>247561</th>\n",
              "      <td>Happy Birthday Greetings HD</td>\n",
              "      <td>Lifestyle</td>\n",
              "      <td>0.0</td>\n",
              "      <td>0.0</td>\n",
              "      <td>500+</td>\n",
              "      <td>500.0</td>\n",
              "      <td>816</td>\n",
              "      <td>0.0</td>\n",
              "      <td>3.4M</td>\n",
              "      <td>Jul 2, 2016</td>\n",
              "      <td>22/02/2020 22:01</td>\n",
              "      <td>True</td>\n",
              "      <td>False</td>\n",
              "    </tr>\n",
              "    <tr>\n",
              "      <th>519618</th>\n",
              "      <td>Super Wellness</td>\n",
              "      <td>Health &amp; Fitness</td>\n",
              "      <td>0.0</td>\n",
              "      <td>0.0</td>\n",
              "      <td>10+</td>\n",
              "      <td>10.0</td>\n",
              "      <td>30</td>\n",
              "      <td>0.0</td>\n",
              "      <td>7.9M</td>\n",
              "      <td>Aug 18, 2017</td>\n",
              "      <td>11/06/2020 23:25</td>\n",
              "      <td>False</td>\n",
              "      <td>False</td>\n",
              "    </tr>\n",
              "    <tr>\n",
              "      <th>308661</th>\n",
              "      <td>Kumpulan Lagu HITS 2020 Offline plus lirik</td>\n",
              "      <td>Music &amp; Audio</td>\n",
              "      <td>3.4</td>\n",
              "      <td>34.0</td>\n",
              "      <td>10,000+</td>\n",
              "      <td>10000.0</td>\n",
              "      <td>10164</td>\n",
              "      <td>0.0</td>\n",
              "      <td>36M</td>\n",
              "      <td>Dec 30, 2019</td>\n",
              "      <td>29/03/2020 12:18</td>\n",
              "      <td>True</td>\n",
              "      <td>False</td>\n",
              "    </tr>\n",
              "    <tr>\n",
              "      <th>260024</th>\n",
              "      <td>Horoscope of Money and Career - Daily &amp; Free</td>\n",
              "      <td>Finance</td>\n",
              "      <td>4.4</td>\n",
              "      <td>1142.0</td>\n",
              "      <td>100,000+</td>\n",
              "      <td>100000.0</td>\n",
              "      <td>152300</td>\n",
              "      <td>0.0</td>\n",
              "      <td>3.6M</td>\n",
              "      <td>Apr 5, 2013</td>\n",
              "      <td>29/06/2020 19:45</td>\n",
              "      <td>True</td>\n",
              "      <td>True</td>\n",
              "    </tr>\n",
              "    <tr>\n",
              "      <th>269084</th>\n",
              "      <td>한국항공대학교 모바일학생증(KAU ID)</td>\n",
              "      <td>Education</td>\n",
              "      <td>1.2</td>\n",
              "      <td>131.0</td>\n",
              "      <td>5,000+</td>\n",
              "      <td>5000.0</td>\n",
              "      <td>7619</td>\n",
              "      <td>0.0</td>\n",
              "      <td>3.7M</td>\n",
              "      <td>Feb 24, 2017</td>\n",
              "      <td>08/01/2020 10:26</td>\n",
              "      <td>False</td>\n",
              "      <td>False</td>\n",
              "    </tr>\n",
              "    <tr>\n",
              "      <th>67229</th>\n",
              "      <td>Baby Story Tracker Milestone Sticker Photo Editor</td>\n",
              "      <td>Photography</td>\n",
              "      <td>4.7</td>\n",
              "      <td>1531.0</td>\n",
              "      <td>100,000+</td>\n",
              "      <td>100000.0</td>\n",
              "      <td>412088</td>\n",
              "      <td>0.0</td>\n",
              "      <td>13M</td>\n",
              "      <td>Nov 18, 2019</td>\n",
              "      <td>09/07/2020 22:11</td>\n",
              "      <td>True</td>\n",
              "      <td>True</td>\n",
              "    </tr>\n",
              "    <tr>\n",
              "      <th>283898</th>\n",
              "      <td>스마트 원패스 시스템</td>\n",
              "      <td>Tools</td>\n",
              "      <td>2.8</td>\n",
              "      <td>95.0</td>\n",
              "      <td>10,000+</td>\n",
              "      <td>10000.0</td>\n",
              "      <td>25504</td>\n",
              "      <td>0.0</td>\n",
              "      <td>3.9M</td>\n",
              "      <td>Oct 22, 2017</td>\n",
              "      <td>25/03/2020 8:38</td>\n",
              "      <td>False</td>\n",
              "      <td>False</td>\n",
              "    </tr>\n",
              "  </tbody>\n",
              "</table>\n",
              "</div>"
            ],
            "text/plain": [
              "                                                 App_Name  ... In_App_Purchases\n",
              "314008                             LastPass Authenticator  ...            False\n",
              "537700                                  The Healthy Mummy  ...             True\n",
              "403479                                        Oden Master  ...             True\n",
              "247561                        Happy Birthday Greetings HD  ...            False\n",
              "519618                                     Super Wellness  ...            False\n",
              "308661         Kumpulan Lagu HITS 2020 Offline plus lirik  ...            False\n",
              "260024       Horoscope of Money and Career - Daily & Free  ...             True\n",
              "269084                             한국항공대학교 모바일학생증(KAU ID)  ...            False\n",
              "67229   Baby Story Tracker Milestone Sticker Photo Editor  ...             True\n",
              "283898                                        스마트 원패스 시스템  ...            False\n",
              "\n",
              "[10 rows x 13 columns]"
            ]
          },
          "metadata": {
            "tags": []
          },
          "execution_count": 45
        }
      ]
    },
    {
      "cell_type": "markdown",
      "metadata": {
        "id": "4KbzaVM8FcLk"
      },
      "source": [
        "# **CHECKPOINT DATA INFO**"
      ]
    },
    {
      "cell_type": "code",
      "metadata": {
        "colab": {
          "base_uri": "https://localhost:8080/"
        },
        "id": "CZi23I8UxwDS",
        "outputId": "29f8432b-a0fa-425e-c302-e2bb9bb24774"
      },
      "source": [
        "print(\"Dataframe NULL count:\")\r\n",
        "print(df.isnull().sum(axis = 0), end=\"\\n\\n\")\r\n",
        "\r\n",
        "df.info()"
      ],
      "execution_count": 46,
      "outputs": [
        {
          "output_type": "stream",
          "text": [
            "Dataframe NULL count:\n",
            "App_Name               1\n",
            "Category               0\n",
            "Rating              1880\n",
            "Rating_Count        1880\n",
            "Installs               0\n",
            "Minimum_Installs       0\n",
            "Maximum_Installs       0\n",
            "Price                  0\n",
            "Size                   0\n",
            "Released            6338\n",
            "Last_Updated           0\n",
            "Ad_Supported           0\n",
            "In_App_Purchases       0\n",
            "dtype: int64\n",
            "\n",
            "<class 'pandas.core.frame.DataFrame'>\n",
            "Int64Index: 112092 entries, 20 to 603046\n",
            "Data columns (total 13 columns):\n",
            " #   Column            Non-Null Count   Dtype  \n",
            "---  ------            --------------   -----  \n",
            " 0   App_Name          112091 non-null  object \n",
            " 1   Category          112092 non-null  object \n",
            " 2   Rating            110212 non-null  float64\n",
            " 3   Rating_Count      110212 non-null  float64\n",
            " 4   Installs          112092 non-null  object \n",
            " 5   Minimum_Installs  112092 non-null  float64\n",
            " 6   Maximum_Installs  112092 non-null  int64  \n",
            " 7   Price             112092 non-null  float64\n",
            " 8   Size              112092 non-null  object \n",
            " 9   Released          105754 non-null  object \n",
            " 10  Last_Updated      112092 non-null  object \n",
            " 11  Ad_Supported      112092 non-null  bool   \n",
            " 12  In_App_Purchases  112092 non-null  bool   \n",
            "dtypes: bool(2), float64(4), int64(1), object(6)\n",
            "memory usage: 10.5+ MB\n"
          ],
          "name": "stdout"
        }
      ]
    },
    {
      "cell_type": "code",
      "metadata": {
        "id": "41jvzDvQFZcn"
      },
      "source": [
        ""
      ],
      "execution_count": null,
      "outputs": []
    },
    {
      "cell_type": "markdown",
      "metadata": {
        "id": "bjUUEiC6qUR1"
      },
      "source": [
        "# **DATA OPTIMIZATION**\r\n",
        "- A null value that was found in **App_Name** is not acceptable for further analysis, also 4 apps named: \"#NAME?\" should be cleaned.\r\n",
        "- The null values in **Rating, Rating_Count** will be replaced with mean values.\r\n",
        "- Column dtypes will be corrected if necessary.\r\n",
        "- Column values type will be corrected if necessary.\r\n",
        "- Adding \"Ad_bool\" column, which is identical to Ad_Suppored but with 0 and 1 values, for aggregation actions such as Sum. "
      ]
    },
    {
      "cell_type": "code",
      "metadata": {
        "id": "tfA_6YJxtrJm"
      },
      "source": [
        "#NULL Extraction\r\n",
        "df = df.query('not App_Name.isnull() & not App_Name==\"#NAME?\"',engine='python')\r\n",
        "\r\n",
        "# Function replaces np.nan values in all of the data frame with relevant statistics \\ dal7collab\r\n",
        "def rep_missings(data_frame):\r\n",
        "    d = data_frame.copy(deep = True)\r\n",
        "    for c in data_frame:\r\n",
        "        if (data_frame[c].dtype == 'float64'): #or data_frame[c].dtype == 'float32' or data_frame[c].dtype == 'int32' or data_frame[c].dtype == 'int64'):\r\n",
        "            if data_frame[c].isnull().values.any() :\r\n",
        "                m = data_frame[c].dropna().mean()\r\n",
        "                d[c].fillna(m, inplace = True)\r\n",
        "    return d;\r\n",
        "\r\n",
        "# Activating the function\r\n",
        "df = rep_missings(df)"
      ],
      "execution_count": 47,
      "outputs": []
    },
    {
      "cell_type": "code",
      "metadata": {
        "id": "HEmyDEgPqjIh",
        "colab": {
          "base_uri": "https://localhost:8080/",
          "height": 376
        },
        "outputId": "f6b00f22-0f7e-4925-a873-89e0b0a820cd"
      },
      "source": [
        "\r\n",
        "df['Size'] = df['Size'].replace(to_replace=\"Varies with device\", #'Size' coloumn excluding \"Varies with device\".\r\n",
        "                                   value = np.nan)\r\n",
        "df['Size'] = df['Size'].str.replace('M',\"\") #trimming 'M' from all values in order to set as int.\r\n",
        "\r\n",
        "#Adding Ad_bool column, described above.\r\n",
        "\r\n",
        "df['Ad_Supported'] = df['Ad_Supported'].astype({'Ad_Supported': 'string'})\r\n",
        "df['Ad_bool']= df['Ad_Supported']\r\n",
        "df['Ad_bool']= df['Ad_bool'].str.replace(\"True\", \"1\")\r\n",
        "df['Ad_bool']= df['Ad_bool'].str.replace(\"False\", \"0\")\r\n",
        "\r\n",
        "#Coloumn types correction\r\n",
        "df['App_Name'] = df['App_Name'].astype({'App_Name': 'string'})\r\n",
        "df['Category'] = df['Category'].astype({'Category': 'string'})\r\n",
        "df['Rating'] = df['Rating'].astype({'Rating': 'float32'})\r\n",
        "df['Rating_Count'] = df['Rating_Count'].astype({'Rating_Count': 'int64'})\r\n",
        "df['Installs'] = df['Installs'].astype({'Installs': 'string'})\r\n",
        "df['Minimum_Installs'] = df['Minimum_Installs'].astype({'Minimum_Installs': 'int64'})\r\n",
        "df['Price'] = df['Price'].astype({'Price': 'float32'})\r\n",
        "df['Released'] = pd.to_datetime(df['Released']).dt.strftime('%Y-%m') #Fetching only yyyy-mm from the full datetime.\r\n",
        "df['Last_Updated'] = pd.to_datetime(df['Last_Updated']).dt.strftime('%Y-%m') #Fetching only mm-yyyy from the full datetime.\r\n",
        "df['Size'] = df['Size'].astype({'Size': 'float32'})\r\n",
        "df['Ad_bool'] = df['Ad_bool'].astype({'Ad_bool': 'int8'})\r\n",
        "\r\n",
        "\r\n",
        "print(\"Dataframe final shape is\", np.shape(df))\r\n",
        "df.sample(10)"
      ],
      "execution_count": 48,
      "outputs": [
        {
          "output_type": "stream",
          "text": [
            "Dataframe final shape is (112087, 14)\n"
          ],
          "name": "stdout"
        },
        {
          "output_type": "execute_result",
          "data": {
            "text/html": [
              "<div>\n",
              "<style scoped>\n",
              "    .dataframe tbody tr th:only-of-type {\n",
              "        vertical-align: middle;\n",
              "    }\n",
              "\n",
              "    .dataframe tbody tr th {\n",
              "        vertical-align: top;\n",
              "    }\n",
              "\n",
              "    .dataframe thead th {\n",
              "        text-align: right;\n",
              "    }\n",
              "</style>\n",
              "<table border=\"1\" class=\"dataframe\">\n",
              "  <thead>\n",
              "    <tr style=\"text-align: right;\">\n",
              "      <th></th>\n",
              "      <th>App_Name</th>\n",
              "      <th>Category</th>\n",
              "      <th>Rating</th>\n",
              "      <th>Rating_Count</th>\n",
              "      <th>Installs</th>\n",
              "      <th>Minimum_Installs</th>\n",
              "      <th>Maximum_Installs</th>\n",
              "      <th>Price</th>\n",
              "      <th>Size</th>\n",
              "      <th>Released</th>\n",
              "      <th>Last_Updated</th>\n",
              "      <th>Ad_Supported</th>\n",
              "      <th>In_App_Purchases</th>\n",
              "      <th>Ad_bool</th>\n",
              "    </tr>\n",
              "  </thead>\n",
              "  <tbody>\n",
              "    <tr>\n",
              "      <th>458610</th>\n",
              "      <td>Real Bike Stunt Racer 3D - Motorcylce Games 2020</td>\n",
              "      <td>Travel &amp; Local</td>\n",
              "      <td>4.6</td>\n",
              "      <td>170</td>\n",
              "      <td>100,000+</td>\n",
              "      <td>100000</td>\n",
              "      <td>106306</td>\n",
              "      <td>0.0</td>\n",
              "      <td>6.2</td>\n",
              "      <td>2019-05</td>\n",
              "      <td>2020-07</td>\n",
              "      <td>True</td>\n",
              "      <td>True</td>\n",
              "      <td>1</td>\n",
              "    </tr>\n",
              "    <tr>\n",
              "      <th>96975</th>\n",
              "      <td>Bus Simulator 2015 New York</td>\n",
              "      <td>Simulation</td>\n",
              "      <td>3.7</td>\n",
              "      <td>28793</td>\n",
              "      <td>1,000,000+</td>\n",
              "      <td>1000000</td>\n",
              "      <td>2969673</td>\n",
              "      <td>0.0</td>\n",
              "      <td>16.0</td>\n",
              "      <td>2015-07</td>\n",
              "      <td>2020-06</td>\n",
              "      <td>True</td>\n",
              "      <td>True</td>\n",
              "      <td>1</td>\n",
              "    </tr>\n",
              "    <tr>\n",
              "      <th>541444</th>\n",
              "      <td>Thunder Assault: Raiden Striker</td>\n",
              "      <td>Arcade</td>\n",
              "      <td>4.5</td>\n",
              "      <td>135492</td>\n",
              "      <td>5,000,000+</td>\n",
              "      <td>5000000</td>\n",
              "      <td>6668803</td>\n",
              "      <td>0.0</td>\n",
              "      <td>8.4</td>\n",
              "      <td>2015-08</td>\n",
              "      <td>2020-09</td>\n",
              "      <td>True</td>\n",
              "      <td>True</td>\n",
              "      <td>1</td>\n",
              "    </tr>\n",
              "    <tr>\n",
              "      <th>374157</th>\n",
              "      <td>Name Art - Write Name With Candle</td>\n",
              "      <td>Art &amp; Design</td>\n",
              "      <td>4.5</td>\n",
              "      <td>313</td>\n",
              "      <td>100,000+</td>\n",
              "      <td>100000</td>\n",
              "      <td>108943</td>\n",
              "      <td>0.0</td>\n",
              "      <td>40.0</td>\n",
              "      <td>2018-09</td>\n",
              "      <td>2020-09</td>\n",
              "      <td>True</td>\n",
              "      <td>False</td>\n",
              "      <td>1</td>\n",
              "    </tr>\n",
              "    <tr>\n",
              "      <th>210204</th>\n",
              "      <td>fishing time</td>\n",
              "      <td>Puzzle</td>\n",
              "      <td>0.0</td>\n",
              "      <td>0</td>\n",
              "      <td>5+</td>\n",
              "      <td>5</td>\n",
              "      <td>5</td>\n",
              "      <td>0.0</td>\n",
              "      <td>27.0</td>\n",
              "      <td>2020-04</td>\n",
              "      <td>2020-04</td>\n",
              "      <td>True</td>\n",
              "      <td>False</td>\n",
              "      <td>1</td>\n",
              "    </tr>\n",
              "    <tr>\n",
              "      <th>30117</th>\n",
              "      <td>Acı Mesajlar</td>\n",
              "      <td>Entertainment</td>\n",
              "      <td>5.0</td>\n",
              "      <td>7</td>\n",
              "      <td>1,000+</td>\n",
              "      <td>1000</td>\n",
              "      <td>1623</td>\n",
              "      <td>0.0</td>\n",
              "      <td>11.0</td>\n",
              "      <td>2017-07</td>\n",
              "      <td>2020-11</td>\n",
              "      <td>True</td>\n",
              "      <td>False</td>\n",
              "      <td>1</td>\n",
              "    </tr>\n",
              "    <tr>\n",
              "      <th>62600</th>\n",
              "      <td>Autobahn</td>\n",
              "      <td>Finance</td>\n",
              "      <td>4.5</td>\n",
              "      <td>14</td>\n",
              "      <td>1,000+</td>\n",
              "      <td>1000</td>\n",
              "      <td>1500</td>\n",
              "      <td>0.0</td>\n",
              "      <td>28.0</td>\n",
              "      <td>2018-12</td>\n",
              "      <td>2020-07</td>\n",
              "      <td>False</td>\n",
              "      <td>False</td>\n",
              "      <td>0</td>\n",
              "    </tr>\n",
              "    <tr>\n",
              "      <th>316275</th>\n",
              "      <td>Learn Armenian - 50 languages</td>\n",
              "      <td>Education</td>\n",
              "      <td>4.5</td>\n",
              "      <td>179</td>\n",
              "      <td>10,000+</td>\n",
              "      <td>10000</td>\n",
              "      <td>27651</td>\n",
              "      <td>0.0</td>\n",
              "      <td>39.0</td>\n",
              "      <td>2016-10</td>\n",
              "      <td>2020-11</td>\n",
              "      <td>True</td>\n",
              "      <td>True</td>\n",
              "      <td>1</td>\n",
              "    </tr>\n",
              "    <tr>\n",
              "      <th>295144</th>\n",
              "      <td>Kaizen English Gujarati spoken English app</td>\n",
              "      <td>Education</td>\n",
              "      <td>4.1</td>\n",
              "      <td>477</td>\n",
              "      <td>50,000+</td>\n",
              "      <td>50000</td>\n",
              "      <td>59027</td>\n",
              "      <td>0.0</td>\n",
              "      <td>NaN</td>\n",
              "      <td>2015-10</td>\n",
              "      <td>2020-07</td>\n",
              "      <td>True</td>\n",
              "      <td>True</td>\n",
              "      <td>1</td>\n",
              "    </tr>\n",
              "    <tr>\n",
              "      <th>83142</th>\n",
              "      <td>Biocom - ביוקום</td>\n",
              "      <td>Business</td>\n",
              "      <td>3.4</td>\n",
              "      <td>13</td>\n",
              "      <td>1,000+</td>\n",
              "      <td>1000</td>\n",
              "      <td>2322</td>\n",
              "      <td>0.0</td>\n",
              "      <td>14.0</td>\n",
              "      <td>2016-02</td>\n",
              "      <td>2020-05</td>\n",
              "      <td>False</td>\n",
              "      <td>False</td>\n",
              "      <td>0</td>\n",
              "    </tr>\n",
              "  </tbody>\n",
              "</table>\n",
              "</div>"
            ],
            "text/plain": [
              "                                                App_Name  ... Ad_bool\n",
              "458610  Real Bike Stunt Racer 3D - Motorcylce Games 2020  ...       1\n",
              "96975                        Bus Simulator 2015 New York  ...       1\n",
              "541444                   Thunder Assault: Raiden Striker  ...       1\n",
              "374157                 Name Art - Write Name With Candle  ...       1\n",
              "210204                                      fishing time  ...       1\n",
              "30117                                       Acı Mesajlar  ...       1\n",
              "62600                                           Autobahn  ...       0\n",
              "316275                     Learn Armenian - 50 languages  ...       1\n",
              "295144        Kaizen English Gujarati spoken English app  ...       1\n",
              "83142                                    Biocom - ביוקום  ...       0\n",
              "\n",
              "[10 rows x 14 columns]"
            ]
          },
          "metadata": {
            "tags": []
          },
          "execution_count": 48
        }
      ]
    },
    {
      "cell_type": "markdown",
      "metadata": {
        "id": "mn9l1_U0zIbc"
      },
      "source": [
        "# **POSTPROCESSING DATA INFO**"
      ]
    },
    {
      "cell_type": "code",
      "metadata": {
        "colab": {
          "base_uri": "https://localhost:8080/"
        },
        "id": "2eHJdY7AzLgn",
        "outputId": "2b320c22-e0cc-4c9f-a1ce-76afe7a1e96c"
      },
      "source": [
        "#Genereal information after preprocessing\r\n",
        "print(df.info(),end = '\\n\\n')"
      ],
      "execution_count": 52,
      "outputs": [
        {
          "output_type": "stream",
          "text": [
            "<class 'pandas.core.frame.DataFrame'>\n",
            "Int64Index: 112087 entries, 20 to 602972\n",
            "Data columns (total 14 columns):\n",
            " #   Column            Non-Null Count   Dtype  \n",
            "---  ------            --------------   -----  \n",
            " 0   App_Name          112087 non-null  string \n",
            " 1   Category          112087 non-null  string \n",
            " 2   Rating            112087 non-null  float32\n",
            " 3   Rating_Count      112087 non-null  int64  \n",
            " 4   Installs          112087 non-null  string \n",
            " 5   Minimum_Installs  112087 non-null  int64  \n",
            " 6   Maximum_Installs  112087 non-null  int64  \n",
            " 7   Price             112087 non-null  float32\n",
            " 8   Size              101269 non-null  float32\n",
            " 9   Released          105749 non-null  object \n",
            " 10  Last_Updated      112087 non-null  object \n",
            " 11  Ad_Supported      112087 non-null  string \n",
            " 12  In_App_Purchases  112087 non-null  bool   \n",
            " 13  Ad_bool           112087 non-null  int8   \n",
            "dtypes: bool(1), float32(3), int64(3), int8(1), object(2), string(4)\n",
            "memory usage: 10.0+ MB\n",
            "None\n",
            "\n"
          ],
          "name": "stdout"
        }
      ]
    },
    {
      "cell_type": "markdown",
      "metadata": {
        "id": "Bsi_FjLDJaqf"
      },
      "source": [
        "# **EXPORT TO GOOGLE DRIVE**\r\n"
      ]
    },
    {
      "cell_type": "code",
      "metadata": {
        "id": "yYaUhkTKJsZ6"
      },
      "source": [
        "#Exporting a csv into google drive\r\n",
        "#df.to_csv('/content/drive/My Drive/GooglePlay-Store_Optimized_v13.csv')"
      ],
      "execution_count": 53,
      "outputs": []
    },
    {
      "cell_type": "markdown",
      "metadata": {
        "id": "plqueKPT0yyk"
      },
      "source": [
        "# **STATISTICS**"
      ]
    },
    {
      "cell_type": "code",
      "metadata": {
        "colab": {
          "base_uri": "https://localhost:8080/"
        },
        "id": "Yts92tunyYGV",
        "outputId": "1271cab2-c158-4e6f-b1dc-cd593b2ada48"
      },
      "source": [
        "#Retrieve coloumn general info \r\n",
        "name = 'Ad_bool'\r\n",
        "print(df[name].describe(include=[object]))\r\n",
        "print(\"Coloumn's real dtype is:\", df[name].dtypes)"
      ],
      "execution_count": 54,
      "outputs": [
        {
          "output_type": "stream",
          "text": [
            "count    112087.000000\n",
            "mean          0.619626\n",
            "std           0.485481\n",
            "min           0.000000\n",
            "25%           0.000000\n",
            "50%           1.000000\n",
            "75%           1.000000\n",
            "max           1.000000\n",
            "Name: Ad_bool, dtype: float64\n",
            "Coloumn's real dtype is: int8\n"
          ],
          "name": "stdout"
        }
      ]
    },
    {
      "cell_type": "code",
      "metadata": {
        "id": "ks9MuPzyqFnQ"
      },
      "source": [
        ""
      ],
      "execution_count": 51,
      "outputs": []
    }
  ]
}